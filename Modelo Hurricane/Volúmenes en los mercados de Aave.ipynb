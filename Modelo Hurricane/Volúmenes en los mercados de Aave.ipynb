{
 "cells": [
  {
   "cell_type": "code",
   "execution_count": 1,
   "id": "6eba475c",
   "metadata": {},
   "outputs": [],
   "source": [
    "#Libraries\n",
    "import pandas as pd\n",
    "import numpy as np\n",
    "import scipy\n",
    "import matplotlib.pyplot as plt\n",
    "import requests\n",
    "from datetime import datetime\n",
    "from pandas.io.json import json_normalize\n",
    "import pickle\n",
    "import os \n",
    "import sys\n",
    "from IPython.core.pylabtools import figsize"
   ]
  },
  {
   "cell_type": "code",
   "execution_count": 31,
   "id": "33675ba4",
   "metadata": {},
   "outputs": [
    {
     "name": "stdout",
     "output_type": "stream",
     "text": [
      "Requirement already satisfied: deficrawler in e:\\herramientas\\lib\\site-packages (0.2.4)\n",
      "Requirement already satisfied: dict-digger in e:\\herramientas\\lib\\site-packages (from deficrawler) (0.2.1)\n",
      "Requirement already satisfied: requests in e:\\herramientas\\lib\\site-packages (from deficrawler) (2.25.1)\n",
      "Requirement already satisfied: certifi>=2017.4.17 in e:\\herramientas\\lib\\site-packages (from requests->deficrawler) (2020.12.5)\n",
      "Requirement already satisfied: urllib3<1.27,>=1.21.1 in e:\\herramientas\\lib\\site-packages (from requests->deficrawler) (1.26.4)\n",
      "Requirement already satisfied: chardet<5,>=3.0.2 in e:\\herramientas\\lib\\site-packages (from requests->deficrawler) (4.0.0)\n",
      "Requirement already satisfied: idna<3,>=2.5 in e:\\herramientas\\lib\\site-packages (from requests->deficrawler) (2.10)\n"
     ]
    }
   ],
   "source": [
    "!pip install deficrawler"
   ]
  },
  {
   "cell_type": "code",
   "execution_count": 32,
   "id": "257b5e90",
   "metadata": {},
   "outputs": [],
   "source": [
    "from deficrawler import Lending"
   ]
  },
  {
   "cell_type": "code",
   "execution_count": 33,
   "id": "90e16851",
   "metadata": {},
   "outputs": [],
   "source": [
    "from deficrawler import Lending\n",
    "\n",
    "aave = Lending(protocol=\"Aave\", chain=\"Ethereum\", version=2)\n",
    "aave_polygon = Lending(protocol=\"Aave\", chain=\"Polygon\", version=2)\n",
    "compound = Lending(protocol=\"Compound\", chain=\"Ethereum\", version=2)\n",
    "cream = Lending(protocol=\"Cream\", chain=\"Ethereum\", version=2)\n",
    "cream_bsc = Lending(protocol=\"Cream\", chain=\"bsc\", version=2)"
   ]
  },
  {
   "cell_type": "code",
   "execution_count": 44,
   "id": "4f9d90a5",
   "metadata": {},
   "outputs": [
    {
     "name": "stdout",
     "output_type": "stream",
     "text": [
      "['borrow', 'deposit', 'liquidation', 'repay']\n"
     ]
    }
   ],
   "source": [
    "from deficrawler import Oracle\n",
    "from deficrawler import Dex\n",
    "from deficrawler import Lending\n",
    "\n",
    "# Lending protocols\n",
    "aave = Lending(protocol=\"Aave\", chain=\"Ethereum\", version=2)\n",
    "aave_polygon = Lending(protocol=\"Aave\", chain=\"Polygon\", version=2)\n",
    "compound = Lending(protocol=\"Compound\", chain=\"Ethereum\", version=2)\n",
    "cream = Lending(protocol=\"Cream\", chain=\"Ethereum\", version=2)\n",
    "cream_bsc = Lending(protocol=\"Cream\", chain=\"bsc\", version=2)\n",
    "\n",
    "\n",
    "# Supported entities for aave\n",
    "print(aave.supported_entities())\n",
    "\n",
    "# Get borrows in a time period\n",
    "start_date = '21/04/2021 00:00:01'\n",
    "end_date = '24/04/2021 23:59:00'\n",
    "\n",
    "\n",
    "# list_borrows = [*aave.get_data_from_date_range(start_date, end_date, \"borrow\"),\n",
    "#                 *aave_polygon.get_data_from_date_range(start_date, end_date, \"borrow\"),\n",
    "#                 *compound.get_data_from_date_range(start_date, end_date, \"borrow\"),\n",
    "#                 *cream_bsc.get_data_from_date_range(start_date, end_date, \"borrow\"),\n",
    "#                 *cream.get_data_from_date_range(start_date, end_date, \"borrow\")]\n",
    "\n",
    "\n",
    "# print(list_borrows)\n",
    "\n",
    "\n",
    "# AMM protocols\n",
    "uniswap = Dex(protocol=\"Uniswap\", chain=\"Ethereum\", version=2)\n",
    "balancer = Dex(protocol=\"Balancer\", chain=\"Ethereum\", version=1)\n",
    "bancor = Dex(\"Bancor\", chain=\"Ethereum\", version=1)\n",
    "shushi = Dex(\"SushiSwap\", chain=\"Ethereum\", version=1)\n",
    "\n",
    "\n",
    "# Get all the swaps in a time range\n",
    "start_date_amm = '10/05/2021 00:00:00'\n",
    "end_date_amm = '10/05/2021 02:00:00'\n",
    "\n",
    "# list_swaps = [*uniswap.get_data_from_date_range(start_date_amm, end_date_amm, \"swap\"),\n",
    "#               *balancer.get_data_from_date_range(start_date_amm, end_date_amm, \"swap\"),\n",
    "#               *bancor.get_data_from_date_range(start_date_amm, end_date_amm, \"swap\"),\n",
    "#               *shushi.get_data_from_date_range(start_date_amm, end_date_amm, \"swap\")]\n",
    "\n",
    "\n",
    "# print(list_swaps)\n",
    "\n",
    "# Oracles\n",
    "chainlink = Oracle(protocol=\"chainlink\", version=1, chain=\"Ethereum\")\n",
    "\n",
    "# Get the ETH/USD price of a period\n",
    "start_date = '10/04/2021 00:00:01'\n",
    "end_date = '10/05/2021 23:59:00'\n",
    "# price_eth = chainlink.get_price_from_date_range(\n",
    "#     from_date=start_date, to_date=end_date, pair=\"ETH/USD\")\n",
    "\n",
    "# print(price_eth)"
   ]
  },
  {
   "cell_type": "code",
   "execution_count": null,
   "id": "70f4872e",
   "metadata": {},
   "outputs": [],
   "source": [
    "aave."
   ]
  }
 ],
 "metadata": {
  "kernelspec": {
   "display_name": "Python 3",
   "language": "python",
   "name": "python3"
  },
  "language_info": {
   "codemirror_mode": {
    "name": "ipython",
    "version": 3
   },
   "file_extension": ".py",
   "mimetype": "text/x-python",
   "name": "python",
   "nbconvert_exporter": "python",
   "pygments_lexer": "ipython3",
   "version": "3.8.8"
  }
 },
 "nbformat": 4,
 "nbformat_minor": 5
}
