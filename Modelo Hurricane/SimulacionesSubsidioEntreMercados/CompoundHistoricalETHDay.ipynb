{
 "cells": [
  {
   "cell_type": "markdown",
   "metadata": {},
   "source": [
    "# ETH: Download Historical Data from Compound API"
   ]
  },
  {
   "cell_type": "code",
   "execution_count": 2,
   "metadata": {},
   "outputs": [],
   "source": [
    "#Libraries\n",
    "import pandas as pd\n",
    "import numpy as np\n",
    "import scipy\n",
    "import matplotlib.pyplot as plt\n",
    "import requests\n",
    "from datetime import datetime\n",
    "from pandas.io.json import json_normalize\n",
    "import pickle\n",
    "import os \n",
    "import sys"
   ]
  },
  {
   "cell_type": "code",
   "execution_count": 3,
   "metadata": {},
   "outputs": [],
   "source": [
    "pathAPI = os.getcwd()\n",
    "pathData = os.path.join(pathAPI,'data')"
   ]
  },
  {
   "cell_type": "code",
   "execution_count": 4,
   "metadata": {},
   "outputs": [],
   "source": [
    "# API URL Compound, https://compound.finance/docs/api#MarketHistoryService\n",
    "urlcomp = 'https://api.compound.finance/api/v2/market_history/graph'"
   ]
  },
  {
   "cell_type": "code",
   "execution_count": 5,
   "metadata": {},
   "outputs": [],
   "source": [
    "#Assets\n",
    "cETH='0x4ddc2d193948926d02f9b1fe9e1daa0718270ed5'\n",
    "cSAI='0xf5dce57282a584d2746faf1593d3121fcac444dc'\n",
    "cDAI='0x5d3a536e4d6dbd6114cc1ead35777bab948e3643'\n",
    "cUSDC='0x39aa39c021dfbae8fac545936693ac917d5e7563'"
   ]
  },
  {
   "cell_type": "code",
   "execution_count": 6,
   "metadata": {},
   "outputs": [],
   "source": [
    "#Time Frame\n",
    "startT='21-06-8 00:00:00'\n",
    "endT='21-06-9 00:00:00'\n",
    "startT=datetime.strptime(startT, '%y-%m-%d %H:%M:%S')\n",
    "endT=datetime.strptime(endT, '%y-%m-%d %H:%M:%S')"
   ]
  },
  {
   "cell_type": "code",
   "execution_count": 7,
   "metadata": {},
   "outputs": [],
   "source": [
    "#To Unix time stamp\n",
    "UstartT=datetime.timestamp(startT)\n",
    "UendT=datetime.timestamp(endT)"
   ]
  },
  {
   "cell_type": "code",
   "execution_count": 8,
   "metadata": {},
   "outputs": [
    {
     "name": "stdout",
     "output_type": "stream",
     "text": [
      "1623128400.0\n",
      "1623214800.0\n"
     ]
    }
   ],
   "source": [
    "print(UstartT)\n",
    "print(UendT)"
   ]
  },
  {
   "cell_type": "code",
   "execution_count": 9,
   "metadata": {},
   "outputs": [],
   "source": [
    "#Blocks per day\n",
    "BlocksPerDay=6570"
   ]
  },
  {
   "cell_type": "code",
   "execution_count": 22,
   "metadata": {},
   "outputs": [],
   "source": [
    "params = {\"asset\": cUSDC,\n",
    " \"min_block_timestamp\": 1623128400,\n",
    " \"max_block_timestamp\": 1623214800,\n",
    " \"num_buckets\": BlocksPerDay}"
   ]
  },
  {
   "cell_type": "code",
   "execution_count": 23,
   "metadata": {},
   "outputs": [],
   "source": [
    "response = requests.get(urlcomp,params)\n",
    "cethHD = response.json()"
   ]
  },
  {
   "cell_type": "code",
   "execution_count": 14,
   "metadata": {},
   "outputs": [],
   "source": [
    "#Save Data\n",
    "#f = open(os.path.join(pathData,'cETH_block_10_05_21.pickle'), 'wb')\n",
    "#pickle.dump(cethHD, f,-1)          \n",
    "#f.close()    "
   ]
  },
  {
   "cell_type": "code",
   "execution_count": 15,
   "metadata": {},
   "outputs": [],
   "source": [
    "#Load Downloaded Data\n",
    "#f = open(os.path.join(pathData,'cETH_block_10_05_21.pickle'), 'rb')\n",
    "#cethHD = pickle.load(f)     \n",
    "#f.close() "
   ]
  },
  {
   "cell_type": "code",
   "execution_count": 24,
   "metadata": {},
   "outputs": [],
   "source": [
    "#Retrive data\n",
    "BR=json_normalize(cethHD['borrow_rates'],sep=\"_\")\n",
    "BR['rate'] = BR['rate'].astype(float)\n",
    "BR.index=pd.to_datetime(BR['block_timestamp'], unit='s')\n",
    "BR=BR.rate\n",
    "SR=json_normalize(cethHD['supply_rates'],sep=\"_\")\n",
    "SR['rate'] = SR['rate'].astype(float)\n",
    "SR.index=pd.to_datetime(SR['block_timestamp'], unit='s')\n",
    "SR=SR.rate\n",
    "TS=json_normalize(cethHD['total_supply_history'],sep=\"_\")\n",
    "TS['total_value'] = TS['total_value'].astype(float)\n",
    "TS.index=pd.to_datetime(TS['block_timestamp'], unit='s')\n",
    "TS=TS.total_value\n",
    "TB=json_normalize(cethHD['total_borrows_history'],sep=\"_\")\n",
    "TB['total_value'] = TB['total_value'].astype(float)\n",
    "TB.index=pd.to_datetime(TB['block_timestamp'], unit='s')\n",
    "TB=TB.total_value\n",
    "Xrate=json_normalize(cethHD['exchange_rates'],sep=\"_\")\n",
    "Xrate['rate'] = Xrate['rate'].astype(float)\n",
    "Xrate.index=pd.to_datetime(Xrate['block_timestamp'], unit='s')\n",
    "Xrate=Xrate.rate\n",
    "PUSD=json_normalize(cethHD['prices_usd'],sep=\"_\")\n",
    "PUSD['price_value'] = PUSD['price_value'].astype(float)\n",
    "PUSD.index=pd.to_datetime(PUSD['block_timestamp'], unit='s')\n",
    "PUSD=PUSD.price_value\n",
    "Uta=pd.Series((SR.values/(BR.values*(1-0.2))),index=BR.index) #Reserve Factor 20%"
   ]
  },
  {
   "cell_type": "code",
   "execution_count": 25,
   "metadata": {},
   "outputs": [],
   "source": [
    "#ETH data\n",
    "frame = {'Borrow Rate': BR, 'Utilization Rate': Uta,'Supply Rate': SR, 'T. Borrow': TB, 'T. Supply': TS,  'X_rate_cToken': Xrate, 'Tk.Price(USD)': PUSD }\n",
    "D_ETH = pd.DataFrame(frame)\n",
    "D_ETH.head()\n",
    "D_ETH.to_excel('CompundH_USDCblock_8_06_21.xlsx')"
   ]
  },
  {
   "cell_type": "code",
   "execution_count": null,
   "metadata": {},
   "outputs": [],
   "source": []
  }
 ],
 "metadata": {
  "kernelspec": {
   "display_name": "Python 3",
   "language": "python",
   "name": "python3"
  },
  "language_info": {
   "codemirror_mode": {
    "name": "ipython",
    "version": 3
   },
   "file_extension": ".py",
   "mimetype": "text/x-python",
   "name": "python",
   "nbconvert_exporter": "python",
   "pygments_lexer": "ipython3",
   "version": "3.8.8"
  }
 },
 "nbformat": 4,
 "nbformat_minor": 2
}
