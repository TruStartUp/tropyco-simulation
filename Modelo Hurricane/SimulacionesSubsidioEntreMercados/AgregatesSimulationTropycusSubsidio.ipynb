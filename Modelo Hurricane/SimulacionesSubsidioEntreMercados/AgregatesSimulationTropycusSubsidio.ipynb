{
 "cells": [
  {
   "cell_type": "markdown",
   "metadata": {},
   "source": [
    "# Monetary Aggregates"
   ]
  },
  {
   "cell_type": "code",
   "execution_count": 471,
   "metadata": {},
   "outputs": [],
   "source": [
    "#Libraries\n",
    "import pandas as pd\n",
    "import numpy as np\n",
    "import scipy\n",
    "import matplotlib.pyplot as plt\n",
    "import requests\n",
    "from datetime import datetime\n",
    "from pandas.io.json import json_normalize\n",
    "import pickle\n",
    "import os \n",
    "import sys"
   ]
  },
  {
   "cell_type": "code",
   "execution_count": 472,
   "metadata": {},
   "outputs": [],
   "source": [
    "#Number of daily simulations\n",
    "steps=100\n",
    "BlockPerDay=6570 #blocks per day\n",
    "BlocksPerYear=BlockPerDay*365\n",
    "BlockRate=BlocksPerYear"
   ]
  },
  {
   "cell_type": "code",
   "execution_count": 473,
   "metadata": {},
   "outputs": [],
   "source": [
    "BlockRate\n",
    "n = 1000000\n",
    "percentage = 1\n",
    "Delta= 2*60*24"
   ]
  },
  {
   "cell_type": "code",
   "execution_count": 474,
   "metadata": {},
   "outputs": [],
   "source": [
    "#Initialize Variables Market Volatile\n",
    "X1=np.zeros(steps) #Exchange Rate\n",
    "X1[0]=1/49.8906263347343\n",
    "IAs1=np.zeros(steps)  #Interest accumulated supply\n",
    "IAs1[0]=0 #\n",
    "TS1=np.zeros(steps)  #Total Supply\n",
    "TS1[0]=percentage*n/2500 # 1326781 #Total ETH\n",
    "TB1=np.zeros(steps)  #Total Borrows ETH\n",
    "TB1[0]=percentage*67190*(n/2500)/1326781 # 67190 #Total Borrows ETH\n",
    "IAb1=np.zeros(steps)  #Interest accumulated borrow\n",
    "IAb1[0]=0 #\n",
    "TR1=np.zeros(steps) #Total Reserves\n",
    "TR1[0]=percentage*326*(n/2500)/1326781 # 326 #Total Reserves ETH\n",
    "rateB1=np.zeros(steps) #Block Rate\n",
    "rateB1[0]=0 #\n",
    "rateS1=np.zeros(steps) #Block Rate\n",
    "rateS1[0]=0 #"
   ]
  },
  {
   "cell_type": "code",
   "execution_count": 475,
   "metadata": {},
   "outputs": [],
   "source": [
    "#Initialize Variables Market Stable 1\n",
    "X2=np.zeros(steps) #Exchange Rate\n",
    "X2[0]=1/45.3677485000342\n",
    "IAs2=np.zeros(steps)  #Interest accumulated supply\n",
    "IAs2[0]=0 #\n",
    "TS2=np.zeros(steps)  #Total Supply\n",
    "TS2[0]=3615296781*(n/2500)/1326781 # 3615296781 #Total \n",
    "TB2=np.zeros(steps)  #Total Borrows \n",
    "TB2[0]=2200559758*(n/2500)/1326781  # 2200559758 #Total Borrows \n",
    "IAb2=np.zeros(steps)  #Interest accumulated borrow\n",
    "IAb2[0]=0 #\n",
    "TR2=np.zeros(steps) #Total Reserves\n",
    "TR2[0]= 6199487*(n/2500)/1326781 # 6199487 #Total Reserves \n",
    "rateB2=np.zeros(steps) #Block Rate\n",
    "rateB2[0]=0 #\n",
    "rateS2=np.zeros(steps) #Block Rate\n",
    "rateS2[0]=0 #"
   ]
  },
  {
   "cell_type": "code",
   "execution_count": 476,
   "metadata": {},
   "outputs": [],
   "source": [
    "#Initialize Variables Market Stable 2\n",
    "X3=np.zeros(steps) #Exchange Rate\n",
    "X3[0]=1/46.5881718870464\n",
    "IAs3=np.zeros(steps)  #Interest accumulated supply\n",
    "IAs3[0]=0 #\n",
    "TS3=np.zeros(steps)  #Total Supply\n",
    "TS3[0]=3424342312*(n/2500)/1326781 # 3424342312 #Total \n",
    "TB3=np.zeros(steps)  #Total Borrows \n",
    "TB3[0]=2552616954*(n/2500)/1326781 # 2552616954 #Total Borrows \n",
    "IAb3=np.zeros(steps)  #Interest accumulated borrow\n",
    "IAb3[0]=0 #\n",
    "TR3=np.zeros(steps) #Total Reserves\n",
    "TR3[0]=12980202*(n/2500)/1326781 # 12980202 #Total Reserves \n",
    "rateB3=np.zeros(steps) #Block Rate\n",
    "rateB3[0]=0 #\n",
    "rateS3=np.zeros(steps) #Block Rate\n",
    "rateS3[0]=0 #"
   ]
  },
  {
   "cell_type": "code",
   "execution_count": 477,
   "metadata": {},
   "outputs": [],
   "source": [
    "#Initialize Variables Market Stable 3\n",
    "X4=np.zeros(steps) #Exchange Rate\n",
    "X4[0]=1/45.9779601935403\n",
    "IAs4=np.zeros(steps)  #Interest accumulated supply\n",
    "IAs4[0]=0 #\n",
    "TS4=np.zeros(steps)  #Total Supply\n",
    "TS4[0]=3519819547*(n/2500)/1326781 # 3519819547 #Total \n",
    "TB4=np.zeros(steps)  #Total Borrows \n",
    "TB4[0]=2376588356*(n/2500)/1326781 # 2376588356 #Total Borrows \n",
    "IAb4=np.zeros(steps)  #Interest accumulated borrow\n",
    "IAb4[0]=0 #\n",
    "TR4=np.zeros(steps) #Total Reserves\n",
    "TR4[0]=9589845*(n/2500)/1326781 # 9589845 #Total Reserves \n",
    "rateB4=np.zeros(steps) #Block Rate\n",
    "rateB4[0]=0 #\n",
    "rateS4=np.zeros(steps) #Block Rate\n",
    "rateS4[0]=0 #"
   ]
  },
  {
   "cell_type": "code",
   "execution_count": 478,
   "metadata": {},
   "outputs": [],
   "source": [
    "#Initial parameters and interest rate model\n",
    "#I=np.array([1]) #Index\n",
    "rF1=0.2\n",
    "rF2=0.07\n",
    "rF3=0.15\n",
    "rF4=0.07"
   ]
  },
  {
   "cell_type": "code",
   "execution_count": 479,
   "metadata": {},
   "outputs": [],
   "source": [
    "#Utilization\n",
    "def urate(S,B):\n",
    "    if S>0:\n",
    "        ur=B/S\n",
    "    else:\n",
    "        ur=0  \n",
    "    return ur"
   ]
  },
  {
   "cell_type": "code",
   "execution_count": 480,
   "metadata": {},
   "outputs": [],
   "source": [
    "Ut1=np.zeros(steps) #Utilization Rate\n",
    "Ut1[0]=TB1[0]/TS1[0]\n",
    "Ut2=np.zeros(steps) #Utilization Rate\n",
    "Ut2[0]=TB2[0]/TS2[0]\n",
    "Ut3=np.zeros(steps) #Utilization Rate\n",
    "Ut3[0]=TB3[0]/TS3[0]\n",
    "Ut4=np.zeros(steps) #Utilization Rate\n",
    "Ut4[0]=TB4[0]/TS4[0]"
   ]
  },
  {
   "cell_type": "code",
   "execution_count": 481,
   "metadata": {},
   "outputs": [
    {
     "name": "stdout",
     "output_type": "stream",
     "text": [
      "Utilization rate volatile 0.05064136432463233\n",
      "Utilization rate stable1 0.6086802526323495\n",
      "Utilization rate stable2 0.7454327638492235\n",
      "Utilization rate stable3 0.6752017608475427\n"
     ]
    }
   ],
   "source": [
    "print('Utilization rate volatile',Ut1[0])\n",
    "print('Utilization rate stable1',Ut2[0])\n",
    "print('Utilization rate stable2',Ut3[0])\n",
    "print('Utilization rate stable3',Ut4[0])"
   ]
  },
  {
   "cell_type": "markdown",
   "metadata": {},
   "source": [
    "## Interest Rate model Stable"
   ]
  },
  {
   "cell_type": "code",
   "execution_count": 482,
   "metadata": {},
   "outputs": [],
   "source": [
    "#Functions interest rate model\n",
    "def br2(u):\n",
    "    if u<=0.85:\n",
    "        rt=0.08+0.018*u\n",
    "    else:\n",
    "        rt=0.08+0.018*0.85+0.8*(u-0.85)\n",
    "    return rt\n",
    "def sr2(u):\n",
    "    return u*br2(u)*(1-rF2)"
   ]
  },
  {
   "cell_type": "code",
   "execution_count": 483,
   "metadata": {},
   "outputs": [],
   "source": [
    "#Functions interest rate model\n",
    "def br3(u):\n",
    "    if u<=0.8:\n",
    "        rt=0.1+0.015*u\n",
    "    else:\n",
    "        rt=0.01+0.015*0.8+1*(u-0.8)\n",
    "    return rt\n",
    "def sr3(u):\n",
    "    return u*br3(u)*(1-rF3)"
   ]
  },
  {
   "cell_type": "code",
   "execution_count": 484,
   "metadata": {},
   "outputs": [],
   "source": [
    "#Functions interest rate model\n",
    "def br4(u):\n",
    "    if u<=0.8:\n",
    "        rt=0.1+0.015*u\n",
    "    else:\n",
    "        rt=0.01+0.015*0.8+1*(u-0.8)\n",
    "    return rt\n",
    "def sr4(u):\n",
    "    return u*br4(u)*(1-rF4)"
   ]
  },
  {
   "cell_type": "code",
   "execution_count": 485,
   "metadata": {},
   "outputs": [],
   "source": [
    "Br2=np.zeros(steps) #Borrow Rate\n",
    "Br2[0]=br2(TB2[0]/TS2[0])\n",
    "Sr2=np.zeros(steps) #Supply Rate\n",
    "Sr2[0]=sr2(TB2[0]/TS2[0])\n",
    "Br3=np.zeros(steps) #Borrow Rate\n",
    "Br3[0]=br3(TB3[0]/TS3[0])\n",
    "Sr3=np.zeros(steps) #Supply Rate\n",
    "Sr3[0]=sr3(TB3[0]/TS3[0])\n",
    "Br4=np.zeros(steps) #Borrow Rate\n",
    "Br4[0]=br4(TB4[0]/TS4[0])\n",
    "Sr4=np.zeros(steps) #Supply Rate\n",
    "Sr4[0]=sr4(TB4[0]/TS4[0])"
   ]
  },
  {
   "cell_type": "code",
   "execution_count": 486,
   "metadata": {},
   "outputs": [
    {
     "name": "stdout",
     "output_type": "stream",
     "text": [
      "Borrow Rate stable 1 0.0909562445473823\n",
      "Supply Rate stable 1 0.051487841015919085\n",
      "Borrow Rate stable 2 0.11118149145773835\n",
      "Supply Rate stable 2 0.07044657749628762\n",
      "Borrow Rate stable 3 0.11012802641271315\n",
      "Supply Rate stable 3 0.0691535327378516\n"
     ]
    }
   ],
   "source": [
    "print('Borrow Rate stable 1',Br2[0])\n",
    "print('Supply Rate stable 1',Sr2[0])\n",
    "print('Borrow Rate stable 2',Br3[0])\n",
    "print('Supply Rate stable 2',Sr3[0])\n",
    "print('Borrow Rate stable 3',Br4[0])\n",
    "print('Supply Rate stable 3',Sr4[0])"
   ]
  },
  {
   "cell_type": "markdown",
   "metadata": {},
   "source": [
    "## Interest Rate volatile linear model target 5%"
   ]
  },
  {
   "cell_type": "code",
   "execution_count": 487,
   "metadata": {},
   "outputs": [],
   "source": [
    "#Functions interest rate model\n",
    "def br1(u):\n",
    "    return 0.08+0.04*u\n",
    "def sr1(u):\n",
    "    return 0.04+0.02*u"
   ]
  },
  {
   "cell_type": "code",
   "execution_count": 488,
   "metadata": {},
   "outputs": [],
   "source": [
    "Br1=np.zeros(steps) #Borrow Rate\n",
    "Br1[0]=br1(TB1[0]/TS1[0])\n",
    "Sr1=np.zeros(steps) #Supply Rate\n",
    "Sr1[0]=sr1(TB1[0]/TS1[0])"
   ]
  },
  {
   "cell_type": "code",
   "execution_count": 489,
   "metadata": {},
   "outputs": [
    {
     "name": "stdout",
     "output_type": "stream",
     "text": [
      "Borrow Rate volatile 0.0820256545729853\n",
      "Supply Rate volatile 0.04101282728649265\n"
     ]
    }
   ],
   "source": [
    "print('Borrow Rate volatile',Br1[0])\n",
    "print('Supply Rate volatile',Sr1[0])"
   ]
  },
  {
   "cell_type": "markdown",
   "metadata": {},
   "source": [
    "## Simulate Aggregates"
   ]
  },
  {
   "cell_type": "code",
   "execution_count": 490,
   "metadata": {
    "scrolled": true
   },
   "outputs": [
    {
     "data": {
      "text/plain": [
       "3.053487460229372"
      ]
     },
     "execution_count": 490,
     "metadata": {},
     "output_type": "execute_result"
    }
   ],
   "source": [
    "1012.8272864926465*10000000/(1326781*2500)"
   ]
  },
  {
   "cell_type": "code",
   "execution_count": 491,
   "metadata": {},
   "outputs": [],
   "source": [
    "#Simulate 1st steps\n",
    "def sim_agg(T):\n",
    "    #Market 1 volatile\n",
    "    # Nio1=np.random.uniform(low=-500, high=50, size=T)# borrows ETH\n",
    "    Nio1=np.random.uniform(low=-500*(n/2500)/1326781, high=50*(n/2500)/1326781, size=T) \n",
    "    # Mio1=np.random.uniform(low=-2000, high=2500, size=T) #supply ETH\n",
    "    Mio1=np.random.uniform(low=-2000*(n/2500)/1326781, high=2500*(n/2500)/1326781, size=T)\n",
    "    #Market 2 stablecoin 1\n",
    "    # Nio2=np.random.uniform(low=-7000000, high=850000, size=T)# borrows ETH\n",
    "    Nio2=np.random.uniform(low=-7000000*(n/2500)/1326781, high=850000*(n/2500)/1326781, size=T)\n",
    "    # Mio2=np.random.uniform(low=-7000000, high=1000000, size=T) #supply ETH\n",
    "    Mio2=np.random.uniform(low=-7000000*(n/2500)/1326781, high=1000000*(n/2500)/1326781, size=T)\n",
    "    #Market 3 stablecoin 2\n",
    "    # Nio3=np.random.uniform(low=-4000000, high=2500000, size=T)# borrows ETH\n",
    "    Nio3=np.random.uniform(low=-4000000*(n/2500)/1326781, high=2500000*(n/2500)/1326781, size=T)\n",
    "    # Mio3=np.random.uniform(low=-4000000, high=7000000, size=T) #supply ETH\n",
    "    Mio3=np.random.uniform(low=-4000000*(n/2500)/1326781, high=7000000*(n/2500)/1326781, size=T)\n",
    "    #Market 4 stablecoin 3\n",
    "    # Nio4=np.random.uniform(low=-4000000, high=2500000, size=T)# borrows ETH\n",
    "    Nio4=np.random.uniform(low=-4000000*(n/2500)/1326781, high=2500000*(n/2500)/1326781, size=T)\n",
    "    # Mio4=np.random.uniform(low=-4000000, high=4000000, size=T) #supply ETH\n",
    "    Mio4=np.random.uniform(low=-4000000*(n/2500)/1326781, high=7000000*(n/2500)/1326781, size=T)\n",
    "    for t in range(1, T):\n",
    "        #Interest rate model 1\n",
    "        Ut1[t]=urate(TS1[t-1],TB1[t-1])  \n",
    "        Br1[t]=br1(Ut1[t])\n",
    "        Sr1[t]=sr1(Ut1[t])\n",
    "        rateB1[t]=Br1[t]/BlockRate\n",
    "        rateS1[t]=Sr1[t]/BlockRate\n",
    "        IAb1[t]=IAb1[t-1]+TB1[t-1]*rateB1[t]*Delta\n",
    "        TB1[t]=TB1[t-1]+IAb1[t]+Nio1[t]\n",
    "        TR1[t]=TR1[t-1]+TB1[t-1]*rateB1[t]*Delta*rF1\n",
    "        IAs1[t]=IAs1[t-1]+TS1[t-1]*rateS1[t]*Delta\n",
    "        TS1[t]=TS1[t-1]+IAs1[t]+Mio1[t]\n",
    "        #Interest rate model 2\n",
    "        Ut2[t]=urate(TS2[t-1],TB2[t-1])  \n",
    "        Br2[t]=br2(Ut2[t])\n",
    "        Sr2[t]=sr2(Ut2[t])\n",
    "        rateB2[t]=Br2[t]/BlockRate\n",
    "        rateS2[t]=Sr2[t]/BlockRate\n",
    "        IAb2[t]=IAb2[t-1]+TB2[t-1]*rateB2[t]*Delta\n",
    "        TB2[t]=TB2[t-1]+IAb2[t]+Nio2[t]\n",
    "        TR2[t]=TR2[t-1]+TB2[t-1]*rateB2[t]*Delta*rF2\n",
    "        IAs2[t]=IAs2[t-1]+TS2[t-1]*rateS2[t]*Delta\n",
    "        TS2[t]=TS2[t-1]+IAs2[t]+Mio2[t]\n",
    "        #Interest rate model 3\n",
    "        Ut3[t]=urate(TS3[t-1],TB3[t-1])  \n",
    "        Br3[t]=br3(Ut3[t])\n",
    "        Sr3[t]=sr3(Ut3[t])\n",
    "        rateB3[t]=Br3[t]/BlockRate\n",
    "        rateS3[t]=Sr3[t]/BlockRate\n",
    "        IAb3[t]=IAb3[t-1]+TB3[t-1]*rateB3[t]*Delta # - n*(1-percentage)\n",
    "        TB3[t]=TB3[t-1]+IAb3[t]+Nio3[t]\n",
    "        TR3[t]=TR3[t-1]+TB3[t-1]*rateB3[t]*Delta*rF3\n",
    "        IAs3[t]=IAs3[t-1]+TS3[t-1]*rateS3[t]*Delta\n",
    "        TS3[t]=TS3[t-1]+IAs3[t]+Mio3[t]\n",
    "        #Interest rate model 4\n",
    "        Ut4[t]=urate(TS4[t-1],TB4[t-1])  \n",
    "        Br4[t]=br4(Ut4[t])\n",
    "        Sr4[t]=sr4(Ut4[t])\n",
    "        rateB4[t]=Br4[t]/BlockRate\n",
    "        rateS4[t]=Sr4[t]/BlockRate\n",
    "        IAb4[t]=IAb4[t-1]+TB4[t-1]*rateB4[t]*Delta # - n*(1-percentage)\n",
    "        TB4[t]=TB4[t-1]+IAb4[t]+Nio4[t]\n",
    "        TR4[t]=TR4[t-1]+TB4[t-1]*rateB4[t]*Delta*rF4\n",
    "        IAs4[t]=IAs4[t-1]+TS4[t-1]*rateS4[t]*Delta\n",
    "        TS4[t]=TS4[t-1]+IAs4[t]+Mio4[t]\n",
    "    itm1=pd.DataFrame({'utilization':Ut1,'borrow rate':Br1,'Block brate':rateB1,'supply rate': Sr1,'Block srate': rateS1})\n",
    "    itm2=pd.DataFrame({'utilization':Ut2,'borrow rate':Br2,'Block brate':rateB2,'supply rate': Sr2,'Block srate': rateS2})\n",
    "    itm3=pd.DataFrame({'utilization':Ut3,'borrow rate':Br3,'Block brate':rateB3,'supply rate': Sr3,'Block srate': rateS3})\n",
    "    itm4=pd.DataFrame({'utilization':Ut4,'borrow rate':Br4,'Block brate':rateB4,'supply rate': Sr4,'Block srate': rateS4})\n",
    "    mAgg1=pd.DataFrame({'N.Borrow(ETH)':Nio1,'T.Borrow(ETH)':TB1,'IA.Borrow(ETH)':IAb1,'N.Supply(ETH)':Mio1,'T.Supply(ETH)':TS1,'IA.Supply(ETH)':IAs1,'T.Reserves(ETH)': TR1,'Cash(ETH)':(TS1-TB1+TR1)})\n",
    "    mAgg2=pd.DataFrame({'N.Borrow(USD)':Nio2,'T.Borrow(USD)':TB2,'IA.Borrow(USD)':IAb2,'N.Supply(USD)':Mio2,'T.Supply(USD)':TS2,'IA.Supply(USD)':IAs2,'T.Reserves(USD)': TR2,'Cash(USD)':(TS2-TB2+TR2)})\n",
    "    mAgg3=pd.DataFrame({'N.Borrow(USD)':Nio3,'T.Borrow(USD)':TB3,'IA.Borrow(USD)':IAb3,'N.Supply(USD)':Mio3,'T.Supply(USD)':TS3,'IA.Supply(USD)':IAs3,'T.Reserves(USD)': TR3,'Cash(USD)':(TS3-TB3+TR3)})\n",
    "    mAgg4=pd.DataFrame({'N.Borrow(USD)':Nio4,'T.Borrow(USD)':TB4,'IA.Borrow(USD)':IAb4,'N.Supply(USD)':Mio4,'T.Supply(USD)':TS4,'IA.Supply(USD)':IAs4,'T.Reserves(USD)': TR4,'Cash(USD)':(TS4-TB4+TR4)})\n",
    "    return itm1,mAgg1,itm2,mAgg2,itm3,mAgg3,itm4,mAgg4"
   ]
  },
  {
   "cell_type": "code",
   "execution_count": 492,
   "metadata": {},
   "outputs": [],
   "source": [
    "(itm1,mAgg1,itm2,mAgg2,itm3,mAgg3,itm4,mAgg4)=sim_agg(steps)"
   ]
  },
  {
   "cell_type": "code",
   "execution_count": 493,
   "metadata": {},
   "outputs": [
    {
     "data": {
      "text/html": [
       "<div>\n",
       "<style scoped>\n",
       "    .dataframe tbody tr th:only-of-type {\n",
       "        vertical-align: middle;\n",
       "    }\n",
       "\n",
       "    .dataframe tbody tr th {\n",
       "        vertical-align: top;\n",
       "    }\n",
       "\n",
       "    .dataframe thead th {\n",
       "        text-align: right;\n",
       "    }\n",
       "</style>\n",
       "<table border=\"1\" class=\"dataframe\">\n",
       "  <thead>\n",
       "    <tr style=\"text-align: right;\">\n",
       "      <th></th>\n",
       "      <th>utilization</th>\n",
       "      <th>borrow rate</th>\n",
       "      <th>Block brate</th>\n",
       "      <th>supply rate</th>\n",
       "      <th>Block srate</th>\n",
       "    </tr>\n",
       "  </thead>\n",
       "  <tbody>\n",
       "    <tr>\n",
       "      <th>95</th>\n",
       "      <td>0.0452024835</td>\n",
       "      <td>0.0818080993</td>\n",
       "      <td>0.0000000341</td>\n",
       "      <td>0.0409040497</td>\n",
       "      <td>0.0000000171</td>\n",
       "    </tr>\n",
       "    <tr>\n",
       "      <th>96</th>\n",
       "      <td>0.0452068954</td>\n",
       "      <td>0.0818082758</td>\n",
       "      <td>0.0000000341</td>\n",
       "      <td>0.0409041379</td>\n",
       "      <td>0.0000000171</td>\n",
       "    </tr>\n",
       "    <tr>\n",
       "      <th>97</th>\n",
       "      <td>0.0453322013</td>\n",
       "      <td>0.0818132881</td>\n",
       "      <td>0.0000000341</td>\n",
       "      <td>0.0409066440</td>\n",
       "      <td>0.0000000171</td>\n",
       "    </tr>\n",
       "    <tr>\n",
       "      <th>98</th>\n",
       "      <td>0.0454211256</td>\n",
       "      <td>0.0818168450</td>\n",
       "      <td>0.0000000341</td>\n",
       "      <td>0.0409084225</td>\n",
       "      <td>0.0000000171</td>\n",
       "    </tr>\n",
       "    <tr>\n",
       "      <th>99</th>\n",
       "      <td>0.0453675067</td>\n",
       "      <td>0.0818147003</td>\n",
       "      <td>0.0000000341</td>\n",
       "      <td>0.0409073501</td>\n",
       "      <td>0.0000000171</td>\n",
       "    </tr>\n",
       "  </tbody>\n",
       "</table>\n",
       "</div>"
      ],
      "text/plain": [
       "     utilization   borrow rate   Block brate   supply rate   Block srate\n",
       "95  0.0452024835  0.0818080993  0.0000000341  0.0409040497  0.0000000171\n",
       "96  0.0452068954  0.0818082758  0.0000000341  0.0409041379  0.0000000171\n",
       "97  0.0453322013  0.0818132881  0.0000000341  0.0409066440  0.0000000171\n",
       "98  0.0454211256  0.0818168450  0.0000000341  0.0409084225  0.0000000171\n",
       "99  0.0453675067  0.0818147003  0.0000000341  0.0409073501  0.0000000171"
      ]
     },
     "execution_count": 493,
     "metadata": {},
     "output_type": "execute_result"
    }
   ],
   "source": [
    "pd.set_option(\"display.precision\", 10)\n",
    "itm1.tail()"
   ]
  },
  {
   "cell_type": "code",
   "execution_count": 494,
   "metadata": {},
   "outputs": [
    {
     "data": {
      "text/html": [
       "<div>\n",
       "<style scoped>\n",
       "    .dataframe tbody tr th:only-of-type {\n",
       "        vertical-align: middle;\n",
       "    }\n",
       "\n",
       "    .dataframe tbody tr th {\n",
       "        vertical-align: top;\n",
       "    }\n",
       "\n",
       "    .dataframe thead th {\n",
       "        text-align: right;\n",
       "    }\n",
       "</style>\n",
       "<table border=\"1\" class=\"dataframe\">\n",
       "  <thead>\n",
       "    <tr style=\"text-align: right;\">\n",
       "      <th></th>\n",
       "      <th>utilization</th>\n",
       "      <th>borrow rate</th>\n",
       "      <th>Block brate</th>\n",
       "      <th>supply rate</th>\n",
       "      <th>Block srate</th>\n",
       "    </tr>\n",
       "  </thead>\n",
       "  <tbody>\n",
       "    <tr>\n",
       "      <th>95</th>\n",
       "      <td>0.6998323896</td>\n",
       "      <td>0.0925969830</td>\n",
       "      <td>0.0000000386</td>\n",
       "      <td>0.0602662021</td>\n",
       "      <td>0.0000000251</td>\n",
       "    </tr>\n",
       "    <tr>\n",
       "      <th>96</th>\n",
       "      <td>0.7016288546</td>\n",
       "      <td>0.0926293194</td>\n",
       "      <td>0.0000000386</td>\n",
       "      <td>0.0604420050</td>\n",
       "      <td>0.0000000252</td>\n",
       "    </tr>\n",
       "    <tr>\n",
       "      <th>97</th>\n",
       "      <td>0.7026475968</td>\n",
       "      <td>0.0926476567</td>\n",
       "      <td>0.0000000386</td>\n",
       "      <td>0.0605417476</td>\n",
       "      <td>0.0000000252</td>\n",
       "    </tr>\n",
       "    <tr>\n",
       "      <th>98</th>\n",
       "      <td>0.7036517916</td>\n",
       "      <td>0.0926657322</td>\n",
       "      <td>0.0000000386</td>\n",
       "      <td>0.0606400999</td>\n",
       "      <td>0.0000000253</td>\n",
       "    </tr>\n",
       "    <tr>\n",
       "      <th>99</th>\n",
       "      <td>0.7067990894</td>\n",
       "      <td>0.0927223836</td>\n",
       "      <td>0.0000000387</td>\n",
       "      <td>0.0609485696</td>\n",
       "      <td>0.0000000254</td>\n",
       "    </tr>\n",
       "  </tbody>\n",
       "</table>\n",
       "</div>"
      ],
      "text/plain": [
       "     utilization   borrow rate   Block brate   supply rate   Block srate\n",
       "95  0.6998323896  0.0925969830  0.0000000386  0.0602662021  0.0000000251\n",
       "96  0.7016288546  0.0926293194  0.0000000386  0.0604420050  0.0000000252\n",
       "97  0.7026475968  0.0926476567  0.0000000386  0.0605417476  0.0000000252\n",
       "98  0.7036517916  0.0926657322  0.0000000386  0.0606400999  0.0000000253\n",
       "99  0.7067990894  0.0927223836  0.0000000387  0.0609485696  0.0000000254"
      ]
     },
     "execution_count": 494,
     "metadata": {},
     "output_type": "execute_result"
    }
   ],
   "source": [
    "pd.set_option(\"display.precision\", 10)\n",
    "itm2.tail()"
   ]
  },
  {
   "cell_type": "code",
   "execution_count": 495,
   "metadata": {},
   "outputs": [
    {
     "data": {
      "text/html": [
       "<div>\n",
       "<style scoped>\n",
       "    .dataframe tbody tr th:only-of-type {\n",
       "        vertical-align: middle;\n",
       "    }\n",
       "\n",
       "    .dataframe tbody tr th {\n",
       "        vertical-align: top;\n",
       "    }\n",
       "\n",
       "    .dataframe thead th {\n",
       "        text-align: right;\n",
       "    }\n",
       "</style>\n",
       "<table border=\"1\" class=\"dataframe\">\n",
       "  <thead>\n",
       "    <tr style=\"text-align: right;\">\n",
       "      <th></th>\n",
       "      <th>utilization</th>\n",
       "      <th>borrow rate</th>\n",
       "      <th>Block brate</th>\n",
       "      <th>supply rate</th>\n",
       "      <th>Block srate</th>\n",
       "    </tr>\n",
       "  </thead>\n",
       "  <tbody>\n",
       "    <tr>\n",
       "      <th>95</th>\n",
       "      <td>0.8324581211</td>\n",
       "      <td>0.0544581211</td>\n",
       "      <td>0.0000000227</td>\n",
       "      <td>0.0385339894</td>\n",
       "      <td>0.0000000161</td>\n",
       "    </tr>\n",
       "    <tr>\n",
       "      <th>96</th>\n",
       "      <td>0.8346813312</td>\n",
       "      <td>0.0566813312</td>\n",
       "      <td>0.0000000236</td>\n",
       "      <td>0.0402142216</td>\n",
       "      <td>0.0000000168</td>\n",
       "    </tr>\n",
       "    <tr>\n",
       "      <th>97</th>\n",
       "      <td>0.8367058236</td>\n",
       "      <td>0.0587058236</td>\n",
       "      <td>0.0000000245</td>\n",
       "      <td>0.0417515788</td>\n",
       "      <td>0.0000000174</td>\n",
       "    </tr>\n",
       "    <tr>\n",
       "      <th>98</th>\n",
       "      <td>0.8389069444</td>\n",
       "      <td>0.0609069444</td>\n",
       "      <td>0.0000000254</td>\n",
       "      <td>0.0434309698</td>\n",
       "      <td>0.0000000181</td>\n",
       "    </tr>\n",
       "    <tr>\n",
       "      <th>99</th>\n",
       "      <td>0.8410948786</td>\n",
       "      <td>0.0630948786</td>\n",
       "      <td>0.0000000263</td>\n",
       "      <td>0.0451084624</td>\n",
       "      <td>0.0000000188</td>\n",
       "    </tr>\n",
       "  </tbody>\n",
       "</table>\n",
       "</div>"
      ],
      "text/plain": [
       "     utilization   borrow rate   Block brate   supply rate   Block srate\n",
       "95  0.8324581211  0.0544581211  0.0000000227  0.0385339894  0.0000000161\n",
       "96  0.8346813312  0.0566813312  0.0000000236  0.0402142216  0.0000000168\n",
       "97  0.8367058236  0.0587058236  0.0000000245  0.0417515788  0.0000000174\n",
       "98  0.8389069444  0.0609069444  0.0000000254  0.0434309698  0.0000000181\n",
       "99  0.8410948786  0.0630948786  0.0000000263  0.0451084624  0.0000000188"
      ]
     },
     "execution_count": 495,
     "metadata": {},
     "output_type": "execute_result"
    }
   ],
   "source": [
    "pd.set_option(\"display.precision\", 10)\n",
    "itm3.tail()"
   ]
  },
  {
   "cell_type": "code",
   "execution_count": 496,
   "metadata": {},
   "outputs": [
    {
     "data": {
      "text/html": [
       "<div>\n",
       "<style scoped>\n",
       "    .dataframe tbody tr th:only-of-type {\n",
       "        vertical-align: middle;\n",
       "    }\n",
       "\n",
       "    .dataframe tbody tr th {\n",
       "        vertical-align: top;\n",
       "    }\n",
       "\n",
       "    .dataframe thead th {\n",
       "        text-align: right;\n",
       "    }\n",
       "</style>\n",
       "<table border=\"1\" class=\"dataframe\">\n",
       "  <thead>\n",
       "    <tr style=\"text-align: right;\">\n",
       "      <th></th>\n",
       "      <th>N.Borrow(ETH)</th>\n",
       "      <th>T.Borrow(ETH)</th>\n",
       "      <th>IA.Borrow(ETH)</th>\n",
       "      <th>N.Supply(ETH)</th>\n",
       "      <th>T.Supply(ETH)</th>\n",
       "      <th>IA.Supply(ETH)</th>\n",
       "      <th>T.Reserves(ETH)</th>\n",
       "      <th>Cash(ETH)</th>\n",
       "    </tr>\n",
       "  </thead>\n",
       "  <tbody>\n",
       "    <tr>\n",
       "      <th>95</th>\n",
       "      <td>-0.0672521393</td>\n",
       "      <td>22.8135256320</td>\n",
       "      <td>0.1870013012</td>\n",
       "      <td>0.5682321557</td>\n",
       "      <td>504.6470329521</td>\n",
       "      <td>2.0316845547</td>\n",
       "      <td>0.1356832474</td>\n",
       "      <td>481.9691905675</td>\n",
       "    </tr>\n",
       "    <tr>\n",
       "      <th>96</th>\n",
       "      <td>-0.0580785825</td>\n",
       "      <td>22.9446897741</td>\n",
       "      <td>0.1892427246</td>\n",
       "      <td>-0.5580066836</td>\n",
       "      <td>506.1455015479</td>\n",
       "      <td>2.0564752794</td>\n",
       "      <td>0.1361315321</td>\n",
       "      <td>483.3369433059</td>\n",
       "    </tr>\n",
       "    <tr>\n",
       "      <th>97</th>\n",
       "      <td>-0.0220240422</td>\n",
       "      <td>23.1141629048</td>\n",
       "      <td>0.1914971729</td>\n",
       "      <td>0.6588927922</td>\n",
       "      <td>508.8857354796</td>\n",
       "      <td>2.0813411395</td>\n",
       "      <td>0.1365824218</td>\n",
       "      <td>485.9081549966</td>\n",
       "    </tr>\n",
       "    <tr>\n",
       "      <th>98</th>\n",
       "      <td>-0.1007232802</td>\n",
       "      <td>23.2072079963</td>\n",
       "      <td>0.1937683717</td>\n",
       "      <td>0.5460180986</td>\n",
       "      <td>511.5380962867</td>\n",
       "      <td>2.1063427085</td>\n",
       "      <td>0.1370366615</td>\n",
       "      <td>488.4679249520</td>\n",
       "    </tr>\n",
       "    <tr>\n",
       "      <th>99</th>\n",
       "      <td>-0.0170494008</td>\n",
       "      <td>23.3862072489</td>\n",
       "      <td>0.1960486534</td>\n",
       "      <td>-0.4070217875</td>\n",
       "      <td>513.2625484285</td>\n",
       "      <td>2.1314739292</td>\n",
       "      <td>0.1374927178</td>\n",
       "      <td>490.0138338974</td>\n",
       "    </tr>\n",
       "  </tbody>\n",
       "</table>\n",
       "</div>"
      ],
      "text/plain": [
       "    N.Borrow(ETH)  T.Borrow(ETH)  IA.Borrow(ETH)  N.Supply(ETH)  \\\n",
       "95  -0.0672521393  22.8135256320    0.1870013012   0.5682321557   \n",
       "96  -0.0580785825  22.9446897741    0.1892427246  -0.5580066836   \n",
       "97  -0.0220240422  23.1141629048    0.1914971729   0.6588927922   \n",
       "98  -0.1007232802  23.2072079963    0.1937683717   0.5460180986   \n",
       "99  -0.0170494008  23.3862072489    0.1960486534  -0.4070217875   \n",
       "\n",
       "     T.Supply(ETH)  IA.Supply(ETH)  T.Reserves(ETH)       Cash(ETH)  \n",
       "95  504.6470329521    2.0316845547     0.1356832474  481.9691905675  \n",
       "96  506.1455015479    2.0564752794     0.1361315321  483.3369433059  \n",
       "97  508.8857354796    2.0813411395     0.1365824218  485.9081549966  \n",
       "98  511.5380962867    2.1063427085     0.1370366615  488.4679249520  \n",
       "99  513.2625484285    2.1314739292     0.1374927178  490.0138338974  "
      ]
     },
     "execution_count": 496,
     "metadata": {},
     "output_type": "execute_result"
    }
   ],
   "source": [
    "pd.set_option(\"display.precision\", 10)\n",
    "mAgg1.tail()"
   ]
  },
  {
   "cell_type": "code",
   "execution_count": 497,
   "metadata": {},
   "outputs": [
    {
     "data": {
      "text/html": [
       "<div>\n",
       "<style scoped>\n",
       "    .dataframe tbody tr th:only-of-type {\n",
       "        vertical-align: middle;\n",
       "    }\n",
       "\n",
       "    .dataframe tbody tr th {\n",
       "        vertical-align: top;\n",
       "    }\n",
       "\n",
       "    .dataframe thead th {\n",
       "        text-align: right;\n",
       "    }\n",
       "</style>\n",
       "<table border=\"1\" class=\"dataframe\">\n",
       "  <thead>\n",
       "    <tr style=\"text-align: right;\">\n",
       "      <th></th>\n",
       "      <th>N.Borrow(USD)</th>\n",
       "      <th>T.Borrow(USD)</th>\n",
       "      <th>IA.Borrow(USD)</th>\n",
       "      <th>N.Supply(USD)</th>\n",
       "      <th>T.Supply(USD)</th>\n",
       "      <th>IA.Supply(USD)</th>\n",
       "      <th>T.Reserves(USD)</th>\n",
       "      <th>Cash(USD)</th>\n",
       "    </tr>\n",
       "  </thead>\n",
       "  <tbody>\n",
       "    <tr>\n",
       "      <th>95</th>\n",
       "      <td>-1747.8460750660</td>\n",
       "      <td>920482.4043964448</td>\n",
       "      <td>7620.8180101290</td>\n",
       "      <td>-2063.0864694734</td>\n",
       "      <td>1.3119221058e+06</td>\n",
       "      <td>7087.3607494200</td>\n",
       "      <td>2402.4882462296</td>\n",
       "      <td>393842.1896569561</td>\n",
       "    </tr>\n",
       "    <tr>\n",
       "      <th>96</th>\n",
       "      <td>-1804.1470602248</td>\n",
       "      <td>926401.4749363633</td>\n",
       "      <td>7723.2176001432</td>\n",
       "      <td>-660.7454138757</td>\n",
       "      <td>1.3184439528e+06</td>\n",
       "      <td>7182.5923681332</td>\n",
       "      <td>2409.6562175306</td>\n",
       "      <td>394452.1340425960</td>\n",
       "    </tr>\n",
       "    <tr>\n",
       "      <th>97</th>\n",
       "      <td>-1343.5140355048</td>\n",
       "      <td>932884.2569632792</td>\n",
       "      <td>7826.2960624207</td>\n",
       "      <td>53.0224598790</td>\n",
       "      <td>1.3257754306e+06</td>\n",
       "      <td>7278.4553380512</td>\n",
       "      <td>2416.8717098900</td>\n",
       "      <td>395308.0453059698</td>\n",
       "    </tr>\n",
       "    <tr>\n",
       "      <th>98</th>\n",
       "      <td>15.9853202852</td>\n",
       "      <td>940830.3583830950</td>\n",
       "      <td>7930.1160995306</td>\n",
       "      <td>-2036.1621521889</td>\n",
       "      <td>1.3311142764e+06</td>\n",
       "      <td>7375.0079725634</td>\n",
       "      <td>2424.1391124877</td>\n",
       "      <td>392708.0571091263</td>\n",
       "    </tr>\n",
       "    <tr>\n",
       "      <th>99</th>\n",
       "      <td>-1864.6229640438</td>\n",
       "      <td>947000.6198829585</td>\n",
       "      <td>8034.8844639073</td>\n",
       "      <td>-953.2792643336</td>\n",
       "      <td>1.3376334397e+06</td>\n",
       "      <td>7472.4425514338</td>\n",
       "      <td>2431.4728979941</td>\n",
       "      <td>393064.2926818694</td>\n",
       "    </tr>\n",
       "  </tbody>\n",
       "</table>\n",
       "</div>"
      ],
      "text/plain": [
       "      N.Borrow(USD)      T.Borrow(USD)   IA.Borrow(USD)    N.Supply(USD)  \\\n",
       "95 -1747.8460750660  920482.4043964448  7620.8180101290 -2063.0864694734   \n",
       "96 -1804.1470602248  926401.4749363633  7723.2176001432  -660.7454138757   \n",
       "97 -1343.5140355048  932884.2569632792  7826.2960624207    53.0224598790   \n",
       "98    15.9853202852  940830.3583830950  7930.1160995306 -2036.1621521889   \n",
       "99 -1864.6229640438  947000.6198829585  8034.8844639073  -953.2792643336   \n",
       "\n",
       "       T.Supply(USD)   IA.Supply(USD)  T.Reserves(USD)          Cash(USD)  \n",
       "95  1.3119221058e+06  7087.3607494200  2402.4882462296  393842.1896569561  \n",
       "96  1.3184439528e+06  7182.5923681332  2409.6562175306  394452.1340425960  \n",
       "97  1.3257754306e+06  7278.4553380512  2416.8717098900  395308.0453059698  \n",
       "98  1.3311142764e+06  7375.0079725634  2424.1391124877  392708.0571091263  \n",
       "99  1.3376334397e+06  7472.4425514338  2431.4728979941  393064.2926818694  "
      ]
     },
     "execution_count": 497,
     "metadata": {},
     "output_type": "execute_result"
    }
   ],
   "source": [
    "pd.set_option(\"display.precision\", 10)\n",
    "mAgg2.tail()"
   ]
  },
  {
   "cell_type": "code",
   "execution_count": 498,
   "metadata": {},
   "outputs": [
    {
     "data": {
      "text/html": [
       "<div>\n",
       "<style scoped>\n",
       "    .dataframe tbody tr th:only-of-type {\n",
       "        vertical-align: middle;\n",
       "    }\n",
       "\n",
       "    .dataframe tbody tr th {\n",
       "        vertical-align: top;\n",
       "    }\n",
       "\n",
       "    .dataframe thead th {\n",
       "        text-align: right;\n",
       "    }\n",
       "</style>\n",
       "<table border=\"1\" class=\"dataframe\">\n",
       "  <thead>\n",
       "    <tr style=\"text-align: right;\">\n",
       "      <th></th>\n",
       "      <th>N.Borrow(USD)</th>\n",
       "      <th>T.Borrow(USD)</th>\n",
       "      <th>IA.Borrow(USD)</th>\n",
       "      <th>N.Supply(USD)</th>\n",
       "      <th>T.Supply(USD)</th>\n",
       "      <th>IA.Supply(USD)</th>\n",
       "      <th>T.Reserves(USD)</th>\n",
       "      <th>Cash(USD)</th>\n",
       "    </tr>\n",
       "  </thead>\n",
       "  <tbody>\n",
       "    <tr>\n",
       "      <th>95</th>\n",
       "      <td>83.0556056941</td>\n",
       "      <td>1.2421392278e+06</td>\n",
       "      <td>9755.9016935799</td>\n",
       "      <td>-447.7189813487</td>\n",
       "      <td>1.4881598298e+06</td>\n",
       "      <td>8292.5164395429</td>\n",
       "      <td>5376.6767467551</td>\n",
       "      <td>251397.2787673894</td>\n",
       "    </tr>\n",
       "    <tr>\n",
       "      <th>96</th>\n",
       "      <td>540.4922665527</td>\n",
       "      <td>1.2525201778e+06</td>\n",
       "      <td>9840.4577213225</td>\n",
       "      <td>441.7905212930</td>\n",
       "      <td>1.4969660094e+06</td>\n",
       "      <td>8364.3890631241</td>\n",
       "      <td>5389.3601509165</td>\n",
       "      <td>249835.1917680925</td>\n",
       "    </tr>\n",
       "    <tr>\n",
       "      <th>97</th>\n",
       "      <td>-548.0633568508</td>\n",
       "      <td>1.2619008802e+06</td>\n",
       "      <td>9928.7657459171</td>\n",
       "      <td>-1185.1309309384</td>\n",
       "      <td>1.5042203294e+06</td>\n",
       "      <td>8439.4508840295</td>\n",
       "      <td>5402.6063546057</td>\n",
       "      <td>247722.0555358066</td>\n",
       "    </tr>\n",
       "    <tr>\n",
       "      <th>98</th>\n",
       "      <td>-247.4415266977</td>\n",
       "      <td>1.2716745096e+06</td>\n",
       "      <td>10021.0709759858</td>\n",
       "      <td>-810.7010526473</td>\n",
       "      <td>1.5119275386e+06</td>\n",
       "      <td>8517.9103295880</td>\n",
       "      <td>5416.4521391160</td>\n",
       "      <td>245669.4811479695</td>\n",
       "    </tr>\n",
       "    <tr>\n",
       "      <th>99</th>\n",
       "      <td>-155.8108295431</td>\n",
       "      <td>1.2816361315e+06</td>\n",
       "      <td>10117.4326484777</td>\n",
       "      <td>252.0943371776</td>\n",
       "      <td>1.5207794507e+06</td>\n",
       "      <td>8599.8177512061</td>\n",
       "      <td>5430.9063899897</td>\n",
       "      <td>244574.2256682923</td>\n",
       "    </tr>\n",
       "  </tbody>\n",
       "</table>\n",
       "</div>"
      ],
      "text/plain": [
       "     N.Borrow(USD)     T.Borrow(USD)    IA.Borrow(USD)    N.Supply(USD)  \\\n",
       "95   83.0556056941  1.2421392278e+06   9755.9016935799  -447.7189813487   \n",
       "96  540.4922665527  1.2525201778e+06   9840.4577213225   441.7905212930   \n",
       "97 -548.0633568508  1.2619008802e+06   9928.7657459171 -1185.1309309384   \n",
       "98 -247.4415266977  1.2716745096e+06  10021.0709759858  -810.7010526473   \n",
       "99 -155.8108295431  1.2816361315e+06  10117.4326484777   252.0943371776   \n",
       "\n",
       "       T.Supply(USD)   IA.Supply(USD)  T.Reserves(USD)          Cash(USD)  \n",
       "95  1.4881598298e+06  8292.5164395429  5376.6767467551  251397.2787673894  \n",
       "96  1.4969660094e+06  8364.3890631241  5389.3601509165  249835.1917680925  \n",
       "97  1.5042203294e+06  8439.4508840295  5402.6063546057  247722.0555358066  \n",
       "98  1.5119275386e+06  8517.9103295880  5416.4521391160  245669.4811479695  \n",
       "99  1.5207794507e+06  8599.8177512061  5430.9063899897  244574.2256682923  "
      ]
     },
     "execution_count": 498,
     "metadata": {},
     "output_type": "execute_result"
    }
   ],
   "source": [
    "pd.set_option(\"display.precision\", 10)\n",
    "mAgg3.tail()"
   ]
  },
  {
   "cell_type": "markdown",
   "metadata": {},
   "source": [
    "## Ingresos y Gastos en Intereses en los mercados"
   ]
  },
  {
   "cell_type": "code",
   "execution_count": 499,
   "metadata": {},
   "outputs": [
    {
     "data": {
      "text/plain": [
       "[<matplotlib.lines.Line2D at 0x160f9440550>]"
      ]
     },
     "execution_count": 499,
     "metadata": {},
     "output_type": "execute_result"
    },
    {
     "data": {
      "image/png": "[encoded data removed]",
      "text/plain": [
       "<Figure size 432x288 with 1 Axes>"
      ]
     },
     "metadata": {
      "needs_background": "light"
     },
     "output_type": "display_data"
    }
   ],
   "source": [
    "TBwithEfects = []\n",
    "for i in TB3:\n",
    "    TBwithEfects.append(i-n*(1-percentage)*0.75)\n",
    "    \n",
    "IAbwithEfects = [IAb3[0]]\n",
    "for i in range(1,len(TBwithEfects)):\n",
    "    IAbwithEfects.append(IAbwithEfects[i-1] + TBwithEfects[i]*rateB3[i]*Delta)\n",
    "\n",
    "    \n",
    "plt.plot(IAs3)\n",
    "plt.plot(IAbwithEfects)"
   ]
  },
  {
   "cell_type": "code",
   "execution_count": 500,
   "metadata": {},
   "outputs": [],
   "source": [
    "#Mercado 1 ETH\n",
    "pETHusd=2500\n",
    "Ingm1=mAgg1.loc[steps-1,'IA.Borrow(ETH)']*pETHusd\n",
    "Gstm1=mAgg1.loc[steps-1,'IA.Supply(ETH)']*pETHusd\n",
    "Margenm1=Ingm1-Gstm1"
   ]
  },
  {
   "cell_type": "code",
   "execution_count": 501,
   "metadata": {},
   "outputs": [],
   "source": [
    "#Mercado 2 Stable\n",
    "Ingm2=mAgg2.loc[steps-1,'IA.Borrow(USD)']\n",
    "Gstm2=mAgg2.loc[steps-1,'IA.Supply(USD)']\n",
    "Margenm2=Ingm2-Gstm2"
   ]
  },
  {
   "cell_type": "code",
   "execution_count": 502,
   "metadata": {},
   "outputs": [],
   "source": [
    "#Mercado 3 Stable\n",
    "Ingm3=mAgg3.loc[steps-1,'IA.Borrow(USD)']\n",
    "Gstm3=mAgg3.loc[steps-1,'IA.Supply(USD)']\n",
    "Margenm3=Ingm3-Gstm3"
   ]
  },
  {
   "cell_type": "code",
   "execution_count": 503,
   "metadata": {},
   "outputs": [],
   "source": [
    "#Mercado 4 Stable\n",
    "Ingm4=mAgg4.loc[steps-1,'IA.Borrow(USD)']\n",
    "Gstm4=mAgg4.loc[steps-1,'IA.Supply(USD)']\n",
    "Margenm4=Ingm4-Gstm4"
   ]
  },
  {
   "cell_type": "code",
   "execution_count": 504,
   "metadata": {},
   "outputs": [
    {
     "name": "stdout",
     "output_type": "stream",
     "text": [
      "Margen Mercado Volatil 1 (USD) -4838.563189644799\n",
      "Margen Mercado Stable 1 (USD) 562.4419124735141\n",
      "Margen Mercado Stable 2 (USD) 1517.6148972716583\n",
      "Margen Mercado Stable 3 (USD) 798.9923685851772\n"
     ]
    }
   ],
   "source": [
    "print('Margen Mercado Volatil 1 (USD)',Margenm1)\n",
    "print('Margen Mercado Stable 1 (USD)',Margenm2)\n",
    "print('Margen Mercado Stable 2 (USD)',Margenm3)\n",
    "print('Margen Mercado Stable 3 (USD)',Margenm4)"
   ]
  },
  {
   "cell_type": "code",
   "execution_count": 505,
   "metadata": {},
   "outputs": [
    {
     "data": {
      "text/plain": [
       "-1959.5140113144498"
      ]
     },
     "execution_count": 505,
     "metadata": {},
     "output_type": "execute_result"
    }
   ],
   "source": [
    "Margenm1 + Margenm2 + Margenm3 + Margenm4"
   ]
  },
  {
   "cell_type": "code",
   "execution_count": 506,
   "metadata": {},
   "outputs": [
    {
     "data": {
      "text/plain": [
       "0.0006943495033140792"
      ]
     },
     "execution_count": 506,
     "metadata": {},
     "output_type": "execute_result"
    }
   ],
   "source": [
    "27773.98013256317/40000000"
   ]
  },
  {
   "cell_type": "code",
   "execution_count": 507,
   "metadata": {},
   "outputs": [
    {
     "data": {
      "text/plain": [
       "0.00046839307606552313"
      ]
     },
     "execution_count": 507,
     "metadata": {},
     "output_type": "execute_result"
    }
   ],
   "source": [
    "-(Margenm1 + Margenm2 + Margenm3 + Margenm4)/(TS1[0]*2500+TS2[0]+TS3[0]+TS4[0])"
   ]
  },
  {
   "cell_type": "code",
   "execution_count": 508,
   "metadata": {
    "scrolled": false
   },
   "outputs": [
    {
     "name": "stdout",
     "output_type": "stream",
     "text": [
      "Volumen del mercado volatil en el momento inicial (USD) 1000000.0\n",
      "Volumen del mercado estable1 en el momento inicial (USD) 1089945.2979806012\n",
      "Volumen del mercado estable2 en el momento inicial (USD) 1032376.0475918783\n",
      "Volumen del mercado estable3 en el momento inicial (USD) 1061160.6729369806\n",
      "Luego de 100 iteraciones:\n",
      "Margen Mercado volatil (USD) -4838.563189644799\n",
      "Margen Mercado estable1 (USD) 562.4419124735141\n",
      "Margen Mercado estable2 (USD) 1517.6148972716583\n",
      "Margen Mercado estable3 (USD) 798.9923685851772\n",
      "Margen neto entre mercados (USD) -1959.5140113144498\n"
     ]
    }
   ],
   "source": [
    "print(\"Volumen del mercado volatil en el momento inicial (USD)\",TS1[0]*2500)\n",
    "print(\"Volumen del mercado estable1 en el momento inicial (USD)\",TS2[0])\n",
    "print(\"Volumen del mercado estable2 en el momento inicial (USD)\",TS3[0])\n",
    "print(\"Volumen del mercado estable3 en el momento inicial (USD)\",TS4[0])\n",
    "\n",
    "print(\"Luego de 100 iteraciones:\")\n",
    "\n",
    "print('Margen Mercado volatil (USD)',Margenm1)\n",
    "print('Margen Mercado estable1 (USD)',Margenm2)\n",
    "print('Margen Mercado estable2 (USD)',Margenm3)\n",
    "print('Margen Mercado estable3 (USD)',Margenm4)\n",
    "\n",
    "print(\"Margen neto entre mercados (USD)\",Margenm1+Margenm2+Margenm3+Margenm4)"
   ]
  },
  {
   "cell_type": "code",
   "execution_count": 509,
   "metadata": {},
   "outputs": [],
   "source": [
    "TS1inUSD = []\n",
    "for i in TS1:\n",
    "    TS1inUSD.append(i*2500)\n",
    "    \n",
    "netMar0 = []; netMar1 = []; netMar2 = []\n",
    "for i in range(len(TS1inUSD)):\n",
    "    netMar0.append((mAgg1.loc[i,'IA.Borrow(ETH)'] - mAgg1.loc[i,'IA.Supply(ETH)'])*pETHusd)\n",
    "    netMar1.append(mAgg2.loc[i,'IA.Borrow(USD)'] - mAgg2.loc[i,'IA.Supply(USD)'])\n",
    "    netMar2.append(mAgg3.loc[i,'IA.Borrow(USD)'] - mAgg3.loc[i,'IA.Supply(USD)'])"
   ]
  },
  {
   "cell_type": "code",
   "execution_count": 510,
   "metadata": {},
   "outputs": [
    {
     "data": {
      "image/png": "[encoded data removed]",
      "text/plain": [
       "<Figure size 432x288 with 1 Axes>"
      ]
     },
     "metadata": {
      "needs_background": "light"
     },
     "output_type": "display_data"
    }
   ],
   "source": [
    "plt.plot(TS1inUSD,label=\"Volatile market (USD)\")\n",
    "plt.plot(TS2,label=\"Stabel market1\")\n",
    "plt.plot(TS3,label=\"Stabel market2\")\n",
    "plt.plot(TS4,label=\"Stabel market3\")\n",
    "plt.xlabel(\"Días\"); plt.ylabel(\"USD values\")\n",
    "plt.legend()\n",
    "plt.show()"
   ]
  },
  {
   "cell_type": "code",
   "execution_count": null,
   "metadata": {},
   "outputs": [],
   "source": []
  }
 ],
 "metadata": {
  "kernelspec": {
   "display_name": "Python 3",
   "language": "python",
   "name": "python3"
  },
  "language_info": {
   "codemirror_mode": {
    "name": "ipython",
    "version": 3
   },
   "file_extension": ".py",
   "mimetype": "text/x-python",
   "name": "python",
   "nbconvert_exporter": "python",
   "pygments_lexer": "ipython3",
   "version": "3.8.8"
  }
 },
 "nbformat": 4,
 "nbformat_minor": 2
}
