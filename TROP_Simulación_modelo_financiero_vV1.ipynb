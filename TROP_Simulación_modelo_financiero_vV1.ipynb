{
 "cells": [
  {
   "cell_type": "markdown",
   "metadata": {
    "id": "4qkp9x2CR5Sf"
   },
   "source": [
    "# Simulación para los smart contracts\n"
   ]
  },
  {
   "cell_type": "code",
   "execution_count": null,
   "metadata": {
    "id": "BwgjgLZpR4s6"
   },
   "outputs": [],
   "source": [
    "# Importación de librerias \n",
    "\n",
    "# Númericas\n",
    "import numpy as np         # Para trabajar arreglos matriciales\n",
    "import random              # Para determinar valores aleatorios\n",
    "import scipy.stats as ss   # Aleatoriedad atada a una distribución de probabilidad\n",
    "import math \n",
    "\n",
    "# Gráficas\n",
    "import matplotlib.pyplot as plt\n",
    "from IPython.core.pylabtools import figsize\n",
    "import plotly.graph_objects as go"
   ]
  },
  {
   "cell_type": "markdown",
   "metadata": {
    "id": "3Ieu9TvOzQsf"
   },
   "source": [
    "## Parámetros del protocolo\n",
    "\n",
    "Para definir los mercados que harán parte del protocolo, se deben definir los parámetros que definirán comportamientos especificos en el modelo de *lending and borrow*, tales como el porcentaje de reservas requerido, la tasa de garantía o colateral, etc.\n",
    "\n",
    "*  **Collateral Factor:** Es el porcentaje que se puede tomar prestado de un activo en base a lo que se suministra. Por ejemplo, supongamos que suministramos $100\\text{ TK1}$ (tokens 1) al protocolo, actualmente el mercado $\\text{TK1}$ cuenta con un collateral factor del $75\\%$, esto nos indica que podemos tomar prestado hasta $75\\text{ TK1}=100\\text{ TK1}\\cdot75\\%$.\n",
    "\n",
    "*  **Reserve Factor:** Es el porcentaje de la cantidad suministrada que se va a \"guardar\" como reservas en el protocolo.\n",
    "\n",
    "*  **Modelo de tasas de interés:** Es la expresión matemática encargada de asignar una tasa de interés a cada mercado en función de la oferta y la demanda presentes en cada mercado.\n",
    "\n",
    "$$\\text{Borrow APR}=0.02+0.1\\cdot\\text{utilization rate}$$\n",
    "\n",
    "*  **Exchange rate initial:** Es la tasa de cambio inicial entre los tokens y los cTokens. Por ejemplo, si consideramos el mercado $\\text{TK1}$ y sabemos que el equivalente a $1\\text{ TK1}$ en cTK1 es $0.02\\text{ cTK1}$, el exchange rate actual es $0.02\\text{ cTK1}$.\n",
    "\n",
    "A continuación definiremos los parámetros de dos mercados, $\\text{MK1}$ y $\\text{MK2}$:"
   ]
  },
  {
   "cell_type": "code",
   "execution_count": null,
   "metadata": {
    "id": "GYXCfA_p6uu8"
   },
   "outputs": [],
   "source": [
    "# Numero de bloques por año en la red\n",
    "\n",
    "ETHBlocks = 4*60*24*365\n",
    "RSKBlocks = ETHBlocks/2\n",
    "\n",
    "# Collateral Factors - Uno por cada mercado\n",
    "\n",
    "collFactor_MK1 = 0.75  # Collateral factor para el mercado MK1\n",
    "collFactor_MK2 = 0.75  # Collateral factor para el mercado MK2\n",
    "\n",
    "# Lista con los Collateral Factors\n",
    "collateralFactors = [collFactor_MK1,\n",
    "                     collFactor_MK2]\n",
    "\n",
    "# Reserve Factors - Uno por cada mercado\n",
    "\n",
    "reserveFactor_MK1 = 0.20   # Reserve Factor para el mercado MK1\n",
    "reserveFactor_MK2 = 0.15   # Reserve Factor para el mercado MK2\n",
    " \n",
    "# Lista con los Reserve Factors                    \n",
    "reserveFactors = [reserveFactor_MK1, \n",
    "                  reserveFactor_MK2]\n",
    "\n",
    "# El modelo de tasas de interés - Una expresión para todos los mercados\n",
    "\n",
    "def getBorrowAPR(utilizationRate):   # Borrow APR\n",
    "  return 0.02 + 0.1*utilizationRate\n",
    "\n",
    "def getSupplyAPR(borrowRate,reserveFactor,utilizationRate):  # Supply APR\n",
    "  return borrowRate*utilizationRate*(1-reserveFactor)\n",
    "\n",
    "def getAPY(rateAPR):   # APY rates\n",
    "  return (1 + rateAPR/12)**12-1"
   ]
  },
  {
   "cell_type": "markdown",
   "metadata": {
    "id": "H5RvylbY-XWA"
   },
   "source": [
    "## Estructura de los mercados\n",
    "\n",
    "Dado que el estado de cada mercado se actualiza en cada bloque, debemos implementar una manera adecuada de conocer el estado del mercado y además, el estado de cada usuario (balance de la cuenta y movimientos de cada usuario). \n",
    "\n",
    "![texto del enlace](Imagenes/market_structure.jpg)\n",
    "\n",
    "Cada mercado en cada bloque tiene un estado similar a la imágen anterior, cada casilla cumple una función especifica:\n",
    "1.   **Borrow rate:** Es la tasa de prestamo actual, esta se calcula en base a la tasa de utilización del bloque anterior.\n",
    "2.   **Supply rate:** Es la tasa de suministro actual, o de otra forma, será la tasa a la cual el lender esta ganando intereses en función de su capital suministrado. Al igual que el *borrow rate*, se calcula en base al bloque anterior.\n",
    "3.   **Token price:** Es el precio actual del mercado, es una variable independiente del protocolo y viene dada por un oraculo.\n",
    "4.  **Total pool reserves:** Es la cantidad de reservas actuales en el mercado.\n",
    "5.  **Exchange rate:** Tasa de cambio entre tokens y ctokens en el bloque actual.\n",
    "6.  **t:** Es la cantidad de bloques que lleva la tasa *borrow rate*, tambien se puede entender como la cantidad de bloques en las que no se ha hecho ninguna acción por parte de los usuarios.\n",
    "7.  **Total borrow:** Es la cantidad total de tokens prestados (junto con intereses) en el mercado en el bloque actual.\n",
    "8.  **Total supply:** Es la cantidad total de tokens suministrados en el mercado.\n",
    "9.  **Movimiento de usuarios y registro de acciones:** En esta casilla se guardan las carteras y las acciones que realizará cada usuario en el bloque actual, cada elemento en esta casilla se puede ver como: \n",
    "![texto del enlace](Imagenes/user_structure.jpg)\n",
    "\n",
    "Todos los usuarios que hagan parte del mercado poseen las caracteristicas o datos que se ven en el diagrama anterior: \n",
    "*   En la primera casilla encontramos la *acción* que realiza el usuario, en cada bloque cada usuario puede realizar una de cinco acciones: *supply* (o suministrar liquidez), *borrow*, *withdraw*, *repay* o no hacer nada.\n",
    "*   En la segunda casilla encontramos el amount, será el monto o la cantidad de tokens que se emplean dependiendo de la acción.\n",
    "*   En la tercera y cuarta posición encontramos los datos correspondientes al supply del usuario, en la tercera los montos que suministra el usuario y en la cuarta lo suministrado mas los intereses que se van acumulando.\n",
    "*   Finalmente en las quinta y sexta posición encontramos los datos correspondientes a los prestamos que realice el usuario en el mercado. De manera análoga se guardan en la quinta posición los montos que se solicitan como prestamo y en la sexta posición los montos prestados mas los intereses que se generan por la deuda.\n"
   ]
  },
  {
   "cell_type": "code",
   "execution_count": null,
   "metadata": {
    "id": "BThiDfXFd5u5"
   },
   "outputs": [],
   "source": [
    "# Supondremos un monto minimo y un monto máximo para el supply inicial\n",
    "\n",
    "sup_min = 1*10**(-18)  # supply minimo inicial\n",
    "sup_max = 1*10**18     # supply maximo inicial\n",
    "\n",
    "# Tuplas de acciones de usuarios (actionIndex, Amount, supplied, supplyInterest, borrowed, borrowInterest)\n",
    "\n",
    "# Las acciones se identificaran por los siguientes simbolos:\n",
    "# s --> Supply\n",
    "# b --> Borrow\n",
    "# w --> Withdraw\n",
    "# r --> Repay"
   ]
  },
  {
   "cell_type": "markdown",
   "metadata": {
    "id": "JfNTHdht4-2_"
   },
   "source": [
    "## Configuración de un mercado\n",
    "\n",
    "Para crear el entorno inicial debemos tener presente varios factores que influiran de manera significativa en nuestra simulación.\n",
    "\n",
    "Lo primero es establecer la cantidad de usuarios que vamos a considerar, está debe ser la misma para todos los mercados que se quieran crear. Una vez establecido este valor debemos \"llamar\" los valores ya establecidos por gobernanza y podremos crear tantos mercados como necesitemos."
   ]
  },
  {
   "cell_type": "code",
   "execution_count": null,
   "metadata": {
    "id": "QrkMVUr2ag2Y"
   },
   "outputs": [],
   "source": [
    "# Formato de visualización del mercado\n",
    "\n",
    "def fixLen(value, isNumber=False):\n",
    "  if isNumber: \n",
    "    value = '%.5f' % value\n",
    "    value = value[:9]\n",
    "  return '{:9s}'.format(str(value))\n",
    "\n",
    "def printMarket(market):\n",
    "  blockNumber = 0\n",
    "  for marketAtblock in market:\n",
    "    print('accrualBlockNumber:', marketAtblock[5], '\\t exchangeRate:', marketAtblock[4],\n",
    "          '\\t marketPrice:', marketAtblock[2])\n",
    "    print('totalSupplies:', marketAtblock[7], '\\t totalBorrows:', marketAtblock[6],\n",
    "          '\\t totalReserves:', marketAtblock[3])\n",
    "    print('borrowRateAPR:', marketAtblock[0], '\\t supplyRateAPR:', marketAtblock[1],'\\n')\n",
    "    print('|','-'*11,'|','-'*11,'|','-'*11,'|','-'*11,'|','-'*11,'|','-'*11,'|','-'*11,'|','-'*11,'|')\n",
    "    print('| ',fixLen('# Block'),' | ',fixLen('UserIdx'),' | ',fixLen('Action'),' | ',\n",
    "          fixLen('Amount'),' | ',fixLen('Supply'),' | ',fixLen('SPlusI'),' | ',\n",
    "          fixLen('Borrow'),' | ',fixLen('BPlusI'),' |')    \n",
    "    print('|','-'*11,'|','-'*11,'|','-'*11,'|','-'*11,'|','-'*11,'|','-'*11,'|','-'*11,'|','-'*11,'|')\n",
    "    userIndex = 0\n",
    "    for user in marketAtblock[8:]:\n",
    "      print('| ',fixLen(blockNumber),' | ',fixLen(userIndex),' | ',fixLen(user[0]),' | ',fixLen(user[1], True),' | ',fixLen(user[2], True),' | ',fixLen(user[3], True),' | ',fixLen(user[4], True),' | ',fixLen(user[5], True),' |')\n",
    "      userIndex += 1\n",
    "    blockNumber+=1\n",
    "    print('|','-'*11,'|','-'*11,'|','-'*11,'|','-'*11,'|','-'*11,'|','-'*11,'|','-'*11,'|','-'*11,'|')\n",
    "    \n",
    "MK1 = marketSetUp(5,0.2,0.5,11,0,50,getBorrowAPR_MK1)\n",
    "printMarket(MK1)"
   ]
  },
  {
   "cell_type": "code",
   "execution_count": null,
   "metadata": {
    "colab": {
     "base_uri": "https://localhost:8080/"
    },
    "id": "xi0y9mbONauB",
    "outputId": "90aebffa-1098-496b-a1ff-e0a45da7bc2f"
   },
   "outputs": [],
   "source": [
    "def getBorrowAPR_MK1(utilizationRate):   # Borrow APR MK1\n",
    "  return 0.02 + 0.1*utilizationRate\n",
    "\n",
    "def getBorrowAPR_MK2(utilizationRate):   # Borrow APR MK2\n",
    "  return 0.02 + 0.1*utilizationRate\n",
    "\n",
    "def marketSetUp(n_users, reserveFactor, initialSuppliersRate, initialTokenPrice, minSupply, maxSupply, interestModel):\n",
    "  market = []  \n",
    "  borrowRate = interestModel(0)\n",
    "  supplyRate = getSupplyAPR(borrowRate,reserveFactor,0)\n",
    "  initialExchangeRate = 50\n",
    "  market.append(borrowRate)  # Borrow rate with utilizationRate = 0\n",
    "  market.append(supplyRate)   # Supply rate with utilizationRate = 0\n",
    "  market.append(initialTokenPrice)  # Initial Price Market\n",
    "  market.append(0)  # Total Reserve\n",
    "  market.append(initialExchangeRate)  # Exchange Rate\n",
    "  market.append(0)  # Accrual block number\n",
    "  market.append(0)  # TotalBorrow in Market\n",
    "  market.append(0)  # TotalSupplied in Market\n",
    "  for i in range(n_users):\n",
    "    r = random.random()\n",
    "    if r <= initialSuppliersRate:\n",
    "      supplied = random.uniform(minSupply,maxSupply)\n",
    "      userSupply = (\"s\",supplied,supplied,supplied*initialExchangeRate,0,0)\n",
    "      market.append(userSupply)\n",
    "    else:\n",
    "      market.append((\"x\",0,0,0,0,0))\n",
    "  supply = 0\n",
    "  for user in market[8:]:\n",
    "    supply += user[2]\n",
    "  reserve = supply*reserveFactor\n",
    "  market[3] = reserve  # Market reserve\n",
    "  market[7] = supply   # Market total supply\n",
    "  return [market]\n",
    "\n",
    "MK1 = marketSetUp(5,0.2,0.5,11,0,50,getBorrowAPR_MK1)\n",
    "printMarket(MK1)\n",
    "MK2 = marketSetUp(5,0.2,0.5,5,0,5000,getBorrowAPR_MK2)\n",
    "printMarket(MK2)"
   ]
  },
  {
   "cell_type": "markdown",
   "metadata": {
    "id": "LRHTubZVELSi"
   },
   "source": [
    "## Actualización de dinámicas del mercado\n",
    "\n",
    "Dado que en cada bloque debemos conocer el estado del mercado, debemos establecer mecanismos para actualizar todas las posibles variables de cada mercado.\n",
    "\n",
    "La manera en la que se actualizarán las tasas de interés vendrá dada por el modelo de interés y el comportamiento del mercado en el bloque anterior, esto quiere decir que en el bloque $n$ las tasas $\\text{Borrow rate}$ y $\\text{Supply rate}$ dependerán de la tasa de utilización (relación entre oferta y demanda) del bloque $n-1$.\n",
    "\n",
    "Recordemos que la tasa de utilización esta dada por la siguiente ecuación:\n",
    "\n",
    "$$\\text{Utilization rate}=\\frac{Total Borrow}{Total supply}\\approx\\frac{Total Borrow}{Total Supply+TotalBorrow}$$\n",
    "\n",
    "De ese modo, construiremos las funciones que nos permitiran determinar los posibles cambios en las diferentes tasas del mercado en el último bloque generado:\n",
    "\n",
    "# Stable coins\n",
    "$$\\text{Utilization rate}=\\frac{Total Borrow}{Total Liquility + Total Borrow}$$\n",
    "\n",
    "Borrow rate:\n",
    "\n",
    "$$\\text{Borrow rate}=\\left\\{\\begin{array}{ll}\n",
    "\\text{baseBorrowRate}+\\text{slope}_{1}*\\text{UtilizationRate} & \\text{si } utilizationRate\\leq kink\\\\\n",
    "\\text{crossPoint}+\\text{solpe}_{2}*\\text{UtilizationRate} & \\text{otherwise}\\end{array}\\right.$$\n",
    "\n",
    "Supply rate:\n",
    "\n",
    "$$\\text{Supply rate}={utilization Rate*borrowRate}*({1-reserveFator})$$"
   ]
  },
  {
   "cell_type": "code",
   "execution_count": null,
   "metadata": {
    "colab": {
     "base_uri": "https://localhost:8080/"
    },
    "id": "A9DhZfCsr6Y9",
    "outputId": "03e460a8-7b46-44a7-f6c9-c5f75f478b72"
   },
   "outputs": [],
   "source": [
    "# Calculo de la tasa de utilización del mercado en el bloque actual\n",
    "\n",
    "def getUtilizationRate(mk, blockNumber):\n",
    "  Suppliers = []; Borrowers = []\n",
    "  for user in mk[blockNumber-1][8:]:\n",
    "    if user[2] != 0:  Suppliers.append(user[2])\n",
    "    if user[4] != 0:  Borrowers.append(user[4])\n",
    "  totalSupply = sum(Suppliers)\n",
    "  totalBorrow = sum(Borrowers)\n",
    "  if totalSupply == 0: return 0\n",
    "  else:\n",
    "    return totalBorrow/totalSupply\n",
    "\n",
    "# Calculo de la tasa Borrow rate (por el momento se esta tomando la tasa APR)\n",
    "\n",
    "def borrowRatePerBlock(market, blockNumber, interestModel):  \n",
    "  utilizationRate = getUtilizationRate(market, blockNumber)\n",
    "  borrowAPR = interestModel(utilizationRate)\n",
    "  return borrowAPR\n",
    "\n",
    "# Calculo de la tasa Supply rate (por el momento se esta tomando la tasa APR)\n",
    "\n",
    "def supplyRatePerBlock(market, blockNumber, reserveFactor,borrowRateB):\n",
    "  utilizationRate = getUtilizationRate(market, blockNumber)\n",
    "  supplyAPR = getSupplyAPR(borrowRateB, reserveFactor, utilizationRate)\n",
    "  return supplyAPR\n",
    "\n",
    "UR_MK1 = getUtilizationRate(MK1,0)\n",
    "BOR_MK1 = borrowRatePerBlock(MK1,0,getBorrowAPR_MK1)\n",
    "SUP_MK1 = supplyRatePerBlock(MK1,0,reserveFactors[0],BOR_MK1)\n",
    "print(\"La tasa de utilización del mercado MK1 en el bloque cero es %.4f\" %UR_MK1)\n",
    "print(\"El Borrow rate para el bloque 1 en el mercado MK1 será %.4f\" %BOR_MK1)\n",
    "print(\"El Supply rate para el bloque 1 en el mercado MK1 será %.4f\" %SUP_MK1)"
   ]
  },
  {
   "cell_type": "markdown",
   "metadata": {
    "id": "U7qjeANqHcb1"
   },
   "source": [
    "Para actualizar las demas variables que definen el estado del mercado en el nuevo bloque, debemos contar la cantidad de bloques en las que las tasas de interés no han sufrido cambios, es decir, bloques en los que no hubo cambios entre la oferta y la demanda del mercado. Para esto definiremos la función que cambiará el valor de $t$, el cual como ya mencionamos, será la cantidad de bloques sin cambios en las tasas de interés:"
   ]
  },
  {
   "cell_type": "code",
   "execution_count": null,
   "metadata": {
    "id": "cGpNPt19kVuI"
   },
   "outputs": [],
   "source": [
    "# Funcion para calcular los t\n",
    "\n",
    "def accrualBlockNumber(market, blockNumber, borrowRate):   \n",
    "  if blockNumber == 0:\n",
    "    return 0\n",
    "  elif blockNumber == 1:\n",
    "    return 1\n",
    "  else:\n",
    "    if market[blockNumber-1][0] != borrowRate:  # BorrowAPR[-1] y borrowAPR[-2]\n",
    "      return 0\n",
    "    else:\n",
    "      return market[blockNumber-1][5]+1"
   ]
  },
  {
   "cell_type": "code",
   "execution_count": null,
   "metadata": {
    "colab": {
     "base_uri": "https://localhost:8080/"
    },
    "id": "Mc30BQer950p",
    "outputId": "6c01c6b6-1827-48e9-c3f3-9e8b5eebb72c"
   },
   "outputs": [],
   "source": [
    "accrualBlockNumber(MK1,0)"
   ]
  },
  {
   "cell_type": "markdown",
   "metadata": {
    "id": "HuIT16hoIu_g"
   },
   "source": [
    "En base al valor de $t$ se calcularán de una u otra forma los intereses tanto del mercado como de los usuarios. Analicemos esto con un ejemplo:\n",
    "\n",
    "Supongamos que estamos interesados en realizar un suministro al mercado MK1 y que al momento de realizar el suministro las tasas de interes son $\\text{Borrow rate}=0.05$ y $\\text{Supply rate}=0.02$; nuestros fondos creceran con la misma tasa de interés en tanto que ningún usuario interactue con el mercado MK1, es decir, la tasa de interés será la misma mientras que ningún otro usuario (o nosotros) realicemos un supply, un borrow, un withdraw o un repay.\n",
    "\n",
    "En este cambio el interés será del tipo **simple**, con lo cual si suponemos que en 100 bloques no se ha realizado niguna acción, tendremos\n",
    "\n",
    "$$\\text{Capital}_{100} = \\text{Capital}_0*(1+100*\\text{Supply rate})$$\n",
    "\n",
    "o de manera general,\n",
    "\n",
    "$$\\text{Capital}_{\\text{bloque_n}} = \\text{Capital}_{\\text{bloque_0}}*(1+t*\\text{Supply rate})$$\n",
    "\n",
    "si en $n$ bloques no se ha realizado ninguna acción. Por otro lado, si el valor de $t$ es cero (esto implica que algún usuario realizó una acción en el mercado MK1), se deben capitalizar los intereses, en este punto el interés se transforma en un interés del tipo compuesto, con lo cual si suponemos que en el bloque 101 alguien realizo alguna acción, tendremos\n",
    "\n",
    "\\begin{align}\n",
    "\\text{Capital}_{101}&=\\text{Capital}_{100}*(1+\\text{New supply rate})\\\\\n",
    "&=\\text{Capital}_{0}*(1+100*\\text{Supply rate})*(1+\\text{New supply rate})\n",
    "\\end{align}\n",
    "\n",
    "Realizando así, el proceso de capitalización de intereses en el momento que se actualizan las tasas del mercado.\n",
    "\n",
    "![texto del enlace](Imagenes/interest.jpg)\n",
    "\n",
    "De ese modo, debemos actualziar el saldo total prestado del mercado en base a los intereses (simples o compuesto) que se calculen."
   ]
  },
  {
   "cell_type": "code",
   "execution_count": null,
   "metadata": {
    "colab": {
     "base_uri": "https://localhost:8080/"
    },
    "id": "1ZwggkEop40R",
    "outputId": "9e4889d8-6b7e-4195-f67f-8e6e50b0a90e"
   },
   "outputs": [],
   "source": [
    "# Rate por bloque\n",
    "def ratePerBlock(rateAPR):\n",
    "  rate = rateAPR/ETHBlocks\n",
    "  return rate \n",
    "\n",
    "# Saldo total prestado del mercado en el bloque actual\n",
    "\n",
    "def totalBorrowMarket(market,blockNumber):\n",
    "  totalBorrow = 0\n",
    "  for user in market[blockNumber-1][8:]:\n",
    "    totalBorrow += user[5]\n",
    "  return totalBorrow\n",
    "\n",
    "totalBorrowMarket(MK1,0)"
   ]
  },
  {
   "cell_type": "code",
   "execution_count": null,
   "metadata": {
    "colab": {
     "base_uri": "https://localhost:8080/"
    },
    "id": "EEjZfsbT49j8",
    "outputId": "14cbc6f1-ad64-468e-e2dd-b2b6969db153"
   },
   "outputs": [],
   "source": [
    "# Saldo total suministrado en el mercado\n",
    "\n",
    "def totalSupplyMarket(market,blockNumber):\n",
    "  supply = 0\n",
    "  for user in market[blockNumber-1][8:]:\n",
    "    supply += user[2]   # Se toman unicamente las cantidades suministradas sin intereses\n",
    "  return supply\n",
    "\n",
    "totalSupplyMarket(MK1,0)"
   ]
  },
  {
   "cell_type": "markdown",
   "metadata": {
    "id": "oKiu0rA40n1I"
   },
   "source": [
    "Continuando con la actualización de los valores propios del mercado, tenemos el total de reservas del mercado. Al igual que el saldo total prestado, las reservas tambien se capitalzian de acuerdo a la actualización de las tasas del mercado, con lo cual, la manera en la que se calcularán las reservas en un bloque $n$ será:\n",
    "\n",
    "$$\\text{TotalReserves}_n=\\left\\{\\begin{array}{ll}\n",
    "\\text{TotalReserves}_{0}+\\text{TotalBorrow}_{0}*(\\text{BorrowRate}*t*\\text{ReserveFactor}) & \\text{si }t\\neq0\\\\\n",
    "\\text{TotalReserves}_{n-1}+\\text{TotalBorrow}_{n-1}*(\\text{BorrowRate}*\\text{ReserveFactor}) & \\text{si }t=0\\end{array}\\right.$$\n",
    "\n",
    "La expresión anterior se puede entender como que una parte (tanta como el factor de reserva) de los intereses generados por los prestamos, se irá para la reserva del mercado."
   ]
  },
  {
   "cell_type": "code",
   "execution_count": null,
   "metadata": {
    "colab": {
     "base_uri": "https://localhost:8080/"
    },
    "id": "NXSyJSQ-VWws",
    "outputId": "b266b9e6-c945-4701-cdad-5387fb5711b0"
   },
   "outputs": [],
   "source": [
    "# Calculo de las reservas del mercado\n",
    "\n",
    "def totalReserveMarket(market,blockNumber,reserveFactor,borrowRatePerBlock,totalBorrow):\n",
    "  if blockNumber != 0:  # Se considera desde el bloque 1 en adelante\n",
    "    reserve = market[blockNumber-1][3]\n",
    "    t = accrualBlockNumber(market, blockNumber,borrowRatePerBlock*(4*60*24))\n",
    "    if t!=0:   # Interés simple\n",
    "      reserve += totalBorrow*(borrowRatePerBlock*reserveFactor*t)  # blockNumber-1 \n",
    "      return reserve  # reserve=reserv+totalBorrowmarket*(borrowAPR*t*reserveFactor)\n",
    "    else:     # Interés compuesto / capitalización de intereses\n",
    "      reserve += totalBorrow*(borrowRatePerBlock*reserveFactor)\n",
    "      return reserve\n",
    "  else:\n",
    "    return market[0][3]\n",
    "\n",
    "borrowRatePer = borrowRatePerBlock(MK1,1,getBorrowAPR_MK1)\n",
    "totalBorrow = totalBorrowMarket(MK1,0)    # Debe ser del bloque anterior\n",
    "totalReserveMarket(MK1,1,0.2,borrowRatePer,totalBorrow,)"
   ]
  },
  {
   "cell_type": "markdown",
   "metadata": {
    "id": "u5-YnRQT9Sl6"
   },
   "source": [
    "Es momento de establecer el mecanismo por el cual se define la tasa de cambio entre tokens y ctokens. Para comprender esta noción debemos tener presente los siguientes conceptos:\n",
    "\n",
    "*  **Acuñar tokens (mint tokens):** Es el proceso de suministrar algún activo en el mercado y recibir ctokens a cambio.\n",
    "*  **Saldo total de subyacente:** Es la cantidad de tokens que hay en el mercado.\n",
    "*  **Saldo total prestado:** Es la cantidad de tokens prestados.\n",
    "*  **Reservas:** Reservas actuales del mercado.\n",
    "\n",
    "Con lo cual, la expresión que define la tasa de cambio en el bloque actual es\n",
    "\n",
    "$$TokenPrice = \\frac{1}{cTokenPrice}=\\frac{TotalUnderlyingBalance+TotalBorrowBalance-Reserves}{cTokenMinted}$$\n",
    "\n",
    "Una característica que cabe mencionar es que a pesar de que la tasa de cambio depende del saldo total suministrado y si este baja, la tasa de cambio tambien podrá bajar, el crecimiento en el valor de los cTokens se verá directamente relacionado con la acumulación de intereses generados por los prestamos de cada usuario.\n",
    "\n",
    "Para determinar la cantidad $cTokenMinted$ debemos tomar la cantidad de tokens en el mercado (incluyendo los tokens que fueron prestados fuera de intereses) y dividirlos por el precio anterior de los cTokens."
   ]
  },
  {
   "cell_type": "code",
   "execution_count": null,
   "metadata": {
    "id": "mCW5Xd5jWvrR"
   },
   "outputs": [],
   "source": [
    "# Tasa de cambio para un mercado\n",
    "\n",
    "def exchangeRateMarket(market,blockNumber,reserveFactor,totalSupply,totalBorrow,totalReserves):\n",
    "  if blockNumber == 0:\n",
    "    return 50   # exchangeRate inicial\n",
    "  else:\n",
    "    if market[blockNumber-1][4] == 0:\n",
    "      exchangeRate = market[0][4]\n",
    "    else:\n",
    "      exchangeRate = market[blockNumber-1][4]\n",
    "    #cTokenMinted = totalSupply*exchangeRate   # Cambio a precios muy elevados del ctoken\n",
    "    cTokenMinted = 0\n",
    "    for user in market[blockNumber-1][8:]:\n",
    "      cTokenMinted += user[3]\n",
    "    if totalSupply+totalBorrow-totalReserves != 0:\n",
    "      exchangeRate = cTokenMinted/(totalSupply+totalBorrow-totalReserves)\n",
    "    return exchangeRate"
   ]
  },
  {
   "cell_type": "markdown",
   "metadata": {
    "id": "WRemMuWpUAk_"
   },
   "source": [
    "Una vez obtenidos todos los valores anteriormente mencionados, podemos definir el estado del mercado en el siguiente bloque; es importante mencionar que en este punto aun no hemos tomado en cuenta los movimientos de los usuarios."
   ]
  },
  {
   "cell_type": "code",
   "execution_count": null,
   "metadata": {
    "colab": {
     "base_uri": "https://localhost:8080/"
    },
    "id": "XcmA8R_2Xmco",
    "outputId": "b1b70f2f-e57e-4304-d69c-61166b6411cf"
   },
   "outputs": [],
   "source": [
    "# Definición del estado del mercado en el siguiente bloque \n",
    "def setMarketVariablesInBlock(market, blockNumber, reserveFactor, marketPrice, interestModel):  # blockNumber -1\n",
    "  borrowRate = borrowRatePerBlock(market,blockNumber,interestModel)\n",
    "  supplyRate = supplyRatePerBlock(market,blockNumber,reserveFactor,borrowRate)\n",
    "  totalBorrow = totalBorrowMarket(market,blockNumber)  #-1\n",
    "  totalReserve = totalReserveMarket(market,blockNumber,reserveFactor,borrowRate,totalBorrow)\n",
    "  totalSupply = totalSupplyMarket(market,blockNumber)  #-1\n",
    "  exchangeRate = exchangeRateMarket(market,blockNumber,reserveFactor,totalSupply,totalBorrow,totalReserve)\n",
    "  t = accrualBlockNumber(market,blockNumber,borrowRate)\n",
    "  mkAtBlock = [('x', 0, 0, 0, 0, 0)] * len(market[0])\n",
    "  if exchangeRate == 0:\n",
    "    exchangeRate = market[0][2]\n",
    "  mkAtBlock[0] = borrowRate\n",
    "  mkAtBlock[1] = supplyRate\n",
    "  mkAtBlock[2] = marketPrice\n",
    "  mkAtBlock[3] = totalReserve\n",
    "  mkAtBlock[4] = exchangeRate\n",
    "  mkAtBlock[5] = t \n",
    "  mkAtBlock[6] = totalBorrow\n",
    "  mkAtBlock[7] = totalSupply\n",
    "  userIndex = 8 #                                               Anni did this\n",
    "  for users in market[blockNumber-1][8:]: #                     Anni did this\n",
    "    mkAtBlock[userIndex] = market[blockNumber-1][userIndex] #   Anni did this\n",
    "    userIndex += 1 #                                            Anni did this\n",
    "  return mkAtBlock\n",
    "\n",
    "MK1_inBlock1 = setMarketVariablesInBlock(MK1,0,reserveFactors[0],12,getBorrowAPR_MK1)\n",
    "#printMarket(MK1)\n",
    "#Actualización de variables del mercado MK1 para el siguiente bloque\n",
    "printMarket([MK1_inBlock1])"
   ]
  },
  {
   "cell_type": "markdown",
   "metadata": {
    "id": "K0UU-8JTWra6"
   },
   "source": [
    "## Update de los movimientos de los usuarios\n",
    "\n",
    "Para simular cada una de las acciones que pueden realizar los usuarios será necesario implementar una distribución de probabilidad que modele la cantidad promedio de ocurrencias de algún suceso en un tiempo especifico, en nuestro contexto se traduce por ejemplo, a la cantidad promedio de usuarios que hacen supply en un bloque.\n",
    "\n",
    "La distribución de probabilidad la podemos entender como una expresión matemática que asigna a cada valor, la probabilidad de que \"aparezca\" dicho valor. \n",
    "\n",
    "En ese sentido, la distribución de probabilidad que mejor se ajusta a nuestra simulación es la distribución de Pöisson, la cual nos indicara la probabilidad de que uno o dos, o 100 usuarios realicen supply (por ejemplo) en un bloque dado.\n",
    "\n",
    "Para comprender mejor la noción de distribución de probabilidad que vamos a implementar en la simulación realizaremos un ejemplo gráfico.\n",
    "\n",
    "Supongamos que las condiciones del mercado son tales que el promedio de entradas de suppliers por bloque es 5, la cantidad de borrowers promedio es de 3, la de usuarios que realizan withdraw es de 1 y los que hacen un repay son 2 en promedio. Las distribuciones de probabilidad que se ajustan a estos valores son:\n"
   ]
  },
  {
   "cell_type": "code",
   "execution_count": null,
   "metadata": {
    "colab": {
     "base_uri": "https://localhost:8080/",
     "height": 542
    },
    "id": "p3dUfRc-x9gi",
    "outputId": "7b405a11-174b-4702-c414-f583eecbb433"
   },
   "outputs": [],
   "source": [
    "# Valores estimados de ocerrencias\n",
    "\n",
    "lambda_suppliers = 5    # Candidad estimada de llegada de suppliers por bloque  \n",
    "lambda_borrowers = 3    # Candidad estimada de llegada de borrowes por bloque\n",
    "lambda_withdraws = 1    # Candidad estimada de usuarios que realizan withdraw por bloque\n",
    "lambda_repays = 2       # Candidad estimada de usuarios que realizan repay por bloque\n",
    "\n",
    "# Distribuciones de Poisson para los valores dados\n",
    "\n",
    "suppliersDistribuion = ss.poisson(lambda_suppliers)   \n",
    "borrowersDistribuion = ss.poisson(lambda_borrowers)   \n",
    "withdrawsDistribuion = ss.poisson(lambda_withdraws)   \n",
    "repaysDistribuion = ss.poisson(lambda_repays)\n",
    "\n",
    "# Visualización\n",
    "\n",
    "people = np.arange(15)\n",
    "\n",
    "suppliersProbability = []  \n",
    "borrowersProbability = []\n",
    "withdrawsProbability = []\n",
    "repaysProbability = []\n",
    "\n",
    "for user in people:\n",
    "  suppliersProbability.append(suppliersDistribuion.pmf(user))   \n",
    "  borrowersProbability.append(borrowersDistribuion.pmf(user))   \n",
    "  withdrawsProbability.append(withdrawsDistribuion.pmf(user))\n",
    "  repaysProbability.append(repaysDistribuion.pmf(user))\n",
    "\n",
    "# Visualización\n",
    "fig = go.Figure()\n",
    "\n",
    "fig.add_trace(go.Scatter(x=people,y=suppliersProbability,name=\"Suppliers\"))\n",
    "fig.add_trace(go.Scatter(x=people,y=borrowersProbability,name=\"Borrowers\"))\n",
    "fig.add_trace(go.Scatter(x=people,y=withdrawsProbability,name=\"Withdraws\"))\n",
    "fig.add_trace(go.Scatter(x=people,y=repaysProbability,name=\"Repays\"))\n",
    "\n",
    "fig.update_layout(title=\"Distribuciones para la acción por parte de cada usuario por bloque\",\n",
    "                  xaxis_title='Cantidad de personas',\n",
    "                  yaxis_title='Probabilidad')\n",
    "fig.show()"
   ]
  },
  {
   "cell_type": "markdown",
   "metadata": {
    "id": "LP2oUFe7x49X"
   },
   "source": [
    "En la gráfica anterior podemos ver que la probabilidad de que 4 usuarios hagan supply es mayor por ejemplo a la probabilidad de que 4 usuarios hagan withdraw, también podemos ver que es mucho mas probable que 2 usuario hagan repay a que 7 usuarios lo hagan. Esta será la idea que implementaremos para modelar la ocurrencia de cada acción.\n",
    "\n",
    "A continuación definiremos cada uno de los posibles eventos que se pueden presentar en cada bloque:\n",
    "\n",
    "1.   **Nuevos suppliers**\n",
    "\n",
    "\n",
    "\n",
    "![texto del enlace](Imagenes/supply.jpg)"
   ]
  },
  {
   "cell_type": "code",
   "execution_count": null,
   "metadata": {
    "id": "CGJjx4rHv2ox"
   },
   "outputs": [],
   "source": [
    "def temporalBlock(market,blockNumber):\n",
    "  temporal = []\n",
    "  for value in market[blockNumber][:8]:\n",
    "    temporal.append(value)\n",
    "  for user in market[blockNumber][8:]:\n",
    "    temporal.append((\"x\",0,0,0,0,0))\n",
    "  return temporal"
   ]
  },
  {
   "cell_type": "code",
   "execution_count": null,
   "metadata": {
    "colab": {
     "base_uri": "https://localhost:8080/"
    },
    "id": "BM1AhCB5ucTU",
    "outputId": "a58f2404-c4ff-49b5-de4e-ccce5d360c6a"
   },
   "outputs": [],
   "source": [
    "def newSuppliers(market,estimatedOccurrences,blockNumber,minSupply,maxSupply,restriction=True):\n",
    "  marketCopyB = []\n",
    "  temporal = temporalBlock(market,blockNumber)\n",
    "  for user in market[blockNumber]:\n",
    "    marketCopyB.append(user)\n",
    "  poissonDistribution = ss.poisson(estimatedOccurrences)\n",
    "  n_users = len(marketCopyB[8:])\n",
    "  numberOfPeople = np.arange(n_users)\n",
    "  probability = []\n",
    "  for i in numberOfPeople:\n",
    "    probability.append(poissonDistribution.pmf(i))\n",
    "  numberOfNewSuppliers = random.choices(numberOfPeople,probability)[0]\n",
    "  users = []\n",
    "  userIndex = 8\n",
    "  for user in marketCopyB[8:]:\n",
    "    users.append((user,userIndex))\n",
    "    userIndex += 1\n",
    "  for newSupplier in range(numberOfNewSuppliers):\n",
    "    user, userIndex = random.sample(users,1)[0]\n",
    "    users.remove((user, userIndex))\n",
    "    if restriction == True:\n",
    "      if user[5] == 0:   # Si no tiene prestamos pendientes en este mercado\n",
    "        supplied = random.uniform(minSupply,maxSupply)\n",
    "        user = (\"s\", supplied, 0, 0, 0, 0)\n",
    "        temporal[userIndex]=user\n",
    "    else:\n",
    "      supplied = random.uniform(minSupply,maxSupply)\n",
    "      user = (\"s\", supplied, 0 , 0, 0, 0)\n",
    "      temporal[userIndex]=user\n",
    "  return temporal\n",
    "\n",
    "MK1_NS = newSuppliers(MK1,2,0,0,55)\n",
    "printMarket([MK1_NS])"
   ]
  },
  {
   "cell_type": "markdown",
   "metadata": {
    "id": "OTt0BQ-pmC97"
   },
   "source": [
    "2.  **Nuevos borrowers**\n",
    "\n",
    "![texto del enlace](Imagenes/borrow.jpg)\n",
    "\n",
    "Para determinar la capacidad de prestamo de cada usuario, se deben tener en cuenta los movimientos del mismo usuario en todos los mercados, el siguiente diagrama nos permite determinar el valor de la capacidad de prestamo:\n",
    "\n",
    "![texto del enlace](Imagenes/borrow_limit.jpg)\n",
    "\n",
    "Las casillas que vemos en el paso intermedio del diagrama anterior, corresponde con los balances del usuario en cada mercado, al realizar el dichos calculos se suman los valores obtenidos y el resultado será la capacidad de préstamo del usuario."
   ]
  },
  {
   "cell_type": "code",
   "execution_count": null,
   "metadata": {
    "colab": {
     "base_uri": "https://localhost:8080/"
    },
    "id": "Ij3iUGHHaTDF",
    "outputId": "119fc2f2-fb46-47f5-9ab4-44474ec28e40"
   },
   "outputs": [],
   "source": [
    "# Capacidad de prestamo del usuario\n",
    "\n",
    "def borrowlimit(markets,blockNumber,userIndex,collateralFactors):\n",
    "  capacity = 0\n",
    "  for m in range(len(markets)):\n",
    "    user = markets[m][blockNumber][userIndex]\n",
    "    capacity += (user[2]-user[5])*collateralFactors[m]*markets[m][blockNumber][2]\n",
    "  return capacity   # Capacidad de prestamo en USD\n",
    "\n",
    "# Nuevos borrowers\n",
    "\n",
    "# marketBor --> Mercado donde se va a pedir prestado\n",
    "def newBorrowers(markets,marketBor,estimatedOccurrences,blockNumber,collateralFactors):\n",
    "  marketCopyB = []\n",
    "  temporal = temporalBlock(marketBor,blockNumber)\n",
    "  for user in marketBor[blockNumber]:\n",
    "    marketCopyB.append(user)\n",
    "  poissonDistribution = ss.poisson(estimatedOccurrences)\n",
    "  n_users = len(marketCopyB[8:])\n",
    "  numberOfPeople = np.arange(n_users)\n",
    "  probability = []\n",
    "  for i in numberOfPeople:\n",
    "    probability.append(poissonDistribution.pmf(i))\n",
    "  numberOfNewBorrowers = random.choices(numberOfPeople,probability)[0]\n",
    "  users = []\n",
    "  userIndex = 8\n",
    "  for user in marketCopyB[8:]:\n",
    "    users.append((user,userIndex))\n",
    "    userIndex += 1\n",
    "  for newBorrower in range(numberOfNewBorrowers):\n",
    "    user, userIndex = random.sample(users,1)[0]\n",
    "    users.remove((user, userIndex))\n",
    "    liquidity = marketBor[blockNumber][7]-marketBor[blockNumber][6]-marketBor[blockNumber][3]\n",
    "    limit = borrowlimit(markets,blockNumber,userIndex,collateralFactors)/marketBor[blockNumber][2]\n",
    "    limit = min(limit,liquidity)\n",
    "    if limit > 0:\n",
    "      borrowed = random.uniform(0,limit)\n",
    "      user = (\"b\", borrowed, 0, 0, 0, 0)  # Se añade bloque donde pidio, monto, pagos \n",
    "      temporal[userIndex]=user                                           \n",
    "  return temporal\n",
    "\n",
    "markets = [MK1,MK2]\n",
    "updateBorrowers = newBorrowers(markets,MK2,3,0,[0.2,0.2])\n",
    "printMarket([updateBorrowers])"
   ]
  },
  {
   "cell_type": "code",
   "execution_count": null,
   "metadata": {
    "colab": {
     "base_uri": "https://localhost:8080/"
    },
    "id": "qrWxVv84gwDi",
    "outputId": "4cd5a007-b1c0-43db-dfcb-ed7cbadf0878"
   },
   "outputs": [],
   "source": [
    "printMarket(MK1)\n",
    "printMarket(MK2)"
   ]
  },
  {
   "cell_type": "markdown",
   "metadata": {
    "id": "6CBxRp1_OZPa"
   },
   "source": [
    "3.   **Nuevos withdraws**\n",
    "\n",
    "![texto del enlace](Imagenes/withdraw.jpg)\n",
    "\n",
    "En el diagráma anterior aparecen dos nuevos conceptos que no habiamos mencionado, el **ratio** del usuario y la **liquidez del mercado**.\n",
    "\n",
    "Recordemos que el collateral factor nos indicaba el porcentaje de colateral que podiamos tomar prestado, el ratio es el reciproco del collateral factor, es decir, el ratio nos permite determinar cual es la cantidad de collateral que necesitamos para dar garantia sobre el prestamo que tenemos.\n",
    "\n",
    "Por ejemplo, supongamos que tenemos un deposito de 100 tokens en el mercado $MK1$, el cual cuenta con un collateral factor de $75\\%$, esto nos indica que podemos realizar un prestamo de hasta 75 tokens en el mercado. Supongamos que realizamos dicho prestamo y que posteriormente pagamos 50 tokens de la deuda, quedandonos asi un saldo de 25 tokens en el prestamo (para el ejemplo no tomaremos en cuenta los intereses), la pregunta sería que tanto podemos sacar del colateral que teniamos? La respuesta nos la da el ratio y se calcula de la siguiente manera\n",
    "\n",
    "\\begin{align}\n",
    "ratio &= \\frac{1}{collateralFactor}*borrowBalance \\\\\n",
    "&=\\frac{1}{75\\%}*25\\\\\n",
    "&=33.3\n",
    "\\end{align}\n",
    "\n",
    "De ese modo podremos realizar un withdraw de hasta $66.6\\text{ tokens} = 100-33.3$.\n",
    "\n",
    "Por otro lado tenemos la liquidez del mercado, la cual en terminos concretos es la cantidad de tokens que hay en el mercado, incluyendo las reservas. Cabe resaltar que si se retiran tokens de la reserva se esta adquiriendo riesgo de liquidez en el mercado. \n",
    "\n",
    "La manera en la que se calcula la liquidez del mercado es \n",
    "\n",
    "$$\\text{liquidity}=\\text{total supply}-\\text{total borrow balance}$$\n",
    "\n"
   ]
  },
  {
   "cell_type": "code",
   "execution_count": null,
   "metadata": {
    "colab": {
     "base_uri": "https://localhost:8080/"
    },
    "id": "_rN1i8hAv22P",
    "outputId": "19df4042-31f7-4eff-da29-68b7e3221972"
   },
   "outputs": [],
   "source": [
    "def marketLiquidity(market,blockNumber):  \n",
    "  supply = totalSupplyMarket(market, blockNumber)\n",
    "  borrow = totalBorrowMarket(market,blockNumber)\n",
    "  return supply-borrow\n",
    "\n",
    "# Limite del withdraw\n",
    "\n",
    "# marketWithdraw --> Mercado donde se va a hacer el withdraw\n",
    "def withdrawLimitMarket(markets,marketWithdraw,blockNumber,collateralFactors,userIndex):\n",
    "  ratio = 0\n",
    "  for m in range(len(markets)):\n",
    "    supplyBalance = markets[m][blockNumber][userIndex][3]*markets[m][blockNumber][4]\n",
    "    borrowBalance = markets[m][blockNumber][userIndex][5]\n",
    "    ratio += ((supplyBalance - borrowBalance)/collateralFactors[m])*markets[m][blockNumber][2]\n",
    "  suppliedMarket = marketWithdraw[blockNumber][userIndex][3]/marketWithdraw[blockNumber][4]\n",
    "  liquidity = marketLiquidity(marketWithdraw,blockNumber)*markets[m][blockNumber][2]\n",
    "  return min(ratio,suppliedMarket,liquidity)\n",
    "\n",
    "# Nuevos Withdraws\n",
    "def newWithdraws(markets,marketWith,estimatedOccurrences,blockNumber,collateralFactors):\n",
    "  marketCopyB = []\n",
    "  temporal = temporalBlock(marketWith,blockNumber)\n",
    "  suppliers = []\n",
    "  for user in marketWith[blockNumber]:\n",
    "    marketCopyB.append(user)\n",
    "  poissonDistribution = ss.poisson(estimatedOccurrences)\n",
    "  npeople = 0\n",
    "  userIndex = 8\n",
    "  for user in marketCopyB[8:]:\n",
    "    if user[3] != 0:\n",
    "      npeople += 1\n",
    "      suppliers.append((user,userIndex))\n",
    "    userIndex += 1\n",
    "  numberOfPeople = np.arange(npeople+1)\n",
    "  probability = []\n",
    "  for i in numberOfPeople:\n",
    "    probability.append(poissonDistribution.pmf(i))\n",
    "  numberOfNewWithdraws = random.choices(numberOfPeople,probability)[0]\n",
    "  users = []\n",
    "  userIndex = 8\n",
    "  for user in marketCopyB[8:]:\n",
    "    users.append((user,userIndex))\n",
    "    userIndex += 1\n",
    "  numberOfNewWithdraws = min(numberOfNewWithdraws,len(suppliers))\n",
    "  for newWith in range(numberOfNewWithdraws):\n",
    "    user, userIndex = random.sample(users,1)[0]\n",
    "    users.remove((user, userIndex))\n",
    "    withdrawLimit = withdrawLimitMarket(markets,marketWith,blockNumber,collateralFactors,userIndex)\n",
    "    if withdrawLimit > 0:\n",
    "      withdrawAmount = (random.uniform(0,withdrawLimit))/marketWith[blockNumber][2]\n",
    "      user = (\"w\",withdrawAmount,0,0,0,0)\n",
    "    else:\n",
    "      user = (\"x\",0,0,0,0,0)\n",
    "    temporal[userIndex]=user\n",
    "  return temporal\n",
    "\n",
    "newWith = newWithdraws(markets,MK1,3,0,[0.2,0.2])\n",
    "printMarket([newWith])"
   ]
  },
  {
   "cell_type": "markdown",
   "metadata": {
    "id": "wUFCChS8YA6j"
   },
   "source": [
    "4.  **Nuevos repays**\n",
    "\n",
    "![texto del enlace](Imagenes/repay.jpg)"
   ]
  },
  {
   "cell_type": "code",
   "execution_count": null,
   "metadata": {
    "id": "Q8Z7M1WUyJms"
   },
   "outputs": [],
   "source": [
    "def newRepays(market, estimatedOccurrences, blockNumber):\n",
    "  marketCopyB = []\n",
    "  temporal = temporalBlock(market,blockNumber)\n",
    "  for user in market[blockNumber]:\n",
    "    marketCopyB.append(user)\n",
    "  poissonDistribution = ss.poisson(estimatedOccurrences)\n",
    "  borrowers = []\n",
    "  npeople = 0\n",
    "  userIndex = 8\n",
    "  for user in marketCopyB[8:]:\n",
    "    if user[5] != 0:  \n",
    "      npeople += 1\n",
    "      borrowers.append((user,userIndex))\n",
    "    userIndex += 1\n",
    "  numberOfPeople = np.arange(npeople+1)\n",
    "  probability = []\n",
    "  for i in numberOfPeople:\n",
    "    probability.append(poissonDistribution.pmf(i))\n",
    "  numberOfNewRepaies = random.choices(numberOfPeople,probability)[0]\n",
    "  users = []\n",
    "  userIndex = 8\n",
    "  for user in marketCopyB[8:]:\n",
    "    users.append((user,userIndex))\n",
    "    userIndex += 1\n",
    "  for newRepay in range(numberOfNewRepaies):\n",
    "    user, userIndex = random.sample(users,1)[0]\n",
    "    users.remove((user, userIndex))\n",
    "    repay = random.uniform(0,user[5]) \n",
    "    if repay != 0:\n",
    "      user = (\"r\",repay,0,0,user[5]-repay,user[5]-repay)\n",
    "    else:\n",
    "      user = (\"x\",0,0,0,user[5],user[5])\n",
    "    temporal[userIndex]=user\n",
    "  return temporal"
   ]
  },
  {
   "cell_type": "code",
   "execution_count": null,
   "metadata": {
    "id": "YrAJM5Soy8NH"
   },
   "outputs": [],
   "source": [
    "def newNothings(market, blockNumber):\n",
    "  marketCopyB = []\n",
    "  temporal = temporalBlock(market,blockNumber)\n",
    "  for user in market[blockNumber]:\n",
    "    marketCopyB.append(user)\n",
    "  userIndex = 8\n",
    "  for user in marketCopyB[8:]:\n",
    "    user = (\"x\",0,0,0,0,0)\n",
    "    temporal[userIndex] = user\n",
    "    userIndex += 1\n",
    "  return temporal"
   ]
  },
  {
   "cell_type": "markdown",
   "metadata": {
    "id": "8n-Kq3-AbXnd"
   },
   "source": [
    "## Generación del nuevo bloque"
   ]
  },
  {
   "cell_type": "code",
   "execution_count": null,
   "metadata": {
    "colab": {
     "base_uri": "https://localhost:8080/"
    },
    "id": "6awkJmgqzBs0",
    "outputId": "96154bac-e8b8-4bec-b129-929de467e031"
   },
   "outputs": [],
   "source": [
    "def interestSupply(market,blockNumber,borrowRate):\n",
    "  marketCopy = []\n",
    "  t = accrualBlockNumber(market,blockNumber,borrowRate)\n",
    "  currentExchangeRate = market[blockNumber][4]\n",
    "  for element in market[blockNumber]:\n",
    "    marketCopy.append(element)\n",
    "  for user in marketCopy[8:]:\n",
    "    userIndex = marketCopy.index(user)\n",
    "    if t != 0:\n",
    "      user = (user[0],user[1],user[2],user[3],user[4],user[5])   # No hay capitalizacion\n",
    "    else:\n",
    "      #capitalization = user[2]*currentExchangeRate\n",
    "      capitalization = user[2]\n",
    "      user = (user[0],user[1],capitalization,user[3],user[4],user[5])   # Capitalizacion\n",
    "    marketCopy[userIndex] = user\n",
    "  return marketCopy\n",
    "\n",
    "def interestBorrow(market,blockNumber,borrowRate):\n",
    "  marketCopy = []\n",
    "  t = accrualBlockNumber(market,blockNumber,borrowRate)\n",
    "  for element in market[blockNumber]:\n",
    "    marketCopy.append(element)\n",
    "  for user in marketCopy[8:]:\n",
    "    userIndex = marketCopy.index(user)\n",
    "    if t != 0:\n",
    "      interest = user[4]*(1+t*market[blockNumber][0])\n",
    "      user = (user[0],user[1],user[2],user[3],user[4],interest)  # No hay capitalizacion\n",
    "    else:\n",
    "      interest = user[5]*(1+market[blockNumber][0])\n",
    "      user = (user[0],user[1],user[2],user[3],user[5],interest)\n",
    "    marketCopy[userIndex] = user\n",
    "  return marketCopy\n",
    "\n",
    "def updateInterest(market,blockNumber,borrowRate):\n",
    "  supplyInterests = interestSupply(market,blockNumber,borrowRate)\n",
    "  borrowInterests = interestBorrow(market,blockNumber,borrowRate)\n",
    "  marketCopy = []\n",
    "  for value in market[blockNumber-1]:\n",
    "    marketCopy.append(value)\n",
    "  if blockNumber > 0:\n",
    "    userIndex = 8\n",
    "    for user in marketCopy[8:]:\n",
    "      supply = supplyInterests[userIndex][2]\n",
    "      supplyInterest = supplyInterests[userIndex][3]\n",
    "      borrow = borrowInterests[userIndex][4]\n",
    "      borrowInterest = borrowInterests[userIndex][5]\n",
    "      user = (\"x\",0,supply,supplyInterest,borrow,borrowInterest)\n",
    "      marketCopy[userIndex] = user\n",
    "      userIndex += 1\n",
    "    return marketCopy\n",
    "  else:\n",
    "    return marketCopy\n",
    "\n",
    "interestUpdate = updateInterest(MK1,0,0.023)\n",
    "#printMarket(MK1)\n",
    "printMarket([interestUpdate])"
   ]
  },
  {
   "cell_type": "code",
   "execution_count": null,
   "metadata": {
    "colab": {
     "base_uri": "https://localhost:8080/"
    },
    "id": "9PUQdX50GIXX",
    "outputId": "81567d59-5816-45d0-d379-1638508d92fb"
   },
   "outputs": [],
   "source": [
    "liquidationIncentive = 0.08\n",
    "closeFactor = 0.05\n",
    "\n",
    "def borrowPositions(markets,blockNumber,userIndex):\n",
    "  positions = []\n",
    "  for market in markets:\n",
    "    positions.append(market[blockNumber][userIndex])\n",
    "  return positions\n",
    "\n",
    "def totalBorrowUser(markets, blockNumber, positions, userIndex):\n",
    "  borrow = 0\n",
    "  for p in range(len(markets)):\n",
    "    borrow += positions[p][5]*markets[p][blockNumber][2]\n",
    "  return borrow  # En USD\n",
    "\n",
    "def liquidationIndicator(markets,blockNumber,positions,collateralFactors,userIndex):\n",
    "  userRatio = 0   # Valor en USD\n",
    "  marketsRatio = 0\n",
    "  for p in range(len(positions)):\n",
    "    if positions[p][5] != 0:\n",
    "      userRatio += (positions[p][3]/markets[p][blockNumber][4])*markets[p][blockNumber][2]/positions[p][5]\n",
    "    else:\n",
    "      userRatio += (positions[p][3]/markets[p][blockNumber][4])*markets[p][blockNumber][2]\n",
    "    marketsRatio += markets[p][blockNumber][2]/collateralFactors[p]\n",
    "  if userRatio < marketsRatio:\n",
    "    return True   # Si se cumple, la cuentra entra en liquidación\n",
    "  else: \n",
    "    return False\n",
    "\n",
    "def payLoanPerMarket(pay,market,blockNumber,borrowPosition,userIndex):\n",
    "  PositionCopy = []\n",
    "  for value in borrowPosition:\n",
    "    PositionCopy.append(value)\n",
    "  amount = pay/market[blockNumber][2]   # Valor del pago en tokens del mercado\n",
    "  balance = PositionCopy[5] - amount\n",
    "  if balance >= 0:\n",
    "    user = (\"x\",0,PositionCopy[2],PositionCopy[3],balance,balance)\n",
    "    pay = 0  # Se gasto toda la plata\n",
    "  else:\n",
    "    user = (\"x\",0,PositionCopy[2],PositionCopy[3],0,0)\n",
    "    pay = abs(balance)*market[blockNumber][2]   # Valor actualizado del pago en USD\n",
    "  PositionCopy = user\n",
    "  return [pay, PositionCopy]\n",
    "\n",
    "def payPerLiquidation(payPerLiq,market,blockNumber,collateralPosition,userIndex):\n",
    "  PositionCopy = []\n",
    "  for value in collateralPosition:\n",
    "    PositionCopy.append(value)\n",
    "  amount = payPerLiq/market[blockNumber][2]   # Valor del pago en tokens del mercado\n",
    "  balance = PositionCopy[3]/market[blockNumber][4] - amount\n",
    "  if balance >= 0:\n",
    "    user = (\"x\",0,balance,balance*market[blockNumber][4],PositionCopy[4],PositionCopy[5])\n",
    "    payPerLiq = 0  # Se gasto toda la plata\n",
    "  else:\n",
    "    user = (\"x\",0,0,0,PositionCopy[4],PositionCopy[5])\n",
    "    payPerLiq = abs(balance)*market[blockNumber][2]   # Valor actualizado del pago en USD\n",
    "  PositionCopy = user\n",
    "  return [payPerLiq, PositionCopy]\n",
    "\n",
    "def newLiquidator(markets,blockNumber,positions,pay,userIndex,liquidationIncentive=liquidationIncentive):\n",
    "  totalPay = pay\n",
    "  payPerLiq = totalPay*(1+liquidationIncentive)\n",
    "  for p in range(len(positions)):\n",
    "    newposition = payPerLiquidation(payPerLiq,markets[p],blockNumber,positions[p],userIndex)\n",
    "    payPerLiq = newposition[0]\n",
    "    positions[p] = newposition[1]\n",
    "  positions = positions[::-1]\n",
    "  markets = markets[::-1]\n",
    "  for p in range(len(positions)):\n",
    "    newposition = payLoanPerMarket(pay,markets[p],blockNumber,positions[p],userIndex)\n",
    "    pay = newposition[0]\n",
    "    positions[p] = newposition[1]\n",
    "  positions = positions[::-1]\n",
    "  markets = markets[::-1]\n",
    "  return positions\n",
    "\n",
    "def liquidation(markets,blockNumber,userIndex,collateralFactors,liquidationIncentive=liquidationIncentive,closeFactor=closeFactor):\n",
    "  positions = borrowPositions(markets,blockNumber,userIndex)\n",
    "  indicator = liquidationIndicator(markets,blockNumber,positions,collateralFactors,userIndex)\n",
    "  totalPay = 0\n",
    "  if indicator == True:\n",
    "    borrow = totalBorrowUser(markets,blockNumber,positions,userIndex)\n",
    "    totalBorrow = borrow\n",
    "    k = 0\n",
    "    while indicator == True and borrow != 0 and k < 100:\n",
    "      pay = totalBorrow*closeFactor   # Paga tanto como el close factor le permita\n",
    "      totalPay += pay\n",
    "      newpositions = newLiquidator(markets,blockNumber,positions,pay,userIndex,liquidationIncentive)\n",
    "      for p in range(len(positions)):\n",
    "        positions[p] = newpositions[p]\n",
    "      indicator = liquidationIndicator(markets,blockNumber,positions,collateralFactors,userIndex)\n",
    "      borrow = totalBorrowUser(markets,blockNumber,positions,userIndex)\n",
    "      k += 1\n",
    "    for p in range(len(positions)):\n",
    "      position = (positions[p][0]+\"l\",totalPay,positions[p][2],positions[p][3],positions[p][4],positions[p][5])\n",
    "      positions[p] = position\n",
    "    return positions\n",
    "  else:\n",
    "    return positions\n",
    "\n",
    "  #def reserveModification(payPerLiq,markets,blockNumber):\n",
    "  #for market in markets:\n",
    "  #  if payPerLiq > 0:\n",
    "  #    payPerLiq = payPerLiq - market[blockNumber][3]\n",
    "  #  else:\n",
    "  #     market[blockNumber][3] = abs(payPerLiq)\n",
    "  #     break\n",
    "  #return markets\n",
    "\n",
    "userliq = (\"x\",0,10,500,4,6)\n",
    "marketLiq = [[0.25,0.02,10,5,50,1,25,10,userliq,(\"x\",0,10,500,2,4)]]\n",
    "market2 =[[0.2,0.1,5,15,45,0,0,50,(\"x\",0,5,225,10,13),(\"x\",0,10,450,2,4)]]\n",
    "markets = [marketLiq,market2]\n",
    "#positionsUser = borrowPositions(markets,0,8)\n",
    "#print(positionsUser)\n",
    "#print(newLiquidator(markets,0,22.06492262371665,8))\n",
    "#print(liquidation(markets,0,9,[0.75,0.75]))\n",
    "liquidation(markets,0,0+8,[0.75,0.75])\n",
    "#positions = borrowPositions(markets,1,8)\n",
    "#print(positions)\n",
    "#liquidationIndicator(markets,0,positionsUser,[0.75,0.75],8)\n",
    "#newLiquidator(markets,0,positionsUser,50,8)"
   ]
  },
  {
   "cell_type": "code",
   "execution_count": null,
   "metadata": {
    "colab": {
     "base_uri": "https://localhost:8080/"
    },
    "id": "1IWbjS3D-vHX",
    "outputId": "9f95175f-1f13-4559-8906-bf80d9ef8d58"
   },
   "outputs": [],
   "source": [
    "TRU_supply = [6000,1000,5000,6000,1000,8000,1000,1500,2000,2000]\n",
    "TRU_borrow = [2000,1500,8000,1000,500,5000,300,500,1000,2000]\n",
    "TRU_withdraw = [1000,500,2000,450,1500,200,250,1000,2000,200]\n",
    "TRU_repays = [150,900,500,800,200,500,250,1000,1000,1000]\n",
    "suppliersPerDay = sum(TRU_supply)/len(TRU_supply)\n",
    "suppliersPerBlock = suppliersPerDay/(4*60*24)\n",
    "borrowersPerDay = sum(TRU_borrow)/len(TRU_borrow)\n",
    "borrowersPerBlock = borrowersPerDay/(4*60*24)\n",
    "withdrwasPerDay = sum(TRU_withdraw)/len(TRU_withdraw)\n",
    "withdrwasPerBlock = withdrwasPerDay/(4*60*24)\n",
    "repaysPerDay = sum(TRU_repays)/len(TRU_repays)\n",
    "repaysPerBlock = repaysPerDay/(4*60*24)\n",
    "#people = int(suppliersPerBlock+borrowersPerBlock+withdrwasPerBlock+repaysPerBlock)\n",
    "\n",
    "print(suppliersPerBlock, borrowersPerBlock,withdrwasPerBlock,repaysPerBlock)\n",
    "#print(suppliersPerBlock/people,borrowersPerBlock/people,withdrwasPerBlock/people,repaysPerBlock/people)"
   ]
  },
  {
   "cell_type": "code",
   "execution_count": null,
   "metadata": {
    "id": "4dflCCndzkrb"
   },
   "outputs": [],
   "source": [
    "def preferences(market,blockNumber):\n",
    "  initialPriceMarket = market[0][2]\n"
   ]
  },
  {
   "cell_type": "code",
   "execution_count": null,
   "metadata": {
    "id": "UAZIRcL46C-3"
   },
   "outputs": [],
   "source": [
    "def implications(market,blockNumber):\n",
    "  withdraws = 0\n",
    "  for user in market[blockNumber][8:]:\n",
    "    if user[0] == \"w\":\n",
    "      withdraws += user[1]\n",
    "  cash = market[blockNumber][7] - market[blockNumber][6] - market[blockNumber][3]\n",
    "  balanceMarket = cash - withdraws\n",
    "  if balanceMarket > 0:\n",
    "    return market\n",
    "  elif balanceMarket <= 0:\n",
    "    market[blockNumber][3] = max(0,market[blockNumber][3] - abs(balanceMarket))\n",
    "    return market   "
   ]
  },
  {
   "cell_type": "code",
   "execution_count": null,
   "metadata": {
    "colab": {
     "base_uri": "https://localhost:8080/"
    },
    "id": "OVDh8sb30ZFD",
    "outputId": "d11e0c8a-e5c6-40b2-b4a5-93ef9ec7d69a"
   },
   "outputs": [],
   "source": [
    "# Valores para los lambda\n",
    "suppliersPerBlock = suppliersPerBlock\n",
    "borrowersPerBlock = borrowersPerBlock\n",
    "withdrwasPerBlock = withdrwasPerBlock\n",
    "repaysPerBlock = repaysPerBlock\n",
    "\n",
    "def newBlockMarket(markets,market,collateralFactors,blockNumber,reserveFactor,priceMarket,interestModel,minSupply,maxSupply,restriction=False):\n",
    "  marketCopy = []\n",
    "  for value in market[blockNumber-1]:\n",
    "    marketCopy.append(value)  # copia del mercado\n",
    "  blockMarket = setMarketVariablesInBlock(market,blockNumber,reserveFactor,priceMarket,interestModel)  # blockNumber-1\n",
    "  market.append(blockMarket)\n",
    "  newSup = newSuppliers(market,suppliersPerBlock,blockNumber-1,minSupply,maxSupply,restriction)  # suppliersPerBlock\n",
    "  newBor = newBorrowers(markets,market,borrowersPerBlock,blockNumber-1,collateralFactors)  # borrowersPerBlock\n",
    "  newWith = newWithdraws(markets,market,withdrwasPerBlock,blockNumber-1,collateralFactors)  # withdrwasPerBlock\n",
    "  newRep = newRepays(market,repaysPerBlock,blockNumber-1)  # repaysPerBlock\n",
    "  newNot = newNothings(market,blockNumber-1)\n",
    "  updateInterestBlock = updateInterest(market,blockNumber-1,blockMarket[0])   # Hasta aqui se toman las acciones\n",
    "  userIndex = 8\n",
    "  for user in marketCopy[8:]:\n",
    "    actions = [newSup[userIndex],newBor[userIndex],newWith[userIndex],newRep[userIndex],newNot[userIndex]]\n",
    "    action = random.sample(actions,1)[0] \n",
    "    interests = updateInterestBlock[userIndex]\n",
    "    if action[0] == \"s\":\n",
    "      user = (action[0],action[1],(interests[3]/market[blockNumber][4])+action[1],interests[3]+(action[1]*market[blockNumber][4]),interests[4],interests[5])\n",
    "    elif action[0] == \"b\":\n",
    "      user = (action[0],action[1],interests[2],interests[3],interests[4]+action[1],interests[5]+action[1])\n",
    "    elif action[0] == \"w\":\n",
    "      if action[1] <= interests[3]/market[blockNumber][4]:\n",
    "        user = (action[0],action[1],(interests[3]/market[blockNumber][4])-action[1],interests[3]-(action[1]*market[blockNumber][4]),interests[4],interests[5])\n",
    "      else:\n",
    "        user = (action[0],interests[3]/market[blockNumber][4],0,0,interests[4],interests[5])\n",
    "    elif action[0] == \"r\":\n",
    "      user = (action[0],action[1],interests[2],interests[3],action[4],action[5])\n",
    "    else:   \n",
    "      user = (action[0],action[1],interests[2],interests[3],interests[4],interests[5])\n",
    "    market[blockNumber][userIndex] = user\n",
    "    userIndex += 1\n",
    "  market = implications(market,blockNumber)\n",
    "  return market\n",
    "\n",
    "MK1 = marketSetUp(5,0.2,0.5,10,0,50,getBorrowAPR_MK1)\n",
    "MK2 = marketSetUp(5,0.15,0.8,5,0,20,getBorrowAPR_MK2)\n",
    "markets = [MK1,MK2]\n",
    "#printMarket(MK1)\n",
    "markets = [MK1,MK2] \n",
    "collateralFactors = [0.75,0.75]\n",
    "reserveFactors = [0.2,0.15]\n",
    "priceMarkets = [11,4]\n",
    "\n",
    "MK1_1 = newBlockMarket(markets,MK1,collateralFactors,1,0.2,11,getBorrowAPR_MK1,0,5000)\n",
    "MK2_1 = newBlockMarket(markets,MK2,collateralFactors,1,0.2,11,getBorrowAPR_MK2,0,200)\n",
    "\n",
    "MK1_2 = newBlockMarket(markets,MK1,collateralFactors,2,0.2,13,getBorrowAPR_MK1,0,5000)\n",
    "MK2_2 = newBlockMarket(markets,MK2,collateralFactors,2,0.2,15,getBorrowAPR_MK2,0,200)\n",
    "\n",
    "#MK1_3 = newBlockMarket(markets,MK1,collateralFactors,3,0.2,18,getBorrowAPR_MK1,0,50000)\n",
    "#MK2_3 = newBlockMarket(markets,MK2,collateralFactors,3,0.2,12,getBorrowAPR_MK2,0,2000)\n",
    "\n",
    "#print('\\n=================================== Market 1 ===================================\\n')\n",
    "printMarket(MK1)\n",
    "\n",
    "print('\\n=================================== Market 2 ===================================\\n')\n",
    "printMarket(MK2)"
   ]
  },
  {
   "cell_type": "code",
   "execution_count": null,
   "metadata": {
    "colab": {
     "base_uri": "https://localhost:8080/"
    },
    "id": "KjmNXEkLPwU7",
    "outputId": "5124084a-ee33-45f6-e3f0-df2bef663d34"
   },
   "outputs": [],
   "source": [
    "def newStateMarkets(markets,collateralFactors,blockNumber,reserveFactors,priceMarkets,interestModels,minSupplyPerMarkets,maxSupplyPerMarkets,restriction=True,liquidationIncentive=liquidationIncentive,closeFactor=closeFactor):\n",
    "  for m in range(len(markets)):\n",
    "    markets[m] = newBlockMarket(markets,markets[m],collateralFactors,blockNumber,reserveFactors[m],priceMarkets[blockNumber][m],interestModels[m],minSupplyPerMarkets[m],maxSupplyPerMarkets[m],restriction)\n",
    "  for userIndex in range(len(markets[0][blockNumber][8:])):\n",
    "    liquidations = liquidation(markets,blockNumber,userIndex+8,collateralFactors,liquidationIncentive,closeFactor)\n",
    "    for p in range(len(markets)):\n",
    "      markets[p][blockNumber][userIndex+8] = liquidations[p]\n",
    "  return markets\n",
    "\n",
    "userliq = (\"x\",0,10,500,4,6)\n",
    "marketLiq = [[0.25,0.02,10,5,50,1,25,10,userliq,(\"x\",0,10,500,2,4)]]\n",
    "market2 =[[0.2,0.1,5,15,45,0,0,50,(\"x\",0,5,225,10,13),(\"x\",0,10,450,2,4)]]\n",
    "markets = [marketLiq,market2]\n",
    "newState = newStateMarkets(markets,[0.75,0.75],1,[0.2,0.15],[[0,0],[10,5],[10,5]],[getBorrowAPR_MK1,getBorrowAPR_MK2],[0,0],[0,0])\n",
    "markets = newState\n",
    "newState = newStateMarkets(markets,[0.75,0.75],2,[0.2,0.15],[[0,0],[10,5],[10,5]],[getBorrowAPR_MK1,getBorrowAPR_MK2],[0,0],[0,0])\n",
    "printMarket(newState[0])\n",
    "print(\"---------------------------------------\")\n",
    "printMarket(newState[1])"
   ]
  },
  {
   "cell_type": "code",
   "execution_count": null,
   "metadata": {
    "id": "NfGd8O_bU9-_"
   },
   "outputs": [],
   "source": [
    "from IPython.core.pylabtools import figsize\n",
    "figsize(16,6)"
   ]
  },
  {
   "cell_type": "code",
   "execution_count": null,
   "metadata": {
    "id": "knUMqsP7BNLJ"
   },
   "outputs": [],
   "source": [
    "def preutilization(borrowRate):\n",
    "  return (borrowRate - 0.02)/0.1"
   ]
  },
  {
   "cell_type": "code",
   "execution_count": null,
   "metadata": {
    "colab": {
     "base_uri": "https://localhost:8080/",
     "height": 421
    },
    "id": "4r6S_WCANfk_",
    "outputId": "b7cee00d-3fe7-4889-b6f0-dc2a4865e701"
   },
   "outputs": [],
   "source": [
    "n_users = 5\n",
    "MK1 = marketSetUp(n_users,0.2,0.7,5,0,50,getBorrowAPR_MK1)\n",
    "MK2 = marketSetUp(n_users,0.15,0.5,10,0,20,getBorrowAPR_MK2)\n",
    "markets = [MK1,MK2]\n",
    "\n",
    "n_iterations =  50 #4*60*24\n",
    "for i in range(n_iterations):\n",
    "  MK1 = newBlockMarket(markets,MK1,collateralFactors,i+1,0.2,5,getBorrowAPR_MK1,0,50)\n",
    "  MK2 = newBlockMarket(markets,MK2,collateralFactors,i+1,0.2,12,getBorrowAPR_MK2,0,20)\n",
    "  if MK1[i+1][4]<0 or MK2[i+1][4]<0:\n",
    "    print(\"Desde aquí se jodio la cosa\", i)\n",
    "    break\n",
    "  markets = [MK1,MK2]\n",
    "\n",
    "# plot supply rate\n",
    "ur1 = []\n",
    "ur2 = []\n",
    "for i in range(len(MK1)):\n",
    "  ur_MK1 = preutilization(MK1[i][0])\n",
    "  ur_MK2 = preutilization(MK2[i][0])\n",
    "  ur1.append(ur_MK1)\n",
    "  ur2.append(ur_MK2)\n",
    "\n",
    "# Borrow APR \n",
    "b1 = []\n",
    "b2 = []\n",
    "for i in range(len(MK1)):\n",
    "  b_MK1 = MK1[i][0]\n",
    "  b_MK2 = MK2[i][0]\n",
    "  b1.append(b_MK1)\n",
    "  b2.append(b_MK2)\n",
    "\n",
    "#ur1 = sorted(ur1)\n",
    "#ur2 = sorted(ur2)\n",
    "#b1 = sorted(b1)\n",
    "#b2 = sorted(b2)\n",
    "\n",
    "plt.title(\"BorrowRate vs UtilizationRate\")\n",
    "plt.ylabel(\"BorrowRate\")\n",
    "plt.xlabel(\"UtilizationRate\")\n",
    "#plt.xlim((0,1))\n",
    "#plt.ylim((0,0.2))\n",
    "plt.scatter(ur1,b1)\n",
    "plt.scatter(ur2,b2)"
   ]
  },
  {
   "cell_type": "code",
   "execution_count": null,
   "metadata": {
    "colab": {
     "base_uri": "https://localhost:8080/"
    },
    "id": "XhXH6xn5BsoE",
    "outputId": "a916539e-6c5b-41c0-f798-c64bed7759da"
   },
   "outputs": [],
   "source": [
    "printMarket(MK1)"
   ]
  },
  {
   "cell_type": "code",
   "execution_count": null,
   "metadata": {
    "colab": {
     "base_uri": "https://localhost:8080/"
    },
    "id": "ZnsyurrcDHzr",
    "outputId": "8aadecc2-afe3-4dd9-8cae-d15355397f1a"
   },
   "outputs": [],
   "source": [
    "printMarket(MK2)"
   ]
  },
  {
   "cell_type": "code",
   "execution_count": null,
   "metadata": {
    "colab": {
     "base_uri": "https://localhost:8080/"
    },
    "id": "Jmlajkj2R84M",
    "outputId": "36400a8e-7a85-4b1b-d1c5-63574a091ca6"
   },
   "outputs": [],
   "source": [
    "n_iterations =  4*60*24\n",
    "prices = []\n",
    "for i in range(n_iterations):\n",
    "  prices.append([10,5])\n",
    "\n",
    "prices[:5]"
   ]
  },
  {
   "cell_type": "code",
   "execution_count": null,
   "metadata": {
    "colab": {
     "base_uri": "https://localhost:8080/",
     "height": 438
    },
    "id": "z_VGEl-0Rh_y",
    "outputId": "7a64d9af-7780-44fa-d469-cf89dc48a61d"
   },
   "outputs": [],
   "source": [
    "n_users = 10\n",
    "MK1 = marketSetUp(n_users,0.2,0.7,5,0,50,getBorrowAPR_MK1)\n",
    "MK2 = marketSetUp(n_users,0.15,0.5,10,0,20,getBorrowAPR_MK2)\n",
    "markets = [MK1,MK2]\n",
    "collateralFactors = [0.75,0.75]\n",
    "reserveFactors = [0.2,0.15]\n",
    "interestModels = [getBorrowAPR_MK1,getBorrowAPR_MK2]\n",
    "\n",
    "n_iterations =  4*60*24\n",
    "for i in range(n_iterations):\n",
    "  markets = newStateMarkets(markets,collateralFactors,i+1,reserveFactors,prices,interestModels,[0,0],[50,50])\n",
    "  if markets[0][i+1][4]<0 or markets[1][i+1][4]<0:\n",
    "    print(\"Desde aquí se jodio la cosa\", i)\n",
    "    break\n",
    "\n",
    "# plot supply rate\n",
    "ur1 = []\n",
    "ur2 = []\n",
    "for i in range(len(markets[0])):\n",
    "  ur_MK1 = getUtilizationRate(markets[0],i)\n",
    "  ur_MK2 = getUtilizationRate(markets[1],i)\n",
    "  ur1.append(ur_MK1)\n",
    "  ur2.append(ur_MK2)\n",
    "\n",
    "# Borrow APR \n",
    "b1 = []\n",
    "b2 = []\n",
    "for i in range(len(markets[0])):\n",
    "  b_MK1 = markets[0][i][0]\n",
    "  b_MK2 = markets[1][i][0]\n",
    "  b1.append(b_MK1)\n",
    "  b2.append(b_MK2)\n",
    "\n",
    "ur1 = sorted(ur1)\n",
    "ur2 = sorted(ur2)\n",
    "b1 = sorted(b1)\n",
    "b2 = sorted(b2)\n",
    "\n",
    "plt.title(\"BorrowRate vs UtilizationRate\")\n",
    "plt.ylabel(\"BorrowRate\")\n",
    "plt.xlabel(\"UtilizationRate\")\n",
    "#plt.xlim((0,1))\n",
    "#plt.ylim((0,0.2))\n",
    "plt.scatter(ur1,b1)\n",
    "plt.scatter(ur2,b2)"
   ]
  },
  {
   "cell_type": "code",
   "execution_count": null,
   "metadata": {
    "colab": {
     "base_uri": "https://localhost:8080/"
    },
    "id": "zxqgcOqWaery",
    "outputId": "852e5046-76a8-4a79-e340-7aa2ca7f08f5"
   },
   "outputs": [],
   "source": [
    "printMarket(markets[0])\n",
    "print(\"###############################################################################3\")\n",
    "printMarket(markets[1])"
   ]
  },
  {
   "cell_type": "code",
   "execution_count": null,
   "metadata": {
    "colab": {
     "base_uri": "https://localhost:8080/",
     "height": 421
    },
    "id": "P-qMZhfKO9uN",
    "outputId": "da6cfc05-3c03-4dd0-809c-ee62de4eff39"
   },
   "outputs": [],
   "source": [
    "# plot supply rate\n",
    "t1 = []\n",
    "t2 = []\n",
    "for i in range(len(MK1)):\n",
    "  t_MK1 = markets[0][i][5]\n",
    "  t_MK2 = markets[0][i][5]\n",
    "  t1.append(t_MK1)\n",
    "  t2.append(t_MK2)\n",
    "\n",
    "plt.title(\"Bloques sin acciones\")\n",
    "plt.ylabel(\"Cantidad de bloques\")\n",
    "plt.xlabel(\"bloques\")\n",
    "#plt.ylim(top=1.5)\n",
    "plt.scatter(range(len(markets[0])),t1)\n",
    "plt.scatter(range(len(markets[0])),t2)"
   ]
  },
  {
   "cell_type": "code",
   "execution_count": null,
   "metadata": {
    "colab": {
     "base_uri": "https://localhost:8080/",
     "height": 421
    },
    "id": "ZhhFjeuygUZD",
    "outputId": "dbfb4d2e-61e8-40b6-9cee-f4d388b413d3"
   },
   "outputs": [],
   "source": [
    "# Borrow APR \n",
    "s1 = []\n",
    "s2 = []\n",
    "for i in range(len(markets[0])):\n",
    "  s_MK1 = markets[0][i][1]\n",
    "  s_MK2 = markets[0][i][1]\n",
    "  s1.append(s_MK1)\n",
    "  s2.append(s_MK2)\n",
    "\n",
    "s1 = sorted(s1)\n",
    "s2 = sorted(s2)\n",
    "\n",
    "plt.title(\"SupplyRate vs UtilizationRate\")\n",
    "plt.ylabel(\"SupplyRate\")\n",
    "plt.xlabel(\"UtilizationRate\")\n",
    "plt.xlim((0,1))\n",
    "plt.ylim((0,0.1))\n",
    "plt.scatter(ur1,s1)\n",
    "plt.scatter(ur2,s2)"
   ]
  },
  {
   "cell_type": "code",
   "execution_count": null,
   "metadata": {
    "colab": {
     "base_uri": "https://localhost:8080/",
     "height": 421
    },
    "id": "3pq5L5eCgwpT",
    "outputId": "fa06b744-93c1-4b43-91b8-beba7b9d8417"
   },
   "outputs": [],
   "source": [
    "reserve1 = []\n",
    "reserve2 = []\n",
    "k=0\n",
    "for i in range(len(markets[0])):\n",
    "  totalReserve1 = markets[0][i][3]\n",
    "  totalReserve2 = markets[0][i][3]\n",
    "  reserve1.append(totalReserve1)\n",
    "  reserve2.append(totalReserve2)\n",
    "  k += 1\n",
    "\n",
    "plt.title(\"Reservas por bloque\")\n",
    "plt.ylabel(\"Precio de las reservas\")\n",
    "plt.xlabel(\"bloques\")\n",
    "plt.scatter(range(len(markets[0][:100])),reserve1[:100])\n",
    "plt.scatter(range(len(markets[0][:100])),reserve2[:100])"
   ]
  },
  {
   "cell_type": "code",
   "execution_count": null,
   "metadata": {
    "colab": {
     "base_uri": "https://localhost:8080/",
     "height": 421
    },
    "id": "cGQhmTwwhOrr",
    "outputId": "c165c2cf-27dc-4f4d-d2d6-f27136ea8710"
   },
   "outputs": [],
   "source": [
    "exc1 = []\n",
    "exc2 = []\n",
    "k=0\n",
    "for i in range(len(markets[0])):\n",
    "  exc1_1 = 1/markets[0][i][4]\n",
    "  exc2_1 = 1/markets[0][i][4]\n",
    "  exc1.append(exc1_1)\n",
    "  exc2.append(exc2_1)\n",
    "  k += 1\n",
    "\n",
    "plt.title(\"Exchange por bloque\")\n",
    "plt.ylabel(\"Valor de los cTokens\")\n",
    "plt.xlabel(\"bloques\")\n",
    "plt.plot(range(len(markets[0][:100])),exc1[:100])\n",
    "plt.plot(range(len(markets[0][:100])),exc2[:100])"
   ]
  },
  {
   "cell_type": "code",
   "execution_count": null,
   "metadata": {
    "colab": {
     "base_uri": "https://localhost:8080/",
     "height": 391
    },
    "id": "u297v4w9xPYN",
    "outputId": "ecacf38d-1bc1-4f1e-d276-83c039f06ff4"
   },
   "outputs": [],
   "source": [
    "%matplotlib inline\n",
    "from IPython.core.pylabtools import figsize\n",
    "import pandas as pd\n",
    "\n",
    "figsize(16,6)\n",
    "\n",
    "x = np.linspace(0, 5)\n",
    "N = ss.norm\n",
    "USDCoin = N.pdf(x,1,0.1)  # mean = 15; sigma = 4\n",
    "USDCoin_prices = []\n",
    "\n",
    "n_iterations = 1000   #4*24*60\n",
    "for iteration in range(n_iterations):\n",
    "  price1 = random.choices(x,USDCoin)[0]\n",
    "  USDCoin_prices.append(price1)\n",
    "\n",
    "USDCoin = N.pdf(x,1,0.025)\n",
    "n_iterations = 600   #4*24*60\n",
    "for iteration in range(n_iterations):\n",
    "  price1 = random.choices(x,USDCoin)[0]\n",
    "  USDCoin_prices.append(price1)\n",
    "\n",
    "#price_MK1 = []\n",
    "#for i in range(n_iterations):\n",
    "#  if i % 60 == 0:\n",
    "#    price_MK1.append(MK1_prices[i])\n",
    "#    price_MK2.append(MK2_prices[i])\n",
    "\n",
    "plt.plot(range(1600),USDCoin_prices)\n",
    "#plt.plot(range(int(n_iterations/60)),price_MK2)\n",
    "#plt.ylim(top=60)"
   ]
  },
  {
   "cell_type": "code",
   "execution_count": null,
   "metadata": {
    "colab": {
     "base_uri": "https://localhost:8080/",
     "height": 340
    },
    "id": "Z5NrKUfSyKEC",
    "outputId": "975da79c-585c-4e00-973c-8d39874dc76c"
   },
   "outputs": [],
   "source": [
    "Ether = pd.read_excel(\"Ethereum.xlsx\")\n",
    "EtherPrices = Ether[\"PRECIO\"][426:]\n",
    "EtherPrices.plot()"
   ]
  },
  {
   "cell_type": "code",
   "execution_count": null,
   "metadata": {
    "colab": {
     "base_uri": "https://localhost:8080/",
     "height": 340
    },
    "id": "lJEbrjzBfEQD",
    "outputId": "edccc025-7e6e-4f69-afd4-2ab5671a9b0a"
   },
   "outputs": [],
   "source": [
    "Bitcoin = pd.read_excel(\"Bitcoin.xlsx\")\n",
    "BitcoinPrices = Bitcoin[\"PRECIO\"][750:]\n",
    "BitcoinPrices.plot()"
   ]
  },
  {
   "cell_type": "code",
   "execution_count": null,
   "metadata": {
    "colab": {
     "base_uri": "https://localhost:8080/",
     "height": 163
    },
    "id": "YP6N2-67qfqk",
    "outputId": "9bcc2d30-049c-4b16-c02c-9a2e7c9d7d76"
   },
   "outputs": [],
   "source": [
    "len(BitcoinPrices)"
   ]
  },
  {
   "cell_type": "code",
   "execution_count": null,
   "metadata": {
    "id": "zh0zhmrYiLIZ"
   },
   "outputs": [],
   "source": [
    "# Collateral Factors - Uno por cada mercado\n",
    "\n",
    "collFactor_ETH = 0.75  # Collateral factor para el mercado MK1\n",
    "collFactor_BTC = 0.75  # Collateral factor para el mercado MK2   !!!!!Estimar!!!!\n",
    "collFactor_USD = 0.75  # Collateral factor para el mercado MK3\n",
    "\n",
    "# Lista con los Collateral Factors\n",
    "collateralFactors = [collFactor_MK1,\n",
    "                     collFactor_MK2]\n",
    "\n",
    "# Reserve Factors - Uno por cada mercado\n",
    "\n",
    "reserveFactor_ETH = 0.20   # Reserve Factor para el mercado MK1\n",
    "reserveFactor_BTC = 0.15   # Reserve Factor para el mercado MK2    !!!Estimar!!!\n",
    "reserveFactor_USD = 0.07   # Reserve Factor para el mercado MK3\n",
    " \n",
    "# Lista con los Reserve Factors                    \n",
    "reserveFactors = [reserveFactor_MK1, \n",
    "                  reserveFactor_MK2]\n",
    "\n",
    "# Exchange rate iniciales\n",
    "\n",
    "er_price_ETH = 50\n",
    "er_price_BTC = 50\n",
    "er_price_USD = 50\n",
    "\n",
    "n_users = 10\n",
    "initial_supply_ETH_Rate = 0.1\n",
    "initial_supply_BTC_Rate = 0.25\n",
    "initial_supply_USD_Rate = 0.05\n",
    "\n",
    "ETH = marketSetUp(n_users,reserveFactor_ETH,initial_supply_ETH_Rate,er_price_ETH,Ether[\"PRECIO\"][0])\n",
    "BTC = marketSetUp(n_users,reserveFactor_BTC,initial_supply_BTC_Rate,er_price_BTC,Bitcoin[\"PRECIO\"][0])\n",
    "USD = marketSetUp(n_users,reserveFactor_USD,initial_supply_USD_Rate,er_price_USD,USDCoin_prices[0])\n",
    "printMarket(ETH)\n",
    "printMarket(BTC)\n",
    "printMarket(USD)"
   ]
  },
  {
   "cell_type": "code",
   "execution_count": null,
   "metadata": {
    "id": "7zLnDHLBfOwN"
   },
   "outputs": [],
   "source": [
    "BinanceCoin = pd.read_excel(\"USDCoin.xlsx\")\n",
    "BinanceCoinPrices = BinanceCoin[\"PRECIO\"]\n",
    "BinanceCoinPrices.plot()"
   ]
  },
  {
   "cell_type": "code",
   "execution_count": null,
   "metadata": {
    "id": "UHuyOH1SxPQU"
   },
   "outputs": [],
   "source": [
    "n_users = 5\n",
    "\n",
    "MK1 = marketSetUp(n_users,0.2,0.2,50,initialTokenPrices[0])\n",
    "MK2 = marketSetUp(n_users,0.15,0.3,50,initialTokenPrices[1])\n",
    "markets = [MK1,MK2]\n",
    "n_iterations = 4*60*24\n",
    "for i in range(n_iterations):\n",
    "  MK1 = newBlockMarket(markets,MK1,collateralFactors,i+1,0.2,MK1_prices)\n",
    "  MK2 = newBlockMarket(markets,MK2,collateralFactors,i+1,0.15,MK2_prices)\n",
    "  markets = [MK1,MK2]"
   ]
  },
  {
   "cell_type": "code",
   "execution_count": null,
   "metadata": {
    "id": "XCfQTA3Ck08z"
   },
   "outputs": [],
   "source": [
    "# plot supply rate\n",
    "ur1 = []\n",
    "ur2 = []\n",
    "for i in range(n_iterations):\n",
    "  ur_MK1 = getUtilizationRate(MK1,i)\n",
    "  ur_MK2 = getUtilizationRate(MK2,i)\n",
    "  ur1.append(ur_MK1)\n",
    "  ur2.append(ur_MK2)\n",
    "\n",
    "plt.ylabel(\"utilization rate\")\n",
    "plt.xlabel(\"bloques\")\n",
    "plt.ylim(top=1.5)\n",
    "plt.plot(range(n_iterations),ur1)\n",
    "plt.plot(range(n_iterations),ur2)"
   ]
  },
  {
   "cell_type": "code",
   "execution_count": null,
   "metadata": {
    "id": "7GPqnpEiWHqP"
   },
   "outputs": [],
   "source": [
    "# plot supply rate\n",
    "b1 = []\n",
    "b2 = []\n",
    "for i in range(n_iterations):\n",
    "  b_MK1 = MK1[i][0]\n",
    "  b_MK2 = MK2[i][0]\n",
    "  b1.append(b_MK1)\n",
    "  b2.append(b_MK2)\n",
    "\n",
    "plt.ylabel(\"Borrow rate\")\n",
    "plt.xlabel(\"bloques\")\n",
    "plt.ylim(top=1.5)\n",
    "plt.plot(range(n_iterations),b1)\n",
    "plt.plot(range(n_iterations),b2)"
   ]
  },
  {
   "cell_type": "code",
   "execution_count": null,
   "metadata": {
    "id": "WQCZv6XdVJOI"
   },
   "outputs": [],
   "source": [
    "# plot supply rate\n",
    "t1 = []\n",
    "t2 = []\n",
    "for i in range(n_iterations):\n",
    "  t_MK1 = MK1[i][5]\n",
    "  t_MK2 = MK2[i][5]\n",
    "  t1.append(t_MK1)\n",
    "  t2.append(t_MK2)\n",
    "\n",
    "plt.title(\"Prestamos por bloque\")\n",
    "plt.ylabel(\"Total prestado\")\n",
    "plt.xlabel(\"bloques\")\n",
    "#plt.ylim(top=1.5)\n",
    "plt.scatter(range(n_iterations),t1)\n",
    "plt.scatter(range(n_iterations),t2)"
   ]
  },
  {
   "cell_type": "code",
   "execution_count": null,
   "metadata": {
    "id": "sCqOKFY2G8dq"
   },
   "outputs": [],
   "source": [
    "# plot borrow rate\n",
    "variableHistory = []\n",
    "borrow1 = []\n",
    "borrow2 = []\n",
    "util1 = []\n",
    "util2 = []\n",
    "k=0\n",
    "for i in range(n_iterations):\n",
    "  utilization1 = getUtilizationRate(MK1,k)\n",
    "  utilization2 = getUtilizationRate(MK2,k) \n",
    "  util1.append(utilization1)\n",
    "  util2.append(utilization2)\n",
    "  borrow1.append(getBorrowAPR(utilization1))\n",
    "  borrow2.append(getBorrowAPR(utilization2))\n",
    "  k += 1\n",
    "\n",
    "plt.title(\"BorrowRate vs UtilizationRate\")\n",
    "plt.ylabel(\"BorrowRate\")\n",
    "plt.xlabel(\"UtilizationRate\")\n",
    "plt.ylim(top=0.12)\n",
    "plt.scatter(util1,borrow1)\n",
    "plt.scatter(util2,borrow2)"
   ]
  },
  {
   "cell_type": "code",
   "execution_count": null,
   "metadata": {
    "id": "Sq7fadXdQlEy"
   },
   "outputs": [],
   "source": [
    "fig = go.Figure() #data=go.Scatter(x=x, y=y, name = \"Borrow APR\")\n",
    "\n",
    "#fig.add_trace(go.Scatter(x=x,y=S,name=\"Supply APR\"))\n",
    "fig.add_trace(go.Scatter(x=util1,y=borrow1,name=\"Supply APR - simulación\"))\n",
    "fig.add_trace(go.Scatter(x=util2,y=borrow2,name=\"Borrow APR - simulación\"))\n",
    "fig.update_layout(xaxis_title='Tasa de utilización',\n",
    "                  yaxis_title='Tasa APR')\n",
    "fig.show()"
   ]
  },
  {
   "cell_type": "code",
   "execution_count": null,
   "metadata": {
    "id": "MFuUg4e_LKau"
   },
   "outputs": [],
   "source": [
    "# plot supply rate\n",
    "variableHistory = []\n",
    "supply1 = []\n",
    "supply2 = []\n",
    "util1 = []\n",
    "util2 = []\n",
    "k=0\n",
    "for i in range(n_iterations):\n",
    "  utilization1 = getUtilizationRate(MK1,k)\n",
    "  utilization2 = getUtilizationRate(MK2,k) \n",
    "  borrowRate1 = getBorrowAPR(utilization1)\n",
    "  borrowRate2 = getBorrowAPR(utilization2)\n",
    "  supplyRate1 = getSupplyAPR(borrowRate1,0.2,utilization1)\n",
    "  supplyRate2 = getSupplyAPR(borrowRate2,0.15,utilization2)\n",
    "  util1.append(utilization1)\n",
    "  util2.append(utilization2)\n",
    "  supply1.append(supplyRate1)\n",
    "  supply2.append(supplyRate2)\n",
    "  k += 1\n",
    "\n",
    "plt.title(\"supplyRate vs UtilizationRate\")\n",
    "plt.ylabel(\"SupplyRate\")\n",
    "plt.xlabel(\"UtilizationRate\")\n",
    "\n",
    "plt.scatter(util1,supply1)\n",
    "plt.scatter(util2,supply2)"
   ]
  },
  {
   "cell_type": "code",
   "execution_count": null,
   "metadata": {
    "id": "-4OfvvS0L_wu"
   },
   "outputs": [],
   "source": [
    "# precio de las reservas por bloque\n",
    "reserve1 = []\n",
    "reserve2 = []\n",
    "k=0\n",
    "for i in range(n_iterations):\n",
    "  totalReserve1 = totalReserveMarket(MK1,k,0.2)*MK1_prices[k]\n",
    "  totalReserve2 = totalReserveMarket(MK2,k,0.15)*MK2_prices[k]\n",
    "  reserve1.append(totalReserve1)\n",
    "  reserve2.append(totalReserve2)\n",
    "  k += 1\n",
    "\n",
    "plt.title(\"Reservas por bloque\")\n",
    "plt.ylabel(\"Precio de las reservas\")\n",
    "plt.xlabel(\"bloques\")\n",
    "plt.scatter(range(n_iterations),reserve1)\n",
    "plt.scatter(range(n_iterations),reserve2)"
   ]
  },
  {
   "cell_type": "code",
   "execution_count": null,
   "metadata": {
    "id": "HLFOR9fbYC1m"
   },
   "outputs": [],
   "source": [
    "# precio de las reservas por bloque\n",
    "reserve1 = []\n",
    "reserve2 = []\n",
    "k=0\n",
    "for i in range(n_iterations):\n",
    "  totalReserve1 = totalReserveMarket(MK1,k,0.2)\n",
    "  totalReserve2 = totalReserveMarket(MK2,k,0.15)\n",
    "  reserve1.append(totalReserve1)\n",
    "  reserve2.append(totalReserve2)\n",
    "  k += 1\n",
    "\n",
    "plt.title(\"Reservas por bloque\")\n",
    "plt.ylabel(\"Precio de las reservas\")\n",
    "plt.xlabel(\"bloques\")\n",
    "plt.scatter(range(n_iterations),reserve1)\n",
    "#plt.scatter(range(n_iterations),reserve2)"
   ]
  },
  {
   "cell_type": "code",
   "execution_count": null,
   "metadata": {
    "id": "R_k0gnISfdyF"
   },
   "outputs": [],
   "source": [
    "plt.scatter(range(n_iterations),reserve2)"
   ]
  },
  {
   "cell_type": "code",
   "execution_count": null,
   "metadata": {
    "id": "_tdAzh0eTSU3"
   },
   "outputs": [],
   "source": [
    "# plot supply rate\n",
    "totalBorrow1 = []\n",
    "totalBorrow2 = []\n",
    "for i in range(n_iterations):\n",
    "  totalBorrow1.append(MK1[i][6])\n",
    "  totalBorrow2.append(MK2[i][6])\n",
    "\n",
    "plt.title(\"Prestamos por bloque\")\n",
    "plt.ylabel(\"Total prestado\")\n",
    "plt.xlabel(\"bloques\")\n",
    "#plt.scatter(range(n_iterations-10),totalBorrow1[10:])\n",
    "plt.scatter(range(n_iterations-200),totalBorrow2[200:])"
   ]
  },
  {
   "cell_type": "code",
   "execution_count": null,
   "metadata": {
    "id": "XEe8IztzTZJt"
   },
   "outputs": [],
   "source": [
    "# plot supply rate\n",
    "totalBorrow1 = []\n",
    "totalBorrow2 = []\n",
    "for i in range(n_iterations):\n",
    "  totalBorrow_MK1 = MK1[i][6]\n",
    "  totalBorrow_MK2 = MK2[i][6]\n",
    "  totalBorrow1.append(totalBorrow_MK1*MK1_prices[i])\n",
    "  totalBorrow2.append(totalBorrow_MK2*MK2_prices[i])\n",
    "\n",
    "plt.title(\"Prestamos por bloque\")\n",
    "plt.ylabel(\"Total prestado\")\n",
    "plt.xlabel(\"bloques\")\n",
    "plt.scatter(range(n_iterations-10),totalBorrow1[10:])\n",
    "plt.scatter(range(n_iterations-10),totalBorrow2[10:])"
   ]
  },
  {
   "cell_type": "code",
   "execution_count": null,
   "metadata": {
    "id": "S6tPn_APlmQW"
   },
   "outputs": [],
   "source": [
    "ctk1 = []\n",
    "ctk2 = []\n",
    "for i in range(n_iterations):\n",
    "  ctk_MK1 = MK1[i][4]\n",
    "  ctk_MK2 = MK2[i][4]\n",
    "  ctk1.append(ctk_MK1)\n",
    "  ctk2.append(ctk_MK2)\n",
    "\n",
    "plt.title(\"Prestamos por bloque\")\n",
    "plt.ylabel(\"Total prestado\")\n",
    "plt.xlabel(\"bloques\")\n",
    "plt.scatter(range(n_iterations),ctk1)\n",
    "plt.scatter(range(n_iterations),ctk2)"
   ]
  },
  {
   "cell_type": "code",
   "execution_count": null,
   "metadata": {
    "id": "_giqZEDOy0c4"
   },
   "outputs": [],
   "source": [
    "MK1[0][2]"
   ]
  },
  {
   "cell_type": "code",
   "execution_count": null,
   "metadata": {},
   "outputs": [],
   "source": [
    "def amountEstimation(market,blockNumber,mean=500,scale=0.5):\n",
    "    if 0 <= market[blockNumber][0] < 0.125:\n",
    "        collBorrow = mean*(1-3*scale)\n",
    "        loanBorrow = mean*(1+3*scale)\n",
    "        withdraw = mean*(1+(3/10)*scale)\n",
    "    elif 0.125 <= market[blockNumber][0] < 0.25:\n",
    "        collBorrow = mean*(1-2*scale)\n",
    "        loanBorrow = mean*(1+2*scale)\n",
    "        withdraw = mean*(1+(2/10)*scale)\n",
    "    elif 0.25 <= market[blockNumber][0] < 0.5:\n",
    "        collBorrow = mean*(1-scale)\n",
    "        loanBorrow = mean*(1+scale)\n",
    "        withdraw = mean*(1+(1/10)*scale)\n",
    "    elif 0.5 <= market[blockNumber][0] < 0.75:\n",
    "        collBorrow = mean*(1+scale)\n",
    "        loanBorrow = mean*(1-scale)\n",
    "        withdraw = mean*(1-(1/10)*scale)\n",
    "    elif 0.75 <= market[blockNumber][0] < 0.875:\n",
    "        collBorrow = mean*(1+2*scale)\n",
    "        loanBorrow = mean*(1-2*scale)\n",
    "        withdraw = mean*(1-(2/10)*scale)\n",
    "    elif 0.875 <= market[blockNumber][0] <= 1:\n",
    "        collBorrow = mean*(1+3*scale)\n",
    "        loanBorrow = mean*(1-3*scale)\n",
    "        withdraw = mean*(1-(3/10)*scale)\n",
    "    amountPerAction = [collBorrow,loanBorrow,withdraw]\n",
    "    for i in range(len(amountPerAction)):\n",
    "        if amountPerAction[i] <= 0:\n",
    "            amountPerAction[i] = 0 \n",
    "    return amountPerAction\n",
    "\n",
    "amountEstimation(MK1,0)"
   ]
  },
  {
   "cell_type": "code",
   "execution_count": null,
   "metadata": {
    "id": "31uXQn6jzPzL"
   },
   "outputs": [],
   "source": []
  }
 ],
 "metadata": {
  "colab": {
   "collapsed_sections": [
    "rAwCWVbZ9-se",
    "ocDji3DocqtZ",
    "NFO09QL7Sfx4",
    "LsJzjlK5UFXc",
    "4eUBabsbXdxN",
    "EinpHIhJaFmU"
   ],
   "name": "TROP_Simulación modelo financiero_vV2.ipynb",
   "provenance": []
  },
  "kernelspec": {
   "display_name": "Python 3",
   "language": "python",
   "name": "python3"
  },
  "language_info": {
   "codemirror_mode": {
    "name": "ipython",
    "version": 3
   },
   "file_extension": ".py",
   "mimetype": "text/x-python",
   "name": "python",
   "nbconvert_exporter": "python",
   "pygments_lexer": "ipython3",
   "version": "3.7.6"
  }
 },
 "nbformat": 4,
 "nbformat_minor": 1
}
