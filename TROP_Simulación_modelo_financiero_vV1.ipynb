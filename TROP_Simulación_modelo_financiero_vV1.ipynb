{
 "cells": [
  {
   "cell_type": "markdown",
   "metadata": {
    "id": "4qkp9x2CR5Sf"
   },
   "source": [
    "# Simulación para los smart contracts\n"
   ]
  },
  {
   "cell_type": "code",
   "execution_count": null,
   "metadata": {
    "id": "BwgjgLZpR4s6"
   },
   "outputs": [],
   "source": [
    "# Importación de librerias \n",
    "\n",
    "# Númericas\n",
    "import numpy as np         # Para trabajar arreglos matriciales\n",
    "import random              # Para determinar valores aleatorios\n",
    "import scipy.stats as ss   # Aleatoriedad atada a una distribución de probabilidad\n",
    "import math \n",
    "\n",
    "# Gráficas\n",
    "import matplotlib.pyplot as plt\n",
    "from IPython.core.pylabtools import figsize\n",
    "import plotly.graph_objects as go"
   ]
  },
  {
   "cell_type": "markdown",
   "metadata": {
    "id": "3Ieu9TvOzQsf"
   },
   "source": [
    "## Parámetros del protocolo\n",
    "\n",
    "Para definir los mercados que harán parte del protocolo, se deben definir los parámetros que definirán comportamientos especificos en el modelo de *lending and borrow*, tales como el porcentaje de reservas requerido, la tasa de garantía o colateral, etc.\n",
    "\n",
    "*  **Collateral Factor:** Es el porcentaje que se puede tomar prestado de un activo en base a lo que se suministra. Por ejemplo, supongamos que suministramos $100\\text{ TK1}$ (tokens 1) al protocolo, actualmente el mercado $\\text{TK1}$ cuenta con un collateral factor del $75\\%$, esto nos indica que podemos tomar prestado hasta $75\\text{ TK1}=100\\text{ TK1}\\cdot75\\%$.\n",
    "\n",
    "*  **Reserve Factor:** Es el porcentaje de la cantidad suministrada que se va a \"guardar\" como reservas en el protocolo.\n",
    "\n",
    "*  **Modelo de tasas de interés:** Es la expresión matemática encargada de asignar una tasa de interés a cada mercado en función de la oferta y la demanda presentes en cada mercado.\n",
    "\n",
    "$$\\text{Borrow APR}=0.02+0.1\\cdot\\text{utilization rate}$$\n",
    "\n",
    "*  **Exchange rate initial:** Es la tasa de cambio inicial entre los tokens y los cTokens. Por ejemplo, si consideramos el mercado $\\text{TK1}$ y sabemos que el equivalente a $1\\text{ TK1}$ en cTK1 es $0.02\\text{ cTK1}$, el exchange rate actual es $0.02\\text{ cTK1}$.\n",
    "\n",
    "A continuación definiremos los parámetros de dos mercados, $\\text{MK1}$ y $\\text{MK2}$:"
   ]
  },
  {
   "cell_type": "code",
   "execution_count": null,
   "metadata": {
    "id": "GYXCfA_p6uu8"
   },
   "outputs": [],
   "source": [
    "# Numero de bloques por año en la red\n",
    "\n",
    "ETHBlocks = 4*60*24*365\n",
    "RSKBlocks = ETHBlocks/2\n",
    "\n",
    "# Collateral Factors - Uno por cada mercado\n",
    "\n",
    "collFactor_MK1 = 0.75  # Collateral factor para el mercado MK1\n",
    "collFactor_MK2 = 0.75  # Collateral factor para el mercado MK2\n",
    "\n",
    "# Lista con los Collateral Factors\n",
    "collateralFactors = [collFactor_MK1,collFactor_MK2]\n",
    "\n",
    "# Reserve Factors - Uno por cada mercado\n",
    "\n",
    "reserveFactor_MK1 = 0.20   # Reserve Factor para el mercado MK1\n",
    "reserveFactor_MK2 = 0.15   # Reserve Factor para el mercado MK2\n",
    " \n",
    "# Lista con los Reserve Factors                    \n",
    "reserveFactors = [reserveFactor_MK1,reserveFactor_MK2]\n",
    "\n",
    "# Mínimo suministrado permitido\n",
    "\n",
    "minAmount = 1*10**(-18)\n",
    "\n",
    "# Máximo permitido por mercado\n",
    "\n",
    "maxAmountMK1 = 1  # 1 BTC\n",
    "maxAmountMK2 = 10000  # 10000 USDC\n",
    "maxAmount = [maxAmountMK1,maxAmountMK2]\n",
    "\n",
    "# Precios iniciales por mercado\n",
    "\n",
    "priceMK1 = 50000  # BTC price in USD\n",
    "priceMK2 = 1.01  # USDC price in USD\n",
    "initialMarketPrices = [priceMK1,priceMK2]"
   ]
  },
  {
   "cell_type": "code",
   "execution_count": null,
   "metadata": {
    "id": "nhzJk2b9214W"
   },
   "outputs": [],
   "source": [
    "# El modelo de tasas de interés - Una expresión para todos los mercados\n",
    "\n",
    "def getBorrowAPR_volatileMarket(utilizationRate,baseBorrowRate=0.02,slope=0.1):   \n",
    "    # Borrow APR MK1\n",
    "    return baseBorrowRate + slope*utilizationRate\n",
    "\n",
    "def getBorrowAPR_stableMartet(utilizationRate,baseBorrowRate=0.02,slope1=0.05,slope2=1,optimalUtilization=0.8):   \n",
    "    # Borrow APR MK2\n",
    "    if utilizationRate <= optimalUtilization:\n",
    "        return baseBorrowRate+slope1*utilizationRate\n",
    "    else:\n",
    "        return (baseBorrowRate+(slope1-slope2)*optimalUtilization) + slope2*utilizationRate\n",
    "\n",
    "def getSupplyAPR(borrowRate,reserveFactor,utilizationRate):  \n",
    "    # Supply APR\n",
    "    return borrowRate*utilizationRate*(1-reserveFactor)\n",
    "\n",
    "def ratePerBlock(rateAPR,blockPerYear=ETHBlocks):\n",
    "    # Rate por bloque\n",
    "    rate = rateAPR/blockPerYear\n",
    "    return rate "
   ]
  },
  {
   "cell_type": "markdown",
   "metadata": {
    "id": "H5RvylbY-XWA"
   },
   "source": [
    "## Estructura de los mercados\n",
    "\n",
    "Dado que el estado de cada mercado se actualiza en cada bloque, debemos implementar una manera adecuada de conocer el estado del mercado y además, el estado de cada usuario (balance de la cuenta y movimientos de cada usuario). \n",
    "\n",
    "![texto del enlace](Imagenes/market_structure.jpg)\n",
    "\n",
    "Cada mercado en cada bloque tiene un estado similar a la imágen anterior, cada casilla cumple una función especifica:\n",
    "1.   **Borrow rate:** Es la tasa de prestamo actual, esta se calcula en base a la tasa de utilización del bloque anterior.\n",
    "2.   **Supply rate:** Es la tasa de suministro actual, o de otra forma, será la tasa a la cual el lender esta ganando intereses en función de su capital suministrado. Al igual que el *borrow rate*, se calcula en base al bloque anterior.\n",
    "3.   **Token price:** Es el precio actual del mercado, es una variable independiente del protocolo y viene dada por un oraculo.\n",
    "4.  **Total pool reserves:** Es la cantidad de reservas actuales en el mercado.\n",
    "5.  **Exchange rate:** Tasa de cambio entre tokens y ctokens en el bloque actual.\n",
    "6.  **t:** Es la cantidad de bloques que lleva la tasa *borrow rate*, tambien se puede entender como la cantidad de bloques en las que no se ha hecho ninguna acción por parte de los usuarios.\n",
    "7.  **Total borrow:** Es la cantidad total de tokens prestados (junto con intereses) en el mercado en el bloque actual.\n",
    "8.  **Total supply:** Es la cantidad total de tokens suministrados en el mercado.\n",
    "9.  **Movimiento de usuarios y registro de acciones:** En esta casilla se guardan las carteras y las acciones que realizará cada usuario en el bloque actual, cada elemento en esta casilla se puede ver como: \n",
    "![texto del enlace](Imagenes/user_structure.jpg)\n",
    "\n",
    "Todos los usuarios que hagan parte del mercado poseen las caracteristicas o datos que se ven en el diagrama anterior: \n",
    "*   En la primera casilla encontramos la *acción* que realiza el usuario, en cada bloque cada usuario puede realizar una de cinco acciones: *supply* (o suministrar liquidez), *borrow*, *withdraw*, *repay* o no hacer nada.\n",
    "*   En la segunda casilla encontramos el amount, será el monto o la cantidad de tokens que se emplean dependiendo de la acción.\n",
    "*   En la tercera y cuarta posición encontramos los datos correspondientes al supply del usuario, en la tercera los montos que suministra el usuario y en la cuarta lo suministrado mas los intereses que se van acumulando.\n",
    "*   Finalmente en las quinta y sexta posición encontramos los datos correspondientes a los prestamos que realice el usuario en el mercado. De manera análoga se guardan en la quinta posición los montos que se solicitan como prestamo y en la sexta posición los montos prestados mas los intereses que se generan por la deuda.\n"
   ]
  },
  {
   "cell_type": "markdown",
   "metadata": {
    "id": "JfNTHdht4-2_"
   },
   "source": [
    "## Configuración de un mercado\n",
    "\n",
    "Para crear el entorno inicial debemos tener presente varios factores que influiran de manera significativa en nuestra simulación.\n",
    "\n",
    "Lo primero es establecer la cantidad de usuarios que vamos a considerar, está debe ser la misma para todos los mercados que se quieran crear. Una vez establecido este valor debemos \"llamar\" los valores ya establecidos por gobernanza y podremos crear tantos mercados como necesitemos."
   ]
  },
  {
   "cell_type": "code",
   "execution_count": null,
   "metadata": {
    "id": "QrkMVUr2ag2Y"
   },
   "outputs": [],
   "source": [
    "# Formato de visualización del mercado\n",
    "\n",
    "def fixLen(value, isNumber=False):\n",
    "    if isNumber: \n",
    "        value = '%.5f' % value\n",
    "        value = value[:9]\n",
    "    return '{:9s}'.format(str(value))\n",
    "\n",
    "def printMarket(market):\n",
    "    blockNumber = 0\n",
    "    for marketAtblock in market:\n",
    "        #print('InterestIndexArray:', marketAtblock[9])\n",
    "        print('accrualBlockNumber:', marketAtblock[5], '\\t exchangeRate:', marketAtblock[4],\n",
    "              '\\t marketPrice:', marketAtblock[2])\n",
    "        print('totalSupplies:', marketAtblock[7], '\\t totalBorrows:', marketAtblock[6],\n",
    "              '\\t totalReserves:', marketAtblock[3])\n",
    "        print('borrowRateAPR:', marketAtblock[0], '\\t supplyRateAPR:', marketAtblock[1],\n",
    "              '\\t MarketCash:', marketAtblock[8])\n",
    "        print('MarketIndex:', marketAtblock[9][-1],'\\n')\n",
    "        print('|','-'*11,'|','-'*11,'|','-'*11,'|','-'*11,'|','-'*11,'|','-'*11,'|','-'*11,'|','-'*11,'|')\n",
    "        print('| ',fixLen('# Block'),' | ',fixLen('UserIdx'),' | ',fixLen('Action'),' | ',\n",
    "              fixLen('Amount'),' | ',fixLen('Supply'),' | ',fixLen('SPlusI'),' | ',\n",
    "              fixLen('Borrow'),' | ',fixLen('IUIdx'),' |')    \n",
    "        print('|','-'*11,'|','-'*11,'|','-'*11,'|','-'*11,'|','-'*11,'|','-'*11,'|','-'*11,'|','-'*11,'|')\n",
    "        userIndex = 0\n",
    "        for user in marketAtblock[10:]:\n",
    "            print('| ',fixLen(blockNumber),' | ',fixLen(userIndex),' | ',fixLen(user[0]),' | ',fixLen(user[1], True),' | ',fixLen(user[2], True),' | ',fixLen(user[3], True),' | ',fixLen(user[4], True),' | ',fixLen(user[5]),' |')\n",
    "            userIndex += 1\n",
    "        blockNumber+=1\n",
    "        print('|','-'*11,'|','-'*11,'|','-'*11,'|','-'*11,'|','-'*11,'|','-'*11,'|','-'*11,'|','-'*11,'|')"
   ]
  },
  {
   "cell_type": "code",
   "execution_count": null,
   "metadata": {
    "colab": {
     "base_uri": "https://localhost:8080/"
    },
    "id": "xi0y9mbONauB",
    "outputId": "397dff56-e13c-4435-a36b-48442950b5d5"
   },
   "outputs": [],
   "source": [
    "def marketSetUp(n_users,reserveFactor,initialSuppliersRate,initialTokenPrice,maxAmountSupply,interestModel):\n",
    "    market = []  \n",
    "    borrowRate = interestModel(0)\n",
    "    supplyRate = getSupplyAPR(borrowRate,reserveFactor,0)\n",
    "    initialExchangeRate = 50\n",
    "    market.append(borrowRate)   # Borrow rate with utilizationRate = 0, 0\n",
    "    market.append(supplyRate)   # Supply rate with utilizationRate = 0, 1\n",
    "    market.append(initialTokenPrice)  # Initial Price Market, 2\n",
    "    market.append(0)  # Total Reserve, 3\n",
    "    market.append(initialExchangeRate) # Exchange Rate, 1 token == 50 ctokens, 4\n",
    "    market.append(0)  # Accrual block number, 5\n",
    "    market.append(0)  # TotalBorrow in Market, 6\n",
    "    market.append(0)  # TotalSupplied in Market, 7\n",
    "    market.append(0)  # Market cash, 8\n",
    "    market.append([ratePerBlock(borrowRate)])  # Interest index, 9\n",
    "    for i in range(n_users):\n",
    "        r = random.random()\n",
    "        if r <= initialSuppliersRate:\n",
    "            supplied = random.uniform(minAmount,maxAmountSupply)\n",
    "            userSupply = (\"s\",supplied,supplied,supplied*initialExchangeRate,0,0)\n",
    "            market.append(userSupply)\n",
    "        else:\n",
    "            market.append((\"x\",0,0,0,0,0))\n",
    "    supply = 0\n",
    "    for user in market[10:]:\n",
    "        supply += user[2]\n",
    "    reserve = supply*reserveFactor\n",
    "    market[3] = reserve  # Market reserve\n",
    "    market[7] = supply   # Market total supply\n",
    "    market[8] = supply + reserve # Market Cash\n",
    "    return [market]\n",
    "\n",
    "M1 = marketSetUp(5,0.2,0.5,initialMarketPrices[0],maxAmount[0],getBorrowAPR_volatileMarket)\n",
    "printMarket(M1)\n",
    "M2 = marketSetUp(5,0.2,0.5,initialMarketPrices[1],maxAmount[1],getBorrowAPR_stableMartet)\n",
    "printMarket(M2)"
   ]
  },
  {
   "cell_type": "markdown",
   "metadata": {
    "id": "LRHTubZVELSi"
   },
   "source": [
    "## Actualización de dinámicas del mercado\n",
    "\n",
    "Dado que en cada bloque debemos conocer el estado del mercado, debemos establecer mecanismos para actualizar todas las posibles variables de cada mercado.\n",
    "\n",
    "La manera en la que se actualizarán las tasas de interés vendrá dada por el modelo de interés y el comportamiento del mercado en el bloque anterior, esto quiere decir que en el bloque $n$ las tasas $\\text{Borrow rate}$ y $\\text{Supply rate}$ dependerán de la tasa de utilización (relación entre oferta y demanda) del bloque $n-1$.\n",
    "\n",
    "Recordemos que la tasa de utilización esta dada por la siguiente ecuación:\n",
    "\n",
    "$$\\text{Utilization rate}=\\frac{Total Borrow}{Total supply}\\approx\\frac{Total Borrow}{Total Supply+TotalBorrow}$$\n",
    "\n",
    "De ese modo, construiremos las funciones que nos permitiran determinar los posibles cambios en las diferentes tasas del mercado en el último bloque generado:\n",
    "\n",
    "# Stable coins\n",
    "$$\\text{Utilization rate}=\\frac{Total Borrow}{Total Liquility + Total Borrow}$$\n",
    "\n",
    "Borrow rate:\n",
    "\n",
    "$$\\text{Borrow rate}=\\left\\{\\begin{array}{ll}\n",
    "\\text{baseBorrowRate}+\\text{slope}_{1}*\\text{UtilizationRate} & \\text{si } utilizationRate\\leq kink\\\\\n",
    "\\text{crossPoint}+\\text{solpe}_{2}*\\text{UtilizationRate} & \\text{otherwise}\\end{array}\\right.$$\n",
    "\n",
    "Supply rate:\n",
    "\n",
    "$$\\text{Supply rate}={utilization Rate*borrowRate}*({1-reserveFator})$$"
   ]
  },
  {
   "cell_type": "code",
   "execution_count": null,
   "metadata": {
    "colab": {
     "base_uri": "https://localhost:8080/"
    },
    "id": "sjBSml-oAgfp",
    "outputId": "da4102ac-00fd-4cbf-8f6a-a421f548ccbb"
   },
   "outputs": [],
   "source": [
    "testMarket = [[0.02,0,10,2,50,0,0,10,8,[0.02/(4*60*24*365)],(\"s\",10,10,10*50,0,0)],\n",
    "              [0.02,0,10,2,50,0,5,10,8,[0.02/(4*60*24*365),(0.02/(4*60*24*365))*(1+(0.02/(4*60*24*365)))],(\"b\",5,10,10*50,5,0)]]\n",
    "printMarket(testMarket)"
   ]
  },
  {
   "cell_type": "code",
   "execution_count": null,
   "metadata": {},
   "outputs": [],
   "source": [
    "# Calculo de la tasa de utilización del mercado en el bloque actual\n",
    "\n",
    "def getUtilizationRate(market,blockNumber,reserveFactor):  # Recibe el nuevo bloque\n",
    "    if blockNumber == 1 or blockNumber == 0:\n",
    "        return 0\n",
    "    # Utilización con la que empieza el nuevo bloque\n",
    "    borrowRate = market[blockNumber-1][0]\n",
    "    totalBorrow = market[blockNumber-1][6]  # Lo que habia prestado mas lo que paso en el bloque anterior\n",
    "    for user in market[blockNumber-1][10:]:\n",
    "        totalBorrow += user[4]\n",
    "    cash = market[blockNumber-1][8]\n",
    "    return totalBorrow/(cash+totalBorrow)  # Retorna un valor porcentual\n",
    "\n",
    "# Calculo de la tasa Borrow rate (por el momento se esta tomando la tasa APR)\n",
    "\n",
    "def borrowRateAPR(market,blockNumber,interestModel,reserveFactor): # Recibe el nuevo bloque\n",
    "    # Calcula la tasa de interés que se debe pagar por los borrowers por bloque\n",
    "    utilizationRate = getUtilizationRate(market, blockNumber, reserveFactor)\n",
    "    borrowAPR = interestModel(utilizationRate)\n",
    "    return borrowAPR  # Retorna un valor porcentual\n",
    "\n",
    "# Calculo de la tasa Supply rate (por el momento se esta tomando la tasa APR)\n",
    "\n",
    "def supplyRateAPR(market,blockNumber,reserveFactor,borrowRatePerBlock):  # Recibe el nuevo bloque\n",
    "    # Calcula la tasa de interés que se paga a los suppliers por bloque\n",
    "    utilizationRate = getUtilizationRate(market, blockNumber, reserveFactor)\n",
    "    supplyAPR = getSupplyAPR(borrowRatePerBlock, reserveFactor, utilizationRate)\n",
    "    return supplyAPR  # Retorna un valor porcentual\n",
    "\n",
    "UR_M1 = getUtilizationRate(M1,0,0.2)\n",
    "BOR_M1 = borrowRateAPR(M1,0,getBorrowAPR_volatileMarket, 0.2)\n",
    "SUP_M1 = supplyRateAPR(M1,0,reserveFactors[0],BOR_M1)\n",
    "print(\"La tasa de utilización del mercado MK1 en el bloque cero es %.4f\" %UR_M1)\n",
    "print(\"El Borrow rate para el bloque 1 en el mercado MK1 será %.4f\" %BOR_M1)\n",
    "print(\"El Supply rate para el bloque 1 en el mercado MK1 será %.4f\" %SUP_M1)"
   ]
  },
  {
   "cell_type": "code",
   "execution_count": null,
   "metadata": {
    "colab": {
     "base_uri": "https://localhost:8080/"
    },
    "id": "VO__VTu-7wgY",
    "outputId": "b39ce019-3194-4443-f0d5-a7448339a646"
   },
   "outputs": [],
   "source": [
    "def hasChangeBorrowRate(market,blockNumber,newBorrowRate):  # Se recibe el nuevo blockNumber \n",
    "  # Se va a verificar si cambia el valor para actualizar el delta y el interestIndex para el bloque blockNumber\n",
    "  return market[blockNumber-1][0] != newBorrowRate  # Si es True, la tasa cambio\n",
    "\n",
    "# Funcion para calcular los delta, i.e. espacio entre acciones en numero de bloques\n",
    "\n",
    "def accrualBlockNumber(market, blockNumber, newBorrowRate):  # Se recibe el nuevo blockNumber\n",
    "    # Reporta el valor de delta y el ultimo indice (rate por bloque) calculado\n",
    "    if blockNumber == 0:\n",
    "        return (0,[ratePerBlock(newBorrowRate)])\n",
    "    borrowRateChanged = hasChangeBorrowRate(market,blockNumber,newBorrowRate)  # New Borrow Rate\n",
    "    if borrowRateChanged == False:  # No cambio el borrow rate\n",
    "        indexes = market[blockNumber-1][9]\n",
    "        delta = market[blockNumber-1][5]+1\n",
    "        return (delta, indexes)\n",
    "    else:  # Si la tasa cambio\n",
    "        delta = market[blockNumber-1][5]+1\n",
    "        # I_n = I_n-1 (1 + borrowRatePerBlock_n-1 * delta)\n",
    "        lastI = market[blockNumber-1][9][-1]\n",
    "        indexPerBlock = lastI * (1 + ratePerBlock(newBorrowRate)*delta)\n",
    "        indexes = market[blockNumber-1][9]\n",
    "        temporalIndexes = []\n",
    "        for i in indexes:\n",
    "            temporalIndexes.append(i)\n",
    "        temporalIndexes.append(indexPerBlock)\n",
    "        return (0,temporalIndexes)"
   ]
  },
  {
   "cell_type": "code",
   "execution_count": null,
   "metadata": {},
   "outputs": [],
   "source": [
    "# Saldo total suministrado en el mercado en tokens\n",
    "\n",
    "def totalSupplyMarket(market,blockNumber):  # Se recibe el nuevo blockNumber\n",
    "    supply = 0\n",
    "    for user in market[blockNumber-1][10:]:\n",
    "        supply += user[2]   # Se toman unicamente las cantidades suministradas sin intereses\n",
    "    return supply\n",
    "\n",
    "# Saldo total prestado + intereses del mercado en tokens\n",
    "\n",
    "def totalBorrowMarket(market,blockNumber,newBorrowRate):  # Se recibe el nuevo blockNumber\n",
    "    # Calcular la cantidad prestada mas intereses con las que inicia el nuevo bloque\n",
    "    if blockNumber == 0 or blockNumber == 1:\n",
    "        return 0\n",
    "    delta, indexes = accrualBlockNumber(market,blockNumber,newBorrowRate)\n",
    "    if delta != 0:\n",
    "        return market[blockNumber-1][6]\n",
    "    else:\n",
    "        totalBorrow = 0   # Se consideran las acciones del bloque anterior\n",
    "        totalRepay = 0\n",
    "        for user in market[blockNumber-1][10:]:\n",
    "            if user[0] == \"b\":\n",
    "                totalBorrow += user[1]\n",
    "            elif user[0] == \"r\":\n",
    "                totalRepay += user[1]\n",
    "        return (totalBorrow + market[blockNumber-1][6] - totalRepay)*(indexes[-1]/indexes[-2])  # En tokens\n",
    "    \n",
    "# Se actualizan las reservas de acuerdo con los withdraws del bloque anterior\n",
    "\n",
    "def totalPreviousReserves(market,blockNumber):  # Se recibe el nuevo blockNumber\n",
    "    withdraws = 0\n",
    "    repays = 0\n",
    "    for user in market[blockNumber-1][10:]:\n",
    "        if user[0] == \"w\":\n",
    "            withdraws += user[1]\n",
    "        if user[0] == \"r\":\n",
    "            repays += user[1]\n",
    "    balanceMarket = market[blockNumber-1][8] - withdraws + repays  # Lo que habia - lo que se saco + las deudas que se pagaron\n",
    "    if balanceMarket <= 0:\n",
    "        newTotalReserve = market[blockNumber-1][3] + balanceMarket\n",
    "    else:\n",
    "        newTotalReserve = market[blockNumber-1][3]\n",
    "    return newTotalReserve\n",
    "\n",
    "def totalReserveMarket(market,blockNumber,reserveFactor,newBorrowRate):  # Se recibe el nuevo blockNumber\n",
    "    # Calcular la cantidad de resrvas mas intereses con las que inicia el nuevo bloque\n",
    "    previousTotalReserve = totalPreviousReserves(market,blockNumber)\n",
    "    if blockNumber == 0:\n",
    "        return market[0][3]\n",
    "    totalBorrow = totalBorrowMarket(market,blockNumber,newBorrowRate)\n",
    "    totalReserve = previousTotalReserve + totalBorrow*reserveFactor\n",
    "    return totalReserve\n",
    "\n",
    "# Liquidez total del mercado \n",
    "\n",
    "def getMarketCash(market,blockNumber,reserveFactor,newBorrowRate): # Recibe el nuevo bloque\n",
    "    # Liquidez con la que empieza el nuevo bloque\n",
    "    if blockNumber == 0:\n",
    "        return market[0][7]-market[0][6]+market[0][3]\n",
    "    supply = totalSupplyMarket(market,blockNumber) \n",
    "    borrow = totalBorrowMarket(market,blockNumber,newBorrowRate)  \n",
    "    reserve = totalReserveMarket(market,blockNumber,reserveFactor,newBorrowRate) \n",
    "    cash = supply - borrow + reserve  # Identidad para el cash \n",
    "    return cash"
   ]
  },
  {
   "cell_type": "code",
   "execution_count": null,
   "metadata": {},
   "outputs": [],
   "source": [
    "# Tasa de cambio para un mercado\n",
    "\n",
    "def exchangeRateMarket(market,blockNumber,reserveFactor,totalSupply,totalBorrow,totalReserves,newBorrowRate):  # Recibe el nuevo bloque\n",
    "    if blockNumber == 0:\n",
    "        return 50   # exchangeRate inicial\n",
    "    else:\n",
    "        cash = getMarketCash(market,blockNumber,reserveFactor,newBorrowRate)\n",
    "        totalBorrow = totalBorrowMarket(market,blockNumber,newBorrowRate)\n",
    "        totalReserves = totalReserveMarket(market,blockNumber,reserveFactor,newBorrowRate)\n",
    "        cTokenMinted = 0\n",
    "        for user in market[blockNumber-1][10:]:\n",
    "            cTokenMinted += user[3]\n",
    "        if cash+totalBorrow-totalReserves != 0:\n",
    "            exchangeRate = cTokenMinted/(cash+totalBorrow-totalReserves)\n",
    "        else:\n",
    "            exchangeRate = 50\n",
    "        return exchangeRate"
   ]
  },
  {
   "cell_type": "code",
   "execution_count": null,
   "metadata": {},
   "outputs": [],
   "source": [
    "def setMarketVariablesInBlock(market, blockNumber, reserveFactor, marketPrice, interestModel): # Recibe el nuevo bloque\n",
    "    # Condiciones de mercado\n",
    "    # --------------------------------------------------------------------------------------------------------------------\n",
    "    borrowRate = borrowRateAPR(market,blockNumber,interestModel,reserveFactor)\n",
    "    supplyRate = supplyRateAPR(market,blockNumber,reserveFactor,borrowRate)\n",
    "    delta, indexes = accrualBlockNumber(market,blockNumber,borrowRate)\n",
    "    totalSupply = totalSupplyMarket(market,blockNumber)\n",
    "    totalBorrow = totalBorrowMarket(market,blockNumber,borrowRate)\n",
    "    totalReserve = totalReserveMarket(market,blockNumber,reserveFactor,borrowRate)\n",
    "    marketCash = getMarketCash(market,blockNumber,reserveFactor,borrowRate)\n",
    "    exchangeRate = exchangeRateMarket(market,blockNumber,reserveFactor,totalSupply,totalBorrow,totalReserve,borrowRate)\n",
    "    # --------------------------------------------------------------------------------------------------------------------\n",
    "    mkAtBlock = [('x', 0, 0, 0, 0, 0)] * len(market[0])\n",
    "    mkAtBlock[0] = borrowRate\n",
    "    mkAtBlock[1] = supplyRate\n",
    "    mkAtBlock[5] = delta \n",
    "    mkAtBlock[9] = indexes\n",
    "    mkAtBlock[7] = totalSupply\n",
    "    mkAtBlock[6] = totalBorrow\n",
    "    mkAtBlock[3] = totalReserve\n",
    "    mkAtBlock[8] = marketCash\n",
    "    mkAtBlock[4] = exchangeRate\n",
    "    mkAtBlock[2] = marketPrice\n",
    "    # --------------------------------------------------------------------------------------------------------------------\n",
    "    userIndex = 10\n",
    "    for users in market[blockNumber-1][10:]: \n",
    "        mkAtBlock[userIndex] = market[blockNumber-1][userIndex] \n",
    "        userIndex += 1 \n",
    "    return mkAtBlock\n",
    "\n",
    "printMarket([setMarketVariablesInBlock(M1,1,0.2,50000,getBorrowAPR_volatileMarket)])"
   ]
  },
  {
   "cell_type": "code",
   "execution_count": null,
   "metadata": {},
   "outputs": [],
   "source": [
    "printMarket(M1)"
   ]
  },
  {
   "cell_type": "markdown",
   "metadata": {
    "id": "U7qjeANqHcb1"
   },
   "source": [
    "Para actualizar las demas variables que definen el estado del mercado en el nuevo bloque, debemos contar la cantidad de bloques en las que las tasas de interés no han sufrido cambios, es decir, bloques en los que no hubo cambios entre la oferta y la demanda del mercado. Para esto definiremos la función que cambiará el valor de $t$, el cual como ya mencionamos, será la cantidad de bloques sin cambios en las tasas de interés:"
   ]
  },
  {
   "cell_type": "markdown",
   "metadata": {
    "id": "HuIT16hoIu_g"
   },
   "source": [
    "En base al valor de $t$ se calcularán de una u otra forma los intereses tanto del mercado como de los usuarios. Analicemos esto con un ejemplo:\n",
    "\n",
    "Supongamos que estamos interesados en realizar un suministro al mercado MK1 y que al momento de realizar el suministro las tasas de interes son $\\text{Borrow rate}=0.05$ y $\\text{Supply rate}=0.02$; nuestros fondos creceran con la misma tasa de interés en tanto que ningún usuario interactue con el mercado MK1, es decir, la tasa de interés será la misma mientras que ningún otro usuario (o nosotros) realicemos un supply, un borrow, un withdraw o un repay.\n",
    "\n",
    "En este cambio el interés será del tipo **simple**, con lo cual si suponemos que en 100 bloques no se ha realizado niguna acción, tendremos\n",
    "\n",
    "$$\\text{Capital}_{100} = \\text{Capital}_0*(1+100*\\text{Supply rate})$$\n",
    "\n",
    "o de manera general,\n",
    "\n",
    "$$\\text{Capital}_{\\text{bloque_n}} = \\text{Capital}_{\\text{bloque_0}}*(1+t*\\text{Supply rate})$$\n",
    "\n",
    "si en $n$ bloques no se ha realizado ninguna acción. Por otro lado, si el valor de $t$ es cero (esto implica que algún usuario realizó una acción en el mercado MK1), se deben capitalizar los intereses, en este punto el interés se transforma en un interés del tipo compuesto, con lo cual si suponemos que en el bloque 101 alguien realizo alguna acción, tendremos\n",
    "\n",
    "\\begin{align}\n",
    "\\text{Capital}_{101}&=\\text{Capital}_{100}*(1+\\text{New supply rate})\\\\\n",
    "&=\\text{Capital}_{0}*(1+100*\\text{Supply rate})*(1+\\text{New supply rate})\n",
    "\\end{align}\n",
    "\n",
    "Realizando así, el proceso de capitalización de intereses en el momento que se actualizan las tasas del mercado.\n",
    "\n",
    "![texto del enlace](Imagenes/interest.jpg)\n",
    "\n",
    "De ese modo, debemos actualziar el saldo total prestado del mercado en base a los intereses (simples o compuesto) que se calculen."
   ]
  },
  {
   "cell_type": "markdown",
   "metadata": {
    "id": "oKiu0rA40n1I"
   },
   "source": [
    "Continuando con la actualización de los valores propios del mercado, tenemos el total de reservas del mercado. Al igual que el saldo total prestado, las reservas tambien se capitalzian de acuerdo a la actualización de las tasas del mercado, con lo cual, la manera en la que se calcularán las reservas en un bloque $n$ será:\n",
    "\n",
    "$$\\text{TotalReserves}_n=\\left\\{\\begin{array}{ll}\n",
    "\\text{TotalReserves}_{0}+\\text{TotalBorrow}_{0}*(\\text{BorrowRate}*\\Delta*\\text{ReserveFactor}) & \\text{si }\\Delta\\neq0\\\\\n",
    "\\text{TotalReserves}_{n-1}+\\text{TotalBorrow}_{n-1}*(\\text{BorrowRate}*\\text{ReserveFactor}) & \\text{si }\\Delta=0\\end{array}\\right.$$\n",
    "\n",
    "La expresión anterior se puede entender como que una parte (tanta como el factor de reserva) de los intereses generados por los prestamos, se irá para la reserva del mercado."
   ]
  },
  {
   "cell_type": "markdown",
   "metadata": {
    "id": "u5-YnRQT9Sl6"
   },
   "source": [
    "Es momento de establecer el mecanismo por el cual se define la tasa de cambio entre tokens y ctokens. Para comprender esta noción debemos tener presente los siguientes conceptos:\n",
    "\n",
    "*  **Acuñar tokens (mint tokens):** Es el proceso de suministrar algún activo en el mercado y recibir ctokens a cambio.\n",
    "*  **Saldo total de subyacente:** Es la cantidad de tokens que hay en el mercado.\n",
    "*  **Saldo total prestado:** Es la cantidad de tokens prestados.\n",
    "*  **Reservas:** Reservas actuales del mercado.\n",
    "\n",
    "Con lo cual, la expresión que define la tasa de cambio en el bloque actual es\n",
    "\n",
    "$$TokenPrice = \\frac{1}{cTokenPrice}=\\frac{TotalUnderlyingBalance+TotalBorrowBalance-Reserves}{cTokenMinted}$$\n",
    "\n",
    "Una característica que cabe mencionar es que a pesar de que la tasa de cambio depende del saldo total suministrado y si este baja, la tasa de cambio tambien podrá bajar, el crecimiento en el valor de los cTokens se verá directamente relacionado con la acumulación de intereses generados por los prestamos de cada usuario.\n",
    "\n",
    "Para determinar la cantidad $cTokenMinted$ debemos tomar la cantidad de tokens en el mercado (incluyendo los tokens que fueron prestados fuera de intereses) y dividirlos por el precio anterior de los cTokens."
   ]
  },
  {
   "cell_type": "markdown",
   "metadata": {
    "id": "WRemMuWpUAk_"
   },
   "source": [
    "Una vez obtenidos todos los valores anteriormente mencionados, podemos definir el estado del mercado en el siguiente bloque; es importante mencionar que en este punto aun no hemos tomado en cuenta los movimientos de los usuarios."
   ]
  },
  {
   "cell_type": "markdown",
   "metadata": {
    "id": "K0UU-8JTWra6"
   },
   "source": [
    "## Update de los movimientos de los usuarios\n",
    "\n",
    "Para simular cada una de las acciones que pueden realizar los usuarios será necesario implementar una distribución de probabilidad que modele la cantidad promedio de ocurrencias de algún suceso en un tiempo especifico, en nuestro contexto se traduce por ejemplo, a la cantidad promedio de usuarios que hacen supply en un bloque.\n",
    "\n",
    "La distribución de probabilidad la podemos entender como una expresión matemática que asigna a cada valor, la probabilidad de que \"aparezca\" dicho valor. \n",
    "\n",
    "En ese sentido, la distribución de probabilidad que mejor se ajusta a nuestra simulación es la distribución de Pöisson, la cual nos indicara la probabilidad de que uno o dos, o 100 usuarios realicen supply (por ejemplo) en un bloque dado.\n",
    "\n",
    "Para comprender mejor la noción de distribución de probabilidad que vamos a implementar en la simulación realizaremos un ejemplo gráfico.\n",
    "\n",
    "Supongamos que las condiciones del mercado son tales que el promedio de entradas de suppliers por bloque es 5, la cantidad de borrowers promedio es de 3, la de usuarios que realizan withdraw es de 1 y los que hacen un repay son 2 en promedio. Las distribuciones de probabilidad que se ajustan a estos valores son:\n"
   ]
  },
  {
   "cell_type": "code",
   "execution_count": null,
   "metadata": {
    "colab": {
     "base_uri": "https://localhost:8080/",
     "height": 542
    },
    "id": "p3dUfRc-x9gi",
    "outputId": "13369a1d-c983-4dfa-9ccc-d0d121108a5a"
   },
   "outputs": [],
   "source": [
    "# Valores estimados de ocerrencias\n",
    "\n",
    "lambda_suppliers = 5    # Candidad estimada de llegada de suppliers por bloque  \n",
    "lambda_borrowers = 3    # Candidad estimada de llegada de borrowes por bloque\n",
    "lambda_withdraws = 1    # Candidad estimada de usuarios que realizan withdraw por bloque\n",
    "lambda_repays = 2       # Candidad estimada de usuarios que realizan repay por bloque\n",
    "\n",
    "# Distribuciones de Poisson para los valores dados\n",
    "\n",
    "suppliersDistribuion = ss.poisson(lambda_suppliers)   \n",
    "borrowersDistribuion = ss.poisson(lambda_borrowers)   \n",
    "withdrawsDistribuion = ss.poisson(lambda_withdraws)   \n",
    "repaysDistribuion = ss.poisson(lambda_repays)\n",
    "\n",
    "# Visualización\n",
    "\n",
    "people = np.arange(15)\n",
    "\n",
    "suppliersProbability = []  \n",
    "borrowersProbability = []\n",
    "withdrawsProbability = []\n",
    "repaysProbability = []\n",
    "\n",
    "for user in people:\n",
    "    suppliersProbability.append(suppliersDistribuion.pmf(user))   \n",
    "    borrowersProbability.append(borrowersDistribuion.pmf(user))   \n",
    "    withdrawsProbability.append(withdrawsDistribuion.pmf(user))\n",
    "    repaysProbability.append(repaysDistribuion.pmf(user))\n",
    "\n",
    "# Visualización\n",
    "fig = go.Figure()\n",
    "\n",
    "fig.add_trace(go.Scatter(x=people,y=suppliersProbability,name=\"Suppliers\"))\n",
    "fig.add_trace(go.Scatter(x=people,y=borrowersProbability,name=\"Borrowers\"))\n",
    "fig.add_trace(go.Scatter(x=people,y=withdrawsProbability,name=\"Withdraws\"))\n",
    "fig.add_trace(go.Scatter(x=people,y=repaysProbability,name=\"Repays\"))\n",
    "\n",
    "fig.update_layout(title=\"Distribuciones para la acción por parte de cada usuario por bloque\",\n",
    "                  xaxis_title='Cantidad de personas',\n",
    "                  yaxis_title='Probabilidad')\n",
    "fig.show()"
   ]
  },
  {
   "cell_type": "markdown",
   "metadata": {},
   "source": [
    "En la gráfica anterior podemos ver que la probabilidad de que 4 usuarios hagan supply es mayor por ejemplo a la probabilidad de que 4 usuarios hagan withdraw, también podemos ver que es mucho mas probable que 2 usuario hagan repay a que 7 usuarios lo hagan. Esta será la idea que implementaremos para modelar la ocurrencia de cada acción."
   ]
  },
  {
   "cell_type": "code",
   "execution_count": null,
   "metadata": {
    "id": "CGJjx4rHv2ox",
    "scrolled": true
   },
   "outputs": [],
   "source": [
    "def temporalBlock(market,blockNumber):  # Recibe el bloque anterior\n",
    "    \"\"\"\n",
    "    Se crea una copia temporal del bloque sin acciones del mercado\n",
    "    ...\n",
    "    Attributes\n",
    "    ----------\n",
    "    market : list\n",
    "        An list of all configurations of the market in blocks\n",
    "    blockNumber : int \n",
    "        Number of the previous block\n",
    "    \"\"\"\n",
    "    temporal = []\n",
    "    for value in market[blockNumber][:10]:\n",
    "        temporal.append(value)\n",
    "    for user in market[blockNumber][10:]:\n",
    "        temporal.append((\"x\",0,user[2],user[3],user[4],user[5]))\n",
    "    return temporal\n",
    "\n",
    "def userAtBlock(markets,blockNumber,userIndex):\n",
    "    \"\"\"\n",
    "    Devuelve el estado en cada mercado en bloque especifico de un usuario fijo\n",
    "    ...\n",
    "    Attributes\n",
    "    ----------\n",
    "    markets : list\n",
    "        An list of all configurations of the markets in blocks\n",
    "    blockNumber : int \n",
    "        Number of the previous block\n",
    "    userIndex : int\n",
    "        Index of the account\n",
    "    ...\n",
    "    returns\n",
    "    -------\n",
    "    list with the latest account report in each market    \n",
    "    \"\"\"\n",
    "    temporalUserAtBlock = []\n",
    "    for market in markets:\n",
    "        temporalUserAtBlock.append(market[blockNumber][userIndex])\n",
    "    return temporalUserAtBlock\n",
    "\n",
    "def accountLiquidity(markets,blockNumber,collateralFactors,userIndex): # Recibe el ultimo bloque creado\n",
    "    \"\"\"Nos indica la liquidez y el deficit de la cuenta\"\"\"\n",
    "    tmpUserAtBlock = userAtBlock(markets,blockNumber,userIndex)\n",
    "    collateralBalance = 0  # Valor en USD\n",
    "    borrowBalance = 0  # Valor en USD\n",
    "    for m in range(len(tmpUserAtBlock)):\n",
    "        index = markets[m][blockNumber][9][-1]/markets[m][blockNumber][9][tmpUserAtBlock[m][5]]\n",
    "        collateralBalance += (tmpUserAtBlock[m][3]/markets[m][blockNumber][4])*collateralFactors[m]*markets[m][blockNumber][2]\n",
    "        borrowBalance += (tmpUserAtBlock[m][4]*index)*markets[m][blockNumber][2]\n",
    "    shortfall = max(borrowBalance - collateralBalance,0)  # Cuanto se deberia liquidar\n",
    "    liquidity = max(collateralBalance - borrowBalance,0)  # Cuanto le queda de colchon para pedir prestamos\n",
    "    return (liquidity,shortfall)   #valores en USD\n",
    "    \n",
    "accountLiquidity([M1,M2],0,[0.75,0.75],10)"
   ]
  },
  {
   "cell_type": "markdown",
   "metadata": {
    "id": "LP2oUFe7x49X"
   },
   "source": [
    "A continuación definiremos cada uno de los posibles eventos que se pueden presentar en cada bloque:\n",
    "\n",
    "1.   **Nuevos suppliers**\n",
    "\n",
    "\n",
    "\n",
    "![texto del enlace](Imagenes/supply.jpg)"
   ]
  },
  {
   "cell_type": "code",
   "execution_count": null,
   "metadata": {
    "colab": {
     "base_uri": "https://localhost:8080/"
    },
    "id": "BM1AhCB5ucTU",
    "outputId": "8a93f4da-ec3b-4a52-8ab3-10ecd9dabbfd"
   },
   "outputs": [],
   "source": [
    "def newSuppliers(market,estimatedOccurrences,blockNumber,maxSupply,restriction=True):  # Recibe el bloque anterior\n",
    "    # Copia temporal del mercado con la copia temporal del bloque anterior\n",
    "    # -----------------------------------------------------------------------------------------------------\n",
    "    previousBlockCopy = temporalBlock(market,blockNumber)  # Esta es la que se edita\n",
    "    # -----------------------------------------------------------------------------------------------------\n",
    "    # Llegada aleatoria de suppliers\n",
    "    # -----------------------------------------------------------------------------------------------------\n",
    "    poissonDistribution = ss.poisson(estimatedOccurrences)  # Se aplica una distribución de Poisson\n",
    "    n_users = len(previousBlockCopy[10:])\n",
    "    numberOfPeople = np.arange(n_users)\n",
    "    probability = [] \n",
    "    for i in numberOfPeople:\n",
    "        probability.append(poissonDistribution.pmf(i))\n",
    "    numberOfNewSuppliers = random.choices(numberOfPeople,probability)[0]  # Cantidad de nuevos suppliers\n",
    "    # -----------------------------------------------------------------------------------------------------\n",
    "    # Se guardan los indices de los usuarios\n",
    "    # -----------------------------------------------------------------------------------------------------\n",
    "    users = []\n",
    "    userIndex = 10\n",
    "    for user in previousBlockCopy[10:]:\n",
    "        users.append((user,userIndex))\n",
    "        userIndex += 1\n",
    "    # -----------------------------------------------------------------------------------------------------\n",
    "    # Se registran los nuevos suppliers\n",
    "    # -----------------------------------------------------------------------------------------------------\n",
    "    for newSupplier in range(numberOfNewSuppliers):\n",
    "        user, userIndex = random.sample(users,1)[0]\n",
    "        users.remove((user, userIndex))\n",
    "        liquidity,shortfall = accountLiquidity(markets,blockNumber,collateralFactors,userIndex)\n",
    "        if liquidity > 0:  # La cuenta no esta en zona de liquidación\n",
    "            indexes = market[blockNumber][9]\n",
    "            updatedSupply = user[3]/market[blockNumber][4]  # Tokens suplidos con intereses\n",
    "            updatedBorrow = user[4]*(indexes[-1]/indexes[user[5]])  # Tokens en prestamo con intereses\n",
    "            if restriction == True:  # Si no se permite el apalancamiento\n",
    "                if updatedBorrow == 0:   \n",
    "                    supplied = random.uniform(minAmount,maxSupply)\n",
    "                    user = (\"s\",supplied,updatedSupply+supplied,(updatedSupply+supplied)*market[blockNumber][4],\n",
    "                            updatedBorrow,len(indexes)-1)\n",
    "                    previousBlockCopy[userIndex] = user\n",
    "            else:  # Se permite el apalancamiento\n",
    "                supplied = random.uniform(minAmount,maxSupply)\n",
    "                user = (\"s\",supplied,updatedSupply+supplied,(updatedSupply+supplied)*market[blockNumber][4],\n",
    "                        updatedBorrow,len(indexes)-1)\n",
    "                previousBlockCopy[userIndex] = user\n",
    "        else:\n",
    "            previousBlockCopy[userIndex] = user\n",
    "    # -----------------------------------------------------------------------------------------------------\n",
    "    return previousBlockCopy"
   ]
  },
  {
   "cell_type": "markdown",
   "metadata": {
    "id": "OTt0BQ-pmC97"
   },
   "source": [
    "2.  **Nuevos borrowers**\n",
    "\n",
    "![texto del enlace](Imagenes/borrow.jpg)\n",
    "\n",
    "Para determinar la capacidad de prestamo de cada usuario, se deben tener en cuenta los movimientos del mismo usuario en todos los mercados, el siguiente diagrama nos permite determinar el valor de la capacidad de prestamo:\n",
    "\n",
    "![texto del enlace](Imagenes/borrow_limit.jpg)\n",
    "\n",
    "Las casillas que vemos en el paso intermedio del diagrama anterior, corresponde con los balances del usuario en cada mercado, al realizar el dichos calculos se suman los valores obtenidos y el resultado será la capacidad de préstamo del usuario."
   ]
  },
  {
   "cell_type": "code",
   "execution_count": null,
   "metadata": {
    "colab": {
     "base_uri": "https://localhost:8080/"
    },
    "id": "Ij3iUGHHaTDF",
    "outputId": "ca47e464-5097-4b6a-98d2-57ccaaf5d5bf"
   },
   "outputs": [],
   "source": [
    "# marketBor --> Mercado donde se va a pedir prestado\n",
    "def newBorrowers(markets,marketBor,estimatedOccurrences,blockNumber,collateralFactors):  # Recibe el bloque anterior\n",
    "    # Copia temporal del mercado con la copia temporal del bloque anterior\n",
    "    # -----------------------------------------------------------------------------------------------------\n",
    "    previousBlockCopy = temporalBlock(marketBor,blockNumber)  # Esta es la que se edita\n",
    "    # -----------------------------------------------------------------------------------------------------\n",
    "    # Llegada aleatoria de borrowers\n",
    "    # -----------------------------------------------------------------------------------------------------\n",
    "    poissonDistribution = ss.poisson(estimatedOccurrences)  # Distribución de Possion\n",
    "    n_users = len(previousBlockCopy[10:])\n",
    "    numberOfPeople = np.arange(n_users)\n",
    "    probability = []\n",
    "    for i in numberOfPeople:\n",
    "        probability.append(poissonDistribution.pmf(i))\n",
    "    numberOfNewBorrowers = random.choices(numberOfPeople,probability)[0]\n",
    "    # -----------------------------------------------------------------------------------------------------\n",
    "    # Se guardan los indices de los usuarios\n",
    "    # -----------------------------------------------------------------------------------------------------\n",
    "    users = []\n",
    "    userIndex = 10\n",
    "    for user in previousBlockCopy[10:]:\n",
    "        users.append((user,userIndex))\n",
    "        userIndex += 1\n",
    "    # -----------------------------------------------------------------------------------------------------\n",
    "    # Se registran los nuevos borrowers\n",
    "    # -----------------------------------------------------------------------------------------------------\n",
    "    for newBorrower in range(numberOfNewBorrowers):\n",
    "        user, userIndex = random.sample(users,1)[0]\n",
    "        users.remove((user, userIndex))\n",
    "        liquidity,shortfall = accountLiquidity(markets,blockNumber,collateralFactors,userIndex)\n",
    "        if liquidity > 0:  # Si la cuenta no esta en zona de liquidación\n",
    "            indexes = marketBor[blockNumber][9]\n",
    "            updatedSupply = user[3]/marketBor[blockNumber][4]\n",
    "            updatedBorrow = user[4]*(indexes[-1]/indexes[user[5]])\n",
    "            marketLiquidity = marketBor[blockNumber][8]  # Cash del mercado\n",
    "            liquidityInTokens = liquidity/marketBor[blockNumber][2]\n",
    "            limit = min(liquidityInTokens,marketLiquidity)  # Se revisa si hay suficiente cash en el mercado\n",
    "            if limit > minAmount:\n",
    "                borrowed = random.uniform(minAmount,limit)\n",
    "                user = (\"b\",borrowed,updatedSupply,user[3],updatedBorrow+borrowed,len(indexes)-1)  \n",
    "                previousBlockCopy[userIndex]=user                                           \n",
    "        else:\n",
    "            previousBlockCopy[userIndex]=user \n",
    "    # -----------------------------------------------------------------------------------------------------\n",
    "    return previousBlockCopy"
   ]
  },
  {
   "cell_type": "markdown",
   "metadata": {
    "id": "6CBxRp1_OZPa"
   },
   "source": [
    "3.   **Nuevos withdraws**\n",
    "\n",
    "![texto del enlace](Imagenes/withdraw.jpg)\n",
    "\n",
    "En el diagráma anterior aparecen dos nuevos conceptos que no habiamos mencionado, el **ratio** del usuario y la **liquidez del mercado**.\n",
    "\n",
    "Recordemos que el collateral factor nos indicaba el porcentaje de colateral que podiamos tomar prestado, el ratio es el reciproco del collateral factor, es decir, el ratio nos permite determinar cual es la cantidad de collateral que necesitamos para dar garantia sobre el prestamo que tenemos.\n",
    "\n",
    "Por ejemplo, supongamos que tenemos un deposito de 100 tokens en el mercado $MK1$, el cual cuenta con un collateral factor de $75\\%$, esto nos indica que podemos realizar un prestamo de hasta 75 tokens en el mercado. Supongamos que realizamos dicho prestamo y que posteriormente pagamos 50 tokens de la deuda, quedandonos asi un saldo de 25 tokens en el prestamo (para el ejemplo no tomaremos en cuenta los intereses), la pregunta sería que tanto podemos sacar del colateral que teniamos? La respuesta nos la da el ratio y se calcula de la siguiente manera\n",
    "\n",
    "\\begin{align}\n",
    "ratio &= \\frac{1}{collateralFactor}*borrowBalance \\\\\n",
    "&=\\frac{1}{75\\%}*25\\\\\n",
    "&=33.3\n",
    "\\end{align}\n",
    "\n",
    "De ese modo podremos realizar un withdraw de hasta $66.6\\text{ tokens} = 100-33.3$.\n",
    "\n",
    "Por otro lado tenemos la liquidez del mercado, la cual en terminos concretos es la cantidad de tokens que hay en el mercado, incluyendo las reservas. Cabe resaltar que si se retiran tokens de la reserva se esta adquiriendo riesgo de liquidez en el mercado. \n",
    "\n",
    "La manera en la que se calcula la liquidez del mercado es \n",
    "\n",
    "$$\\text{liquidity}=\\text{total supply}-\\text{total borrow balance}$$\n",
    "\n"
   ]
  },
  {
   "cell_type": "code",
   "execution_count": null,
   "metadata": {
    "colab": {
     "base_uri": "https://localhost:8080/"
    },
    "id": "_rN1i8hAv22P",
    "outputId": "f977eefc-575f-4c74-95a1-6c8929e60c6d"
   },
   "outputs": [],
   "source": [
    "# Nuevos Withdraws\n",
    "def newWithdraws(markets,marketWith,estimatedOccurrences,blockNumber,collateralFactors): # Recibe el bloque anterior\n",
    "    # Copia temporal del mercado con la copia temporal del bloque anterior\n",
    "    # -----------------------------------------------------------------------------------------------------\n",
    "    previousBlockCopy = temporalBlock(marketWith,blockNumber)  # Esta es la que se edita\n",
    "    # -----------------------------------------------------------------------------------------------------\n",
    "    # Se guardan los indices de los usuarios\n",
    "    # -----------------------------------------------------------------------------------------------------\n",
    "    suppliers = []\n",
    "    users = []\n",
    "    userIndex = 10\n",
    "    for user in previousBlockCopy[10:]:\n",
    "        if user[3] > 0:\n",
    "            suppliers.append((user,userIndex))\n",
    "        users.append((user,userIndex))\n",
    "        userIndex += 1\n",
    "    numberOfPeople = np.arange(len(suppliers))\n",
    "    # -----------------------------------------------------------------------------------------------------\n",
    "    # Llegada aleatoria de withdraws\n",
    "    # -----------------------------------------------------------------------------------------------------\n",
    "    poissonDistribution = ss.poisson(estimatedOccurrences)  # Distribución de Possion\n",
    "    probability = []\n",
    "    for i in numberOfPeople:\n",
    "        probability.append(poissonDistribution.pmf(i))\n",
    "    if len(numberOfPeople) == 0:\n",
    "        return previousBlockCopy\n",
    "    numberOfNewWithdraws = random.choices(numberOfPeople,probability)[0]\n",
    "    # -----------------------------------------------------------------------------------------------------\n",
    "    # Se registran los nuevos withdraws\n",
    "    # -----------------------------------------------------------------------------------------------------\n",
    "    numberOfNewWithdraws = min(numberOfNewWithdraws, len(suppliers))\n",
    "    for newWith in range(numberOfNewWithdraws):\n",
    "        user, userIndex = random.sample(users,1)[0]\n",
    "        users.remove((user, userIndex))\n",
    "        liquidity,shortfall = accountLiquidity(markets,blockNumber,collateralFactors,userIndex)\n",
    "        if liquidity > 0:\n",
    "            indexes = marketWith[blockNumber][9]\n",
    "            updatedSupply = user[3]/marketWith[blockNumber][4]\n",
    "            updatedBorrow = user[4]*(indexes[-1]/indexes[user[5]])\n",
    "            liquidityInTokens = liquidity/marketWith[blockNumber][2]\n",
    "            marketLiquidity = marketWith[blockNumber][8] + marketWith[blockNumber][3] # Cash + Reservas del mercado\n",
    "            limit = min(updatedSupply,liquidityInTokens,marketLiquidity)\n",
    "            if limit > minAmount:\n",
    "                withdrawn = random.uniform(minAmount,limit)\n",
    "                user = (\"w\",withdrawn,updatedSupply-withdrawn,(updatedSupply-withdrawn)*marketWith[blockNumber][4],\n",
    "                        updatedBorrow, len(indexes)-1)\n",
    "                previousBlockCopy[userIndex]=user\n",
    "        else:\n",
    "            previousBlockCopy[userIndex]=user\n",
    "    return previousBlockCopy\n",
    "\n",
    "printMarket(M1)\n",
    "newWith = newWithdraws([M1,M2],M1,2,0,[0.2,0.2])\n",
    "printMarket([newWith])"
   ]
  },
  {
   "cell_type": "markdown",
   "metadata": {
    "id": "wUFCChS8YA6j"
   },
   "source": [
    "4.  **Nuevos repays**\n",
    "\n",
    "![texto del enlace](Imagenes/repay.jpg)"
   ]
  },
  {
   "cell_type": "code",
   "execution_count": null,
   "metadata": {
    "colab": {
     "base_uri": "https://localhost:8080/"
    },
    "id": "Q8Z7M1WUyJms",
    "outputId": "db5ca62d-5781-41df-b4c0-8648ecad9557"
   },
   "outputs": [],
   "source": [
    "# Nuevos Repays\n",
    "def newRepays(market, estimatedOccurrences, blockNumber):  # Recibe el bloque anterior\n",
    "    # Copia temporal del mercado con la copia temporal del bloque anterior\n",
    "    # -----------------------------------------------------------------------------------------------------\n",
    "    previousBlockCopy = temporalBlock(market,blockNumber)  # Esta es la que se edita\n",
    "    # -----------------------------------------------------------------------------------------------------\n",
    "    # Se guardan los indices de los usuarios\n",
    "    # -----------------------------------------------------------------------------------------------------\n",
    "    borrowers = []\n",
    "    users = []\n",
    "    userIndex = 10\n",
    "    for user in previousBlockCopy[10:]:\n",
    "        if user[4] > 0:\n",
    "            borrowers.append((user,userIndex))\n",
    "        users.append((user,userIndex))\n",
    "        userIndex += 1\n",
    "    numberOfPeople = np.arange(len(borrowers))\n",
    "    if len(numberOfPeople) == 0:\n",
    "        return previousBlockCopy\n",
    "    # -----------------------------------------------------------------------------------------------------\n",
    "    # Llegada aleatoria de withdraws\n",
    "    # -----------------------------------------------------------------------------------------------------\n",
    "    poissonDistribution = ss.poisson(estimatedOccurrences)  # Distribución de Possion\n",
    "    probability = []\n",
    "    for i in numberOfPeople:\n",
    "        probability.append(poissonDistribution.pmf(i))\n",
    "    numberOfNewRepays = random.choices(numberOfPeople,probability)[0]\n",
    "    numberOfNewRepays = min(numberOfNewRepays,len(borrowers))\n",
    "    # -----------------------------------------------------------------------------------------------------\n",
    "    # Se registran los nuevos withdraws\n",
    "    # -----------------------------------------------------------------------------------------------------\n",
    "    for newRepay in range(numberOfNewRepays):\n",
    "        user, userIndex = random.sample(users,1)[0]\n",
    "        users.remove((user, userIndex))\n",
    "        liquidity,shortfall = accountLiquidity(markets,blockNumber,collateralFactors,userIndex)\n",
    "        if liquidity > 0:\n",
    "            indexes = market[blockNumber][9]\n",
    "            updatedSupply = user[3]/market[blockNumber][4]\n",
    "            updatedBorrow = user[4]*(indexes[-1]/indexes[user[5]])\n",
    "            if updatedBorrow > 0:\n",
    "                repay = random.uniform(minAmount,updatedBorrow) \n",
    "                user = (\"r\",repay, updatedSupply, user[3], updatedBorrow-repay, len(indexes)-1)\n",
    "            previousBlockCopy[userIndex]=user\n",
    "        else:\n",
    "            previousBlockCopy[userIndex]=user\n",
    "    return previousBlockCopy"
   ]
  },
  {
   "cell_type": "code",
   "execution_count": null,
   "metadata": {},
   "outputs": [],
   "source": [
    "# Valores para los lambda\n",
    "suppliersPerBlock = 3 # suppliersPerBlock\n",
    "borrowersPerBlock = 3 # borrowersPerBlock\n",
    "withdrwasPerBlock = 3 # withdrwasPerBlock\n",
    "repaysPerBlock = 3 # repaysPerBlock\n",
    "\n",
    "def newBlockMarket(markets,market,collateralFactors,blockNumber,reserveFactor,priceMarket,interestModel,maxSupply,restriction=False):\n",
    "    # Copia temporal del mercado con la copia temporal del bloque anterior\n",
    "    # -----------------------------------------------------------------------------------------------------\n",
    "    previousBlockCopy = temporalBlock(market,blockNumber-1)  # Esta es la que se edita\n",
    "    # -----------------------------------------------------------------------------------------------------\n",
    "    # Se actualizan y se guardan las variables del mercado en el nuevo bloque en base al bloque anterior\n",
    "    # -----------------------------------------------------------------------------------------------------\n",
    "    newBlockMarket = setMarketVariablesInBlock(market,blockNumber,reserveFactor,priceMarket,interestModel)  \n",
    "    market.append(newBlockMarket)  # Se guarda el nuevo bloque en el mercado\n",
    "    # -----------------------------------------------------------------------------------------------------\n",
    "    # Se generan las posibles nuevas acciones de los usuarios\n",
    "    # -----------------------------------------------------------------------------------------------------\n",
    "    newSup = newSuppliers(market,suppliersPerBlock,blockNumber-1,maxSupply,restriction)  \n",
    "    newBor = newBorrowers(markets,market,borrowersPerBlock,blockNumber-1,collateralFactors)\n",
    "    newWith = newWithdraws(markets,market,withdrwasPerBlock,blockNumber-1,collateralFactors)\n",
    "    newRep = newRepays(market,repaysPerBlock,blockNumber-1)  \n",
    "    # -----------------------------------------------------------------------------------------------------\n",
    "    # Se reportan las nuevas acciones\n",
    "    # -----------------------------------------------------------------------------------------------------\n",
    "    userIndex = 10\n",
    "    for user in previousBlockCopy[10:]:\n",
    "        actions = [newSup[userIndex],newBor[userIndex],newWith[userIndex],newRep[userIndex]]\n",
    "        action = random.sample(actions,1)[0] \n",
    "        market[blockNumber][userIndex] = action\n",
    "        userIndex += 1\n",
    "    # -----------------------------------------------------------------------------------------------------\n",
    "    return market\n",
    "\n",
    "M1 = marketSetUp(5,0.2,0.5,10,50,getBorrowAPR_volatileMarket)\n",
    "M2 = marketSetUp(5,0.15,0.8,5,20,getBorrowAPR_volatileMarket)\n",
    "markets = [M1,M2]\n",
    "\n",
    "MK1 = newBlockMarket(markets,M1,[0.75,0.75],1,0.2,10,getBorrowAPR_volatileMarket,50)\n",
    "MK2 = newBlockMarket(markets,M2,[0.75,0.75],1,0.2,5,getBorrowAPR_volatileMarket,20)\n",
    "\n",
    "print(\"======================================================= M1 ======================================================\")\n",
    "printMarket(M1)\n",
    "print(\"\\n======================================================= M2 =======================================================\")\n",
    "printMarket(M2)"
   ]
  },
  {
   "cell_type": "code",
   "execution_count": null,
   "metadata": {},
   "outputs": [],
   "source": [
    "M1 = marketSetUp(5,0.2,0.5,10,50,getBorrowAPR_volatileMarket)\n",
    "M2 = marketSetUp(5,0.15,0.8,5,20,getBorrowAPR_volatileMarket)\n",
    "markets = [M1,M2]\n",
    "\n",
    "for i in range(10):\n",
    "    M1 = newBlockMarket(markets,M1,[0.75,0.75],i+1,0.2,10,getBorrowAPR_volatileMarket,50)\n",
    "    M2 = newBlockMarket(markets,M2,[0.75,0.75],i+1,0.2,5,getBorrowAPR_volatileMarket,20)\n",
    "    markets = [M1,M2]"
   ]
  },
  {
   "cell_type": "code",
   "execution_count": null,
   "metadata": {
    "scrolled": true
   },
   "outputs": [],
   "source": [
    "printMarket(M1)"
   ]
  },
  {
   "cell_type": "code",
   "execution_count": null,
   "metadata": {},
   "outputs": [],
   "source": [
    "printMarket(M2)"
   ]
  },
  {
   "cell_type": "markdown",
   "metadata": {
    "id": "8n-Kq3-AbXnd"
   },
   "source": [
    "## Generación del nuevo bloque"
   ]
  },
  {
   "cell_type": "code",
   "execution_count": null,
   "metadata": {},
   "outputs": [],
   "source": [
    "liquidationIncentive = 0.08\n",
    "closeFactor = 0.05\n",
    "\n",
    "def totalBorrowUser(markets,blockNumber,userConfigurations,userIndex): # Recibe el nuevo bloque\n",
    "    \"\"\"\n",
    "    Devuelve la deuda total del usuario en USD\n",
    "    ...\n",
    "    Attributes\n",
    "    ----------\n",
    "    markets : list\n",
    "        An list of all configurations of the markets in blocks\n",
    "    blockNumber : int \n",
    "        Number of the las generated block\n",
    "    userConfigurations : list\n",
    "        List with configurations of the user at each market\n",
    "    userIndex : int\n",
    "        Index of the account\n",
    "    \"\"\"\n",
    "    borrow = 0\n",
    "    AtMarkets = userAtBlock(markets,blockNumber,userIndex)\n",
    "    for m in range(len(markets)):\n",
    "        index = markets[m][blockNumber][9][-1]/markets[m][blockNumber][9][userConfigurations[m][5]]\n",
    "        borrow += userConfigurations[m][4]*index*markets[m][blockNumber][2]\n",
    "    return borrow  # En USD\n",
    "\n",
    "userConfigurations = userAtBlock([M1,M2],1,10)\n",
    "totalBorrowUser([M1,M2],1,userConfigurations,10)"
   ]
  },
  {
   "cell_type": "code",
   "execution_count": null,
   "metadata": {},
   "outputs": [],
   "source": [
    "def payLoanPerMarket(pay,market,userConfigurationAtMarket,blockNumber,userIndex):\n",
    "    \"\"\"\n",
    "    Devuelve una lista con lo que le queda de saldo al liquidador y la actualización de la \n",
    "    deuda del borrower en el mercado\n",
    "    ...\n",
    "    Attributes\n",
    "    ----------\n",
    "    pay : float\n",
    "        Amount paid in debt by the liquidator\n",
    "    market : list\n",
    "        Market where the liquidator pays the debt\n",
    "    blockNumber : int\n",
    "        last block generated\n",
    "    userConfigurations : list\n",
    "        List with configurations of the user at each market\n",
    "    userIndex : int\n",
    "        Index of the account\n",
    "    \"\"\"\n",
    "    index = market[blockNumber][9][-1]/market[blockNumber][9][userConfigurationAtMarket[5]]\n",
    "    updatedBorrow = userConfigurationAtMarket[4]*index\n",
    "    amount = pay/market[blockNumber][2]   # Valor del pago en tokens del mercado\n",
    "    balance = updatedBorrow - amount\n",
    "    updatedSupply = userConfigurationAtMarket[3]/market[blockNumber][4]\n",
    "    if balance >= 0:\n",
    "        user = (\"x\",0,updatedSupply,userConfigurationAtMarket[3],balance,len(market[blockNumber][9])-1)\n",
    "        pay = 0  # El liquidador se gasto toda la plata\n",
    "    else:\n",
    "        user = (\"x\",0,updatedSupply,userConfigurationAtMarket[3],0,len(market[blockNumber][9])-1)\n",
    "        pay = abs(balance)*market[blockNumber][2]   # Valor actualizado del pago en USD\n",
    "    userConfigurationAtMarket = user\n",
    "    return [pay, userConfigurationAtMarket]"
   ]
  },
  {
   "cell_type": "code",
   "execution_count": null,
   "metadata": {},
   "outputs": [],
   "source": [
    "def payPerLiquidation(payPerLiq,market,blockNumber,userIndex):\n",
    "    \"\"\"Devuelve una lista con lo que queda por pagar al liquidador y la actualización del \n",
    "    colateral del borrower en el mercado\n",
    "    ...\n",
    "    Attributes\n",
    "    ----------\n",
    "    payPerLiq : float\n",
    "        amount to be paid to the liquidator\n",
    "    market : list\n",
    "        Market in which the liquidator receives the collateral\n",
    "    blockNumber : int\n",
    "        last block generated\n",
    "    userConfigurations : list\n",
    "        List with configurations of the user at each market\n",
    "    userIndex : int\n",
    "        Index of the account\n",
    "    \"\"\"\n",
    "    userConfigurationAtMarket = tuple(market[blockNumber][userIndex])\n",
    "    index = market[blockNumber][9][-1]/market[blockNumber][9][userConfigurationAtMarket[5]]\n",
    "    updatedBorrow = userConfigurationAtMarket[4]*index\n",
    "    amount = payPerLiq/market[blockNumber][2]   # Valor del pago en tokens del mercado\n",
    "    updatedSupply = userConfigurationAtMarket[3]/market[blockNumber][4]\n",
    "    balance = updatedSupply - amount\n",
    "    if balance >= 0:\n",
    "        user = (\"x\",0,balance,balance*market[blockNumber][4],updatedBorrow,len(market[blockNumber][9])-1)\n",
    "        payPerLiq = 0  # Se le pago todo al liquidador\n",
    "    else:\n",
    "        user = (\"x\",0,0,0,updatedBorrow,len(market[blockNumber][9])-1)\n",
    "        payPerLiq = abs(balance)*market[blockNumber][2]   # Valor actualizado del pago en USD\n",
    "    userConfigurationAtMarket = user\n",
    "    return [payPerLiq, userConfigurationAtMarket]\n",
    "\n",
    "payPerLiquidation(10.8,M1,1,10)"
   ]
  },
  {
   "cell_type": "code",
   "execution_count": null,
   "metadata": {},
   "outputs": [],
   "source": [
    "def newLiquidator(markets,blockNumber,userConfigurationAtMarkets,pay,userIndex,liquidationIncentive=liquidationIncentive):\n",
    "    \"\"\"\n",
    "    Devuelve las configuraciones del usuario en cada mercado luego de la liquidación\n",
    "    \"\"\"\n",
    "    # ------------------------------------------------------------------------------------------------------------------\n",
    "    # Valores en USD\n",
    "    # ------------------------------------------------------------------------------------------------------------------\n",
    "    totalPay = pay  # Valor que paga el liquidador en USD\n",
    "    payPerLiq = totalPay*(1 + liquidationIncentive)  # Valor que debe recibir el liquidador en USD\n",
    "    # ------------------------------------------------------------------------------------------------------------------\n",
    "    # Mercados de mas volatil a mas estable\n",
    "    # ------------------------------------------------------------------------------------------------------------------\n",
    "    for m in range(len(userConfigurationAtMarkets)):\n",
    "        updatedPayPerLiq = payPerLiquidation(payPerLiq,markets[m],blockNumber,userIndex)\n",
    "        payPerLiq = updatedPayPerLiq[0]  # Monto que queda por pagar al liquidador en USD\n",
    "        userConfigurationAtMarkets[m] = updatedPayPerLiq[1]  # Configuraciones luego de realizar los pagos al liquidador\n",
    "        if payPerLiq == 0:   # Si ya no se le debe mas al liquidador, rompa el ciclo\n",
    "            break\n",
    "    # ------------------------------------------------------------------------------------------------------------------\n",
    "    # Mercados de mas estable a mas volatil\n",
    "    # ------------------------------------------------------------------------------------------------------------------\n",
    "    userConfigurationAtMarkets = userConfigurationAtMarkets[::-1]\n",
    "    markets = markets[::-1]\n",
    "    for m in range(len(userConfigurationAtMarkets)):\n",
    "        updatedPayLoan = payLoanPerMarket(pay,markets[m],userConfigurationAtMarkets[m],blockNumber,userIndex)\n",
    "        pay = updatedPayLoan[0]  # Monto que le queda al liquidador por pagar\n",
    "        userConfigurationAtMarkets[m] = updatedPayLoan[1]  # Configuraciones luego de realizar los pagos del liquidador\n",
    "        if pay == 0:  # Si el liquidador se gasto toda la plata, rompa el ciclo\n",
    "            break\n",
    "    # ------------------------------------------------------------------------------------------------------------------\n",
    "    # Se reordenan los mercados de mas volatil a mas estable\n",
    "    # ------------------------------------------------------------------------------------------------------------------\n",
    "    userConfigurationAtMarkets = userConfigurationAtMarkets[::-1]\n",
    "    markets = markets[::-1]\n",
    "    return userConfigurationAtMarkets\n",
    "\n",
    "newLiquidator([M1,M2],1,userAtBlock([M1,M2],1,10),10,10)"
   ]
  },
  {
   "cell_type": "code",
   "execution_count": null,
   "metadata": {
    "scrolled": true
   },
   "outputs": [],
   "source": [
    "printMarket([M1[1]])\n",
    "printMarket([M2[1]])"
   ]
  },
  {
   "cell_type": "code",
   "execution_count": null,
   "metadata": {
    "id": "9PUQdX50GIXX"
   },
   "outputs": [],
   "source": [
    "def liquidation(markets,blockNumber,userIndex,collateralFactors,liquidationIncentive=liquidationIncentive,closeFactor=closeFactor,txFee=0,traddingFee=0):\n",
    "    userConfigurationAtMarkets = userAtBlock(markets,blockNumber,userIndex)\n",
    "    liquidity, shortfall = accountLiquidity(markets,blockNumber,collateralFactors,userIndex)\n",
    "    totalPay = 0\n",
    "    if shortfall > 0:\n",
    "        borrow = totalBorrowUser(markets,blockNumber,userConfigurationAtMarkets,userIndex)  # Deuda total de la cuenta\n",
    "        totalBorrow = borrow\n",
    "        pay = totalBorrow*closeFactor  # ¡¡¡Este valor debe cambiarse de manera aleatoria para la siguiente versión!!!\n",
    "        profit = pay*(1+liquidationIncentive) - pay - txFee - traddingFee  # Ganancias del liquidador\n",
    "        while shortfall > 0 and borrow != 0 and profit > 0:\n",
    "            totalPay += pay  # Se va guardando la información de los pagos\n",
    "            configurationsAfterLiquidation = newLiquidator(markets,blockNumber,userConfigurationAtMarkets,pay,userIndex,\n",
    "                                                           liquidationIncentive)\n",
    "            for m in range(len(userConfigurationAtMarkets)): # Se guardan los efectos de la liquidación\n",
    "                userConfigurationAtMarkets[m] = configurationsAfterLiquidation[m]\n",
    "            # Se recalculan los valores a ver si entran mas liquidadores\n",
    "            liquidity, shortfall = accountLiquidity(markets,blockNumber,collateralFactors,userIndex)\n",
    "            borrow = totalBorrowUser(markets,blockNumber,userConfigurationAtMarkets,userIndex)\n",
    "            profit = pay*(1+liquidationIncentive) - pay - txFee - traddingFee\n",
    "        for m in range(len(userConfigurationAtMarkets)):\n",
    "            userConfigurationAtMarket = (\"l\",totalPay,userConfigurationAtMarkets[m][2],userConfigurationAtMarkets[m][3],\n",
    "                                         userConfigurationAtMarkets[m][4],userConfigurationAtMarkets[m][5])\n",
    "            userConfigurationAtMarkets[m] = userConfigurationAtMarket  \n",
    "            # Se guarda la información de la liquidación en las configuraciones del mercado\n",
    "        return userConfigurationAtMarkets\n",
    "    else:\n",
    "        return userConfigurationAtMarkets\n",
    "\n",
    "# userliq = (\"x\",0,10,500,4,6)\n",
    "# marketLiq = [[0.25,0.02,10,5,50,1,25,10,userliq,(\"x\",0,10,500,2,4)]]\n",
    "# market2 =[[0.2,0.1,5,15,45,0,0,50,(\"x\",0,5,225,10,13),(\"x\",0,10,450,2,4)]]\n",
    "# markets = [marketLiq,market2]\n",
    "# positionsUser = borrowPositions(markets,0,8)\n",
    "# print(positionsUser)\n",
    "# print(newLiquidator(markets,0,22.06492262371665,8))\n",
    "# print(liquidation(markets,0,9,[0.75,0.75]))\n",
    "# liquidation(markets,0,10,[0.75,0.75])\n",
    "# positions = borrowPositions(markets,1,8)\n",
    "# print(positions)\n",
    "# liquidationIndicator(markets,0,positionsUser,[0.75,0.75],8)\n",
    "# newLiquidator(markets,0,positionsUser,50,8)\n",
    "\n",
    "# #printMarket([liquidation([M1,M2],1,10,[0.75,0.75])[0]])\n",
    "liquidation([M1,M2],1,10,[0.75,0.75])"
   ]
  },
  {
   "cell_type": "code",
   "execution_count": null,
   "metadata": {
    "scrolled": true
   },
   "outputs": [],
   "source": [
    "printMarket([M1[1]])\n",
    "printMarket([M2[1]])"
   ]
  },
  {
   "cell_type": "code",
   "execution_count": null,
   "metadata": {},
   "outputs": [],
   "source": [
    "M1 = marketSetUp(5,0.2,0.5,10,50,getBorrowAPR_volatileMarket)\n",
    "M2 = marketSetUp(5,0.15,0.8,5,20,getBorrowAPR_volatileMarket)\n",
    "markets = [M1,M2]\n",
    "\n",
    "printMarket(M1)\n",
    "printMarket(M2)"
   ]
  },
  {
   "cell_type": "code",
   "execution_count": null,
   "metadata": {},
   "outputs": [],
   "source": [
    "def newBlockWithLiquidations(markets,blockNumber,collateralFactors,reserveFactors,priceMarkets,interestModels,maxSupplies):\n",
    "    for m in range(len(markets)):\n",
    "        markets[m] = newBlockMarket(markets,markets[m],collateralFactors,blockNumber,reserveFactors[m],priceMarkets[m],\n",
    "                                    interestModels[m],maxSupplies[m])\n",
    "    userIndex = 10\n",
    "    configurationsOfAllUsers = []\n",
    "    for user in range(len(markets[0][blockNumber][10:])):\n",
    "        configurations = liquidation(markets,blockNumber,userIndex,collateralFactors)\n",
    "        configurationsOfAllUsers.append((userIndex,configurations))\n",
    "        userIndex += 1\n",
    "    for configuration in configurationsOfAllUsers:\n",
    "        userIndex, userConfigurations = configuration\n",
    "        for m in range(len(userConfigurations)):\n",
    "            markets[m][blockNumber][userIndex] = userConfigurations[m]\n",
    "    return markets\n",
    "\n",
    "M1 = marketSetUp(5,0.2,0.5,10,50,getBorrowAPR_volatileMarket)\n",
    "M2 = marketSetUp(5,0.15,0.8,1.01,20,getBorrowAPR_stableMartet)\n",
    "markets = [M1,M2]\n",
    "\n",
    "collateralFactors = [0.75,0.75]\n",
    "priceMarkets = [10,1.01]\n",
    "interestModels = [getBorrowAPR_volatileMarket,getBorrowAPR_stableMartet]\n",
    "maxSupplies = [50,20]\n",
    "\n",
    "newMarkets = newBlockWithLiquidations(markets,1,collateralFactors,reserveFactors,priceMarkets,interestModels,maxSupplies)\n",
    "newMarkets = newBlockWithLiquidations(newMarkets,2,collateralFactors,reserveFactors,priceMarkets,interestModels,maxSupplies)\n",
    "newMarkets = newBlockWithLiquidations(newMarkets,3,collateralFactors,reserveFactors,priceMarkets,interestModels,maxSupplies)\n",
    "newMarkets = newBlockWithLiquidations(newMarkets,4,collateralFactors,reserveFactors,priceMarkets,interestModels,maxSupplies)\n",
    "# newBlock\n",
    "printMarket(newMarkets[0])\n",
    "printMarket(newMarkets[1])"
   ]
  },
  {
   "cell_type": "code",
   "execution_count": null,
   "metadata": {},
   "outputs": [],
   "source": [
    "M1 = marketSetUp(5,0.2,0.5,10,50,getBorrowAPR_volatileMarket)\n",
    "M2 = marketSetUp(5,0.15,0.8,1.01,20,getBorrowAPR_stableMartet)\n",
    "markets = [M1,M2]\n",
    "\n",
    "printMarket(M1)\n",
    "printMarket(M2)"
   ]
  },
  {
   "cell_type": "code",
   "execution_count": null,
   "metadata": {},
   "outputs": [],
   "source": [
    "collateralFactors = [0.75,0.75]\n",
    "priceMarkets = [10,1.01]\n",
    "interestModels = [getBorrowAPR_volatileMarket,getBorrowAPR_stableMartet]\n",
    "maxSupplies = [50,20]\n",
    "newBlock = markets\n",
    "\n",
    "for i in range(1,101):\n",
    "    newBlock = newBlockWithLiquidations(newBlock,i,collateralFactors,reserveFactors,priceMarkets,interestModels,maxSupplies)\n",
    "# newBlock"
   ]
  },
  {
   "cell_type": "code",
   "execution_count": null,
   "metadata": {},
   "outputs": [],
   "source": [
    "printMarket(newBlock[0][15:17])"
   ]
  },
  {
   "cell_type": "code",
   "execution_count": null,
   "metadata": {},
   "outputs": [],
   "source": [
    "printMarket(newBlock[1])"
   ]
  },
  {
   "cell_type": "code",
   "execution_count": null,
   "metadata": {},
   "outputs": [],
   "source": [
    "def preutilization_volatileMarket(borrowRate,baseBorrowRate=0.02,slope=0.1):\n",
    "    return (borrowRate - baseBorrowRate)/slope\n",
    "\n",
    "def preutilization_stableMarket(borrowRate,baseBorrowRate=0.02,slope1=0.05,slope2=1,optimalUtilization=0.8):\n",
    "    if borrowRate <= getBorrowAPR_stableMartet(optimalUtilization):\n",
    "        return (borrowRate - baseBorrowRate)/slope1\n",
    "    else:\n",
    "        return (borrowRate - (baseBorrowRate+(slope1-slope2)*optimalUtilization))/slope2"
   ]
  },
  {
   "cell_type": "code",
   "execution_count": null,
   "metadata": {},
   "outputs": [],
   "source": [
    "Er1 = []; Er2 = []  # ExchangeRate\n",
    "Br1 = []; Br2 = []  # BorrowRate  \n",
    "Ut1 = []; Ut2 = []  # UtilizationRate \n",
    "Sr1 = []; Sr2 = []  # SupplyRate\n",
    "TB1 = []; TB2 = []  # TotalBorrow\n",
    "Cs1 = []; Cs2 = []  # Cash\n",
    "TR1 = []; TR2 = []  # TotalReserves\n",
    "TS1 = []; TS2 = []  # TotalSupply\n",
    "\n",
    "for block in newBlock[0]:\n",
    "    Er1.append(block[4]); Er2.append(block[1][4])\n",
    "    Br1.append(block[0]); Br2.append(block[1][0])\n",
    "    Sr1.append(block[1]); Sr2.append(block[1][1])\n",
    "    Ut1.append(preutilization_volatileMarket(block[0][0])); Ut2.append(preutilization_stableMarket(block[1][0]))\n",
    "    TB1.append(block[0][6]); TB2.append(block[1][6])\n",
    "    Cs1.append(block[0][8]); Cs2.append(block[1][8])\n",
    "    TR1.append(block[0][3]); TR2.append(block[1][3])\n",
    "    TS1.append(block[0][7]); TS2.append(block[1][7])"
   ]
  },
  {
   "cell_type": "code",
   "execution_count": null,
   "metadata": {},
   "outputs": [],
   "source": [
    "plt.plot(Sr1)"
   ]
  },
  {
   "cell_type": "code",
   "execution_count": null,
   "metadata": {},
   "outputs": [],
   "source": [
    "figsize(16,10)\n",
    "\n",
    "fig, axs = plt.subplots(3, 3)\n",
    "# UtilizationRate\n",
    "axs[0, 0].plot(Ut1); axs[0, 0].plot(Ut2)\n",
    "axs[0, 0].set(xlabel=\"Blocks\", ylabel=\"Rate\"); axs[0, 0].set_title('UtilizationRate')\n",
    "# BorrowRate\n",
    "axs[0, 1].plot(Br1); axs[0, 1].plot(Br2) \n",
    "axs[0, 1].set(xlabel=\"Blocks\", ylabel=\"Rate\"); axs[0, 1].set_title('BorrowRate')\n",
    "# SupplyRate\n",
    "axs[0, 2].plot(Sr1); axs[0, 2].plot(Sr2) \n",
    "axs[0, 2].set(xlabel=\"Blocks\", ylabel=\"Rate\"); axs[0, 2].set_title('SupplyRate')\n",
    "# borrowRate vs utilizationRate\n",
    "axs[1, 0].scatter(Ut1,Br1); axs[1, 0].scatter(Ut2,Br2)\n",
    "axs[1, 0].set(xlabel=\"UtilizationRate\", ylabel=\"borrowRate\"); axs[1, 0].set_title('borrowRate vs utilizationRate')\n",
    "# SupplyRate vs utilizationRate\n",
    "axs[1, 1].scatter(Ut1,Sr1); axs[1, 1].scatter(Ut2,Sr2)\n",
    "axs[1, 1].set(xlabel=\"UtilizationRate\", ylabel=\"SupplyRate\"); axs[1, 1].set_title('SupplyRate vs utilizationRate')\n",
    "# TotalBorrow\n",
    "axs[1, 2].plot(TB1); axs[1, 2].plot(TB2)\n",
    "axs[1, 2].set(xlabel=\"Blocks\", ylabel=\"TotalBorrow\"); axs[1, 2].set_title('TotalBorrow')\n",
    "# TotalReserves\n",
    "axs[2, 0].plot(TR1); axs[2, 0].plot(TR2)\n",
    "axs[2, 0].set(xlabel=\"Blocks\", ylabel=\"TotalReserves\"); axs[2, 0].set_title('TotalReserves')\n",
    "fig.tight_layout()"
   ]
  },
  {
   "cell_type": "code",
   "execution_count": null,
   "metadata": {},
   "outputs": [],
   "source": [
    "# TotalReserves\n",
    "plt.\n",
    "plt.\n",
    "plt.title(\"TotalReserves\")\n",
    "plt.xlabel(\"Blocks\")\n",
    "plt.ylabel(\"\")\n",
    "plt.show()"
   ]
  },
  {
   "cell_type": "code",
   "execution_count": null,
   "metadata": {},
   "outputs": [],
   "source": [
    "# TotalSupply\n",
    "plt.plot(TS1)\n",
    "plt.plot(TS2)\n",
    "plt.title(\"TotalSupply\")\n",
    "plt.xlabel(\"Blocks\")\n",
    "plt.ylabel(\"TotalSupply\")\n",
    "plt.show()"
   ]
  },
  {
   "cell_type": "code",
   "execution_count": null,
   "metadata": {},
   "outputs": [],
   "source": [
    "# Cash\n",
    "plt.plot(Cs1)\n",
    "plt.plot(Cs2)\n",
    "plt.title(\"Cash\")\n",
    "plt.xlabel(\"Blocks\")\n",
    "plt.ylabel(\"Cash\")\n",
    "plt.show()"
   ]
  },
  {
   "cell_type": "code",
   "execution_count": null,
   "metadata": {},
   "outputs": [],
   "source": [
    "# ExchangeRate\n",
    "plt.plot(ER1)\n",
    "plt.plot(ER2)\n",
    "bottom = 50-1000000*minAmount; top = 50+1000000*minAmount\n",
    "plt.ylim((bottom,top))\n",
    "plt.title(\"ExchangeRate\")\n",
    "plt.xlabel(\"Blocks\")\n",
    "plt.ylabel(\"ExchangeRate\")\n",
    "plt.show()"
   ]
  },
  {
   "cell_type": "code",
   "execution_count": null,
   "metadata": {},
   "outputs": [],
   "source": [
    "def updateLiquidations(markets,blockNumber,collateralFactors,liquidationIncentive=liquidationIncentive,closeFactor=closeFactor):\n",
    "    # Recibe el nuevo bloque\n",
    "    "
   ]
  },
  {
   "cell_type": "code",
   "execution_count": null,
   "metadata": {
    "id": "1IWbjS3D-vHX"
   },
   "outputs": [],
   "source": [
    "TRU_supply = [6000,1000,5000,6000,1000,8000,1000,1500,2000,2000]\n",
    "TRU_borrow = [2000,1500,8000,1000,500,5000,300,500,1000,2000]\n",
    "TRU_withdraw = [1000,500,2000,450,1500,200,250,1000,2000,200]\n",
    "TRU_repays = [150,900,500,800,200,500,250,1000,1000,1000]\n",
    "suppliersPerDay = sum(TRU_supply)/len(TRU_supply)\n",
    "suppliersPerBlock = suppliersPerDay/(4*60*24)\n",
    "borrowersPerDay = sum(TRU_borrow)/len(TRU_borrow)\n",
    "borrowersPerBlock = borrowersPerDay/(4*60*24)\n",
    "withdrwasPerDay = sum(TRU_withdraw)/len(TRU_withdraw)\n",
    "withdrwasPerBlock = withdrwasPerDay/(4*60*24)\n",
    "repaysPerDay = sum(TRU_repays)/len(TRU_repays)\n",
    "repaysPerBlock = repaysPerDay/(4*60*24)\n",
    "#people = int(suppliersPerBlock+borrowersPerBlock+withdrwasPerBlock+repaysPerBlock)\n",
    "\n",
    "print(suppliersPerBlock, borrowersPerBlock,withdrwasPerBlock,repaysPerBlock)\n",
    "#print(suppliersPerBlock/people,borrowersPerBlock/people,withdrwasPerBlock/people,repaysPerBlock/people)"
   ]
  },
  {
   "cell_type": "code",
   "execution_count": null,
   "metadata": {
    "id": "4dflCCndzkrb"
   },
   "outputs": [],
   "source": [
    "def preferences(market,blockNumber):\n",
    "    initialPriceMarket = market[0][2]"
   ]
  },
  {
   "cell_type": "code",
   "execution_count": null,
   "metadata": {},
   "outputs": [],
   "source": [
    "MK1 = marketSetUp(5,0.2,0.5,10,50,getBorrowAPR_volatileMarket)\n",
    "MK2 = marketSetUp(5,0.15,0.8,5,20,getBorrowAPR_volatileMarket)\n",
    "markets = [MK1,MK2]\n",
    "\n",
    "for i in range(10):\n",
    "    newBlockMarket(markets,MK1,collateralFactors,i+1,0.2,11,getBorrowAPR_volatileMarket,50)\n",
    "    newBlockMarket(markets,MK2,collateralFactors,i+1,0.15,11,getBorrowAPR_volatileMarket,20)\n",
    "    markets = [MK1,MK2]"
   ]
  },
  {
   "cell_type": "code",
   "execution_count": null,
   "metadata": {},
   "outputs": [],
   "source": [
    "printMarket(MK1)"
   ]
  },
  {
   "cell_type": "code",
   "execution_count": null,
   "metadata": {},
   "outputs": [],
   "source": [
    "printMarket(MK2)"
   ]
  },
  {
   "cell_type": "code",
   "execution_count": null,
   "metadata": {
    "id": "KjmNXEkLPwU7"
   },
   "outputs": [],
   "source": [
    "def newStateMarkets(markets,collateralFactors,blockNumber,reserveFactors,priceMarkets,interestModels,minSupplyPerMarkets,maxSupplyPerMarkets,restriction=True,liquidationIncentive=liquidationIncentive,closeFactor=closeFactor):\n",
    "    for m in range(len(markets)):\n",
    "        markets[m] = newBlockMarket(markets,markets[m],collateralFactors,blockNumber,reserveFactors[m],priceMarkets[blockNumber][m],interestModels[m],minSupplyPerMarkets[m],maxSupplyPerMarkets[m],restriction)\n",
    "    for userIndex in range(len(markets[0][blockNumber][8:])):\n",
    "        liquidations = liquidation(markets,blockNumber,userIndex+8,collateralFactors,liquidationIncentive,closeFactor)\n",
    "        for p in range(len(markets)):\n",
    "            markets[p][blockNumber][userIndex+8] = liquidations[p]\n",
    "    return markets\n",
    "\n",
    "userliq = (\"x\",0,10,500,4,6)\n",
    "marketLiq = [[0.25,0.02,10,5,50,1,25,10,userliq,(\"x\",0,10,500,2,4)]]\n",
    "market2 =[[0.2,0.1,5,15,45,0,0,50,(\"x\",0,5,225,10,13),(\"x\",0,10,450,2,4)]]\n",
    "markets = [marketLiq,market2]\n",
    "newState = newStateMarkets(markets,[0.75,0.75],1,[0.2,0.15],[[0,0],[10,5],[10,5]],[getBorrowAPR_volatileMarket,getBorrowAPR_volatileMarket],[0,0],[0,0])\n",
    "markets = newState\n",
    "newState = newStateMarkets(markets,[0.75,0.75],2,[0.2,0.15],[[0,0],[10,5],[10,5]],[getBorrowAPR_volatileMarket,getBorrowAPR_volatileMarket],[0,0],[0,0])\n",
    "printMarket(newState[0])\n",
    "print(\"---------------------------------------\")\n",
    "printMarket(newState[1])"
   ]
  },
  {
   "cell_type": "code",
   "execution_count": null,
   "metadata": {
    "id": "NfGd8O_bU9-_"
   },
   "outputs": [],
   "source": [
    "from IPython.core.pylabtools import figsize\n",
    "figsize(16,6)"
   ]
  },
  {
   "cell_type": "code",
   "execution_count": null,
   "metadata": {
    "id": "knUMqsP7BNLJ"
   },
   "outputs": [],
   "source": []
  },
  {
   "cell_type": "code",
   "execution_count": null,
   "metadata": {
    "id": "4r6S_WCANfk_"
   },
   "outputs": [],
   "source": [
    "n_users = 5\n",
    "MK1 = marketSetUp(n_users,0.2,0.7,5,0,50,getBorrowAPR_MK1)\n",
    "MK2 = marketSetUp(n_users,0.15,0.5,10,0,20,getBorrowAPR_MK2)\n",
    "markets = [MK1,MK2]\n",
    "\n",
    "n_iterations =  4*60*24\n",
    "for i in range(n_iterations):\n",
    "  MK1 = newBlockMarket(markets,MK1,collateralFactors,i+1,0.2,5,getBorrowAPR_MK1,0,50)\n",
    "  MK2 = newBlockMarket(markets,MK2,collateralFactors,i+1,0.2,12,getBorrowAPR_MK2,0,20)\n",
    "  if MK1[i+1][4]<0 or MK2[i+1][4]<0:\n",
    "    print(\"Desde aquí se jodio la cosa\", i)\n",
    "    break\n",
    "  markets = [MK1,MK2]\n",
    "\n",
    "# plot supply rate\n",
    "ur1 = []\n",
    "ur2 = []\n",
    "for i in range(len(MK1)):\n",
    "  ur_MK1 = preutilization(MK1[i][0])\n",
    "  ur_MK2 = preutilization(MK2[i][0])\n",
    "  ur1.append(ur_MK1)\n",
    "  ur2.append(ur_MK2)\n",
    "\n",
    "# Borrow APR \n",
    "b1 = []\n",
    "b2 = []\n",
    "for i in range(len(MK1)):\n",
    "  b_MK1 = MK1[i][0]\n",
    "  b_MK2 = MK2[i][0]\n",
    "  b1.append(b_MK1)\n",
    "  b2.append(b_MK2)\n",
    "\n",
    "#ur1 = sorted(ur1)\n",
    "#ur2 = sorted(ur2)\n",
    "#b1 = sorted(b1)\n",
    "#b2 = sorted(b2)\n",
    "\n",
    "plt.title(\"BorrowRate vs UtilizationRate\")\n",
    "plt.ylabel(\"BorrowRate\")\n",
    "plt.xlabel(\"UtilizationRate\")\n",
    "#plt.xlim((0,1))\n",
    "#plt.ylim((0,0.2))\n",
    "plt.scatter(ur1,b1)\n",
    "plt.scatter(ur2,b2)"
   ]
  },
  {
   "cell_type": "code",
   "execution_count": null,
   "metadata": {
    "id": "XhXH6xn5BsoE"
   },
   "outputs": [],
   "source": [
    "printMarket(MK1)"
   ]
  },
  {
   "cell_type": "code",
   "execution_count": null,
   "metadata": {
    "id": "ZnsyurrcDHzr"
   },
   "outputs": [],
   "source": [
    "printMarket(MK2)"
   ]
  },
  {
   "cell_type": "code",
   "execution_count": null,
   "metadata": {
    "id": "Jmlajkj2R84M"
   },
   "outputs": [],
   "source": [
    "n_iterations =  4*60*24\n",
    "prices = []\n",
    "for i in range(n_iterations):\n",
    "  prices.append([10,5])\n",
    "\n",
    "prices[:5]"
   ]
  },
  {
   "cell_type": "code",
   "execution_count": null,
   "metadata": {
    "id": "z_VGEl-0Rh_y"
   },
   "outputs": [],
   "source": [
    "n_users = 10\n",
    "MK1 = marketSetUp(n_users,0.2,0.7,5,0,50,getBorrowAPR_MK1)\n",
    "MK2 = marketSetUp(n_users,0.15,0.5,10,0,20,getBorrowAPR_MK2)\n",
    "markets = [MK1,MK2]\n",
    "collateralFactors = [0.75,0.75]\n",
    "reserveFactors = [0.2,0.15]\n",
    "interestModels = [getBorrowAPR_MK1,getBorrowAPR_MK2]\n",
    "\n",
    "n_iterations =  4*60*24\n",
    "for i in range(n_iterations):\n",
    "  markets = newStateMarkets(markets,collateralFactors,i+1,reserveFactors,prices,interestModels,[0,0],[50,50])\n",
    "  if markets[0][i+1][4]<0 or markets[1][i+1][4]<0:\n",
    "    print(\"Desde aquí se jodio la cosa\", i)\n",
    "    break\n",
    "\n",
    "# plot supply rate\n",
    "ur1 = []\n",
    "ur2 = []\n",
    "for i in range(len(markets[0])):\n",
    "  ur_MK1 = getUtilizationRate(markets[0],i)\n",
    "  ur_MK2 = getUtilizationRate(markets[1],i)\n",
    "  ur1.append(ur_MK1)\n",
    "  ur2.append(ur_MK2)\n",
    "\n",
    "# Borrow APR \n",
    "b1 = []\n",
    "b2 = []\n",
    "for i in range(len(markets[0])):\n",
    "  b_MK1 = markets[0][i][0]\n",
    "  b_MK2 = markets[1][i][0]\n",
    "  b1.append(b_MK1)\n",
    "  b2.append(b_MK2)\n",
    "\n",
    "ur1 = sorted(ur1)\n",
    "ur2 = sorted(ur2)\n",
    "b1 = sorted(b1)\n",
    "b2 = sorted(b2)\n",
    "\n",
    "plt.title(\"BorrowRate vs UtilizationRate\")\n",
    "plt.ylabel(\"BorrowRate\")\n",
    "plt.xlabel(\"UtilizationRate\")\n",
    "#plt.xlim((0,1))\n",
    "#plt.ylim((0,0.2))\n",
    "plt.scatter(ur1,b1)\n",
    "plt.scatter(ur2,b2)"
   ]
  },
  {
   "cell_type": "code",
   "execution_count": null,
   "metadata": {
    "id": "zxqgcOqWaery"
   },
   "outputs": [],
   "source": [
    "printMarket(markets[0])\n",
    "print(\"###############################################################################3\")\n",
    "printMarket(markets[1])"
   ]
  },
  {
   "cell_type": "code",
   "execution_count": null,
   "metadata": {
    "id": "P-qMZhfKO9uN"
   },
   "outputs": [],
   "source": [
    "# plot supply rate\n",
    "t1 = []\n",
    "t2 = []\n",
    "for i in range(len(MK1)):\n",
    "  t_MK1 = markets[0][i][5]\n",
    "  t_MK2 = markets[0][i][5]\n",
    "  t1.append(t_MK1)\n",
    "  t2.append(t_MK2)\n",
    "\n",
    "plt.title(\"Bloques sin acciones\")\n",
    "plt.ylabel(\"Cantidad de bloques\")\n",
    "plt.xlabel(\"bloques\")\n",
    "#plt.ylim(top=1.5)\n",
    "plt.scatter(range(len(markets[0])),t1)\n",
    "plt.scatter(range(len(markets[0])),t2)"
   ]
  },
  {
   "cell_type": "code",
   "execution_count": null,
   "metadata": {
    "id": "ZhhFjeuygUZD"
   },
   "outputs": [],
   "source": [
    "# Borrow APR \n",
    "s1 = []\n",
    "s2 = []\n",
    "for i in range(len(markets[0])):\n",
    "  s_MK1 = markets[0][i][1]\n",
    "  s_MK2 = markets[0][i][1]\n",
    "  s1.append(s_MK1)\n",
    "  s2.append(s_MK2)\n",
    "\n",
    "s1 = sorted(s1)\n",
    "s2 = sorted(s2)\n",
    "\n",
    "plt.title(\"SupplyRate vs UtilizationRate\")\n",
    "plt.ylabel(\"SupplyRate\")\n",
    "plt.xlabel(\"UtilizationRate\")\n",
    "plt.xlim((0,1))\n",
    "plt.ylim((0,0.1))\n",
    "plt.scatter(ur1,s1)\n",
    "plt.scatter(ur2,s2)"
   ]
  },
  {
   "cell_type": "code",
   "execution_count": null,
   "metadata": {
    "id": "3pq5L5eCgwpT"
   },
   "outputs": [],
   "source": [
    "reserve1 = []\n",
    "reserve2 = []\n",
    "k=0\n",
    "for i in range(len(markets[0])):\n",
    "  totalReserve1 = markets[0][i][3]\n",
    "  totalReserve2 = markets[0][i][3]\n",
    "  reserve1.append(totalReserve1)\n",
    "  reserve2.append(totalReserve2)\n",
    "  k += 1\n",
    "\n",
    "plt.title(\"Reservas por bloque\")\n",
    "plt.ylabel(\"Precio de las reservas\")\n",
    "plt.xlabel(\"bloques\")\n",
    "plt.scatter(range(len(markets[0][:100])),reserve1[:100])\n",
    "plt.scatter(range(len(markets[0][:100])),reserve2[:100])"
   ]
  },
  {
   "cell_type": "code",
   "execution_count": null,
   "metadata": {
    "id": "cGQhmTwwhOrr"
   },
   "outputs": [],
   "source": [
    "exc1 = []\n",
    "exc2 = []\n",
    "k=0\n",
    "for i in range(len(markets[0])):\n",
    "  exc1_1 = 1/markets[0][i][4]\n",
    "  exc2_1 = 1/markets[0][i][4]\n",
    "  exc1.append(exc1_1)\n",
    "  exc2.append(exc2_1)\n",
    "  k += 1\n",
    "\n",
    "plt.title(\"Exchange por bloque\")\n",
    "plt.ylabel(\"Valor de los cTokens\")\n",
    "plt.xlabel(\"bloques\")\n",
    "plt.plot(range(len(markets[0][:100])),exc1[:100])\n",
    "plt.plot(range(len(markets[0][:100])),exc2[:100])"
   ]
  },
  {
   "cell_type": "code",
   "execution_count": null,
   "metadata": {
    "id": "u297v4w9xPYN"
   },
   "outputs": [],
   "source": [
    "%matplotlib inline\n",
    "from IPython.core.pylabtools import figsize\n",
    "import pandas as pd\n",
    "\n",
    "figsize(16,6)\n",
    "\n",
    "x = np.linspace(0, 5)\n",
    "N = ss.norm\n",
    "USDCoin = N.pdf(x,1,0.1)  # mean = 15; sigma = 4\n",
    "USDCoin_prices = []\n",
    "\n",
    "n_iterations = 1000   #4*24*60\n",
    "for iteration in range(n_iterations):\n",
    "  price1 = random.choices(x,USDCoin)[0]\n",
    "  USDCoin_prices.append(price1)\n",
    "\n",
    "USDCoin = N.pdf(x,1,0.025)\n",
    "n_iterations = 600   #4*24*60\n",
    "for iteration in range(n_iterations):\n",
    "  price1 = random.choices(x,USDCoin)[0]\n",
    "  USDCoin_prices.append(price1)\n",
    "\n",
    "#price_MK1 = []\n",
    "#for i in range(n_iterations):\n",
    "#  if i % 60 == 0:\n",
    "#    price_MK1.append(MK1_prices[i])\n",
    "#    price_MK2.append(MK2_prices[i])\n",
    "\n",
    "plt.plot(range(1600),USDCoin_prices)\n",
    "#plt.plot(range(int(n_iterations/60)),price_MK2)\n",
    "#plt.ylim(top=60)"
   ]
  },
  {
   "cell_type": "code",
   "execution_count": null,
   "metadata": {
    "id": "Z5NrKUfSyKEC"
   },
   "outputs": [],
   "source": [
    "Ether = pd.read_excel(\"Historico de precios/Ethereum.xlsx\")\n",
    "EtherPrices = Ether[\"PRECIO\"][426:]\n",
    "EtherPrices.plot()"
   ]
  },
  {
   "cell_type": "code",
   "execution_count": null,
   "metadata": {
    "id": "lJEbrjzBfEQD"
   },
   "outputs": [],
   "source": [
    "Bitcoin = pd.read_excel(\"Historico de precios/Bitcoin.xlsx\")\n",
    "BitcoinPrices = Bitcoin[\"PRECIO\"][750:]\n",
    "BitcoinPrices.plot()"
   ]
  },
  {
   "cell_type": "code",
   "execution_count": null,
   "metadata": {
    "id": "YP6N2-67qfqk"
   },
   "outputs": [],
   "source": [
    "len(BitcoinPrices)"
   ]
  },
  {
   "cell_type": "code",
   "execution_count": null,
   "metadata": {
    "id": "zh0zhmrYiLIZ"
   },
   "outputs": [],
   "source": [
    "# Collateral Factors - Uno por cada mercado\n",
    "\n",
    "collFactor_ETH = 0.75  # Collateral factor para el mercado MK1\n",
    "collFactor_BTC = 0.75  # Collateral factor para el mercado MK2   !!!!!Estimar!!!!\n",
    "collFactor_USD = 0.75  # Collateral factor para el mercado MK3\n",
    "\n",
    "# Lista con los Collateral Factors\n",
    "collateralFactors = [collFactor_MK1,\n",
    "                     collFactor_MK2]\n",
    "\n",
    "# Reserve Factors - Uno por cada mercado\n",
    "\n",
    "reserveFactor_ETH = 0.20   # Reserve Factor para el mercado MK1\n",
    "reserveFactor_BTC = 0.15   # Reserve Factor para el mercado MK2    !!!Estimar!!!\n",
    "reserveFactor_USD = 0.07   # Reserve Factor para el mercado MK3\n",
    " \n",
    "# Lista con los Reserve Factors                    \n",
    "reserveFactors = [reserveFactor_MK1, \n",
    "                  reserveFactor_MK2]\n",
    "\n",
    "# Exchange rate iniciales\n",
    "\n",
    "er_price_ETH = 50\n",
    "er_price_BTC = 50\n",
    "er_price_USD = 50\n",
    "\n",
    "n_users = 10\n",
    "initial_supply_ETH_Rate = 0.1\n",
    "initial_supply_BTC_Rate = 0.25\n",
    "initial_supply_USD_Rate = 0.05\n",
    "\n",
    "ETH = marketSetUp(n_users,reserveFactor_ETH,initial_supply_ETH_Rate,er_price_ETH,Ether[\"PRECIO\"][0])\n",
    "BTC = marketSetUp(n_users,reserveFactor_BTC,initial_supply_BTC_Rate,er_price_BTC,Bitcoin[\"PRECIO\"][0])\n",
    "USD = marketSetUp(n_users,reserveFactor_USD,initial_supply_USD_Rate,er_price_USD,USDCoin_prices[0])\n",
    "printMarket(ETH)\n",
    "printMarket(BTC)\n",
    "printMarket(USD)"
   ]
  },
  {
   "cell_type": "code",
   "execution_count": null,
   "metadata": {
    "id": "7zLnDHLBfOwN"
   },
   "outputs": [],
   "source": [
    "BinanceCoin = pd.read_excel(\"USDCoin.xlsx\")\n",
    "BinanceCoinPrices = BinanceCoin[\"PRECIO\"]\n",
    "BinanceCoinPrices.plot()"
   ]
  },
  {
   "cell_type": "code",
   "execution_count": null,
   "metadata": {
    "id": "UHuyOH1SxPQU"
   },
   "outputs": [],
   "source": [
    "n_users = 5\n",
    "\n",
    "MK1 = marketSetUp(n_users,0.2,0.2,50,initialTokenPrices[0])\n",
    "MK2 = marketSetUp(n_users,0.15,0.3,50,initialTokenPrices[1])\n",
    "markets = [MK1,MK2]\n",
    "n_iterations = 4*60*24\n",
    "for i in range(n_iterations):\n",
    "  MK1 = newBlockMarket(markets,MK1,collateralFactors,i+1,0.2,MK1_prices)\n",
    "  MK2 = newBlockMarket(markets,MK2,collateralFactors,i+1,0.15,MK2_prices)\n",
    "  markets = [MK1,MK2]"
   ]
  },
  {
   "cell_type": "code",
   "execution_count": null,
   "metadata": {
    "id": "XCfQTA3Ck08z"
   },
   "outputs": [],
   "source": [
    "# plot supply rate\n",
    "ur1 = []\n",
    "ur2 = []\n",
    "for i in range(n_iterations):\n",
    "  ur_MK1 = getUtilizationRate(MK1,i)\n",
    "  ur_MK2 = getUtilizationRate(MK2,i)\n",
    "  ur1.append(ur_MK1)\n",
    "  ur2.append(ur_MK2)\n",
    "\n",
    "plt.ylabel(\"utilization rate\")\n",
    "plt.xlabel(\"bloques\")\n",
    "plt.ylim(top=1.5)\n",
    "plt.plot(range(n_iterations),ur1)\n",
    "plt.plot(range(n_iterations),ur2)"
   ]
  },
  {
   "cell_type": "code",
   "execution_count": null,
   "metadata": {
    "id": "7GPqnpEiWHqP"
   },
   "outputs": [],
   "source": [
    "# plot supply rate\n",
    "b1 = []\n",
    "b2 = []\n",
    "for i in range(n_iterations):\n",
    "  b_MK1 = MK1[i][0]\n",
    "  b_MK2 = MK2[i][0]\n",
    "  b1.append(b_MK1)\n",
    "  b2.append(b_MK2)\n",
    "\n",
    "plt.ylabel(\"Borrow rate\")\n",
    "plt.xlabel(\"bloques\")\n",
    "plt.ylim(top=1.5)\n",
    "plt.plot(range(n_iterations),b1)\n",
    "plt.plot(range(n_iterations),b2)"
   ]
  },
  {
   "cell_type": "code",
   "execution_count": null,
   "metadata": {
    "id": "WQCZv6XdVJOI"
   },
   "outputs": [],
   "source": [
    "# plot supply rate\n",
    "t1 = []\n",
    "t2 = []\n",
    "for i in range(n_iterations):\n",
    "  t_MK1 = MK1[i][5]\n",
    "  t_MK2 = MK2[i][5]\n",
    "  t1.append(t_MK1)\n",
    "  t2.append(t_MK2)\n",
    "\n",
    "plt.title(\"Prestamos por bloque\")\n",
    "plt.ylabel(\"Total prestado\")\n",
    "plt.xlabel(\"bloques\")\n",
    "#plt.ylim(top=1.5)\n",
    "plt.scatter(range(n_iterations),t1)\n",
    "plt.scatter(range(n_iterations),t2)"
   ]
  },
  {
   "cell_type": "code",
   "execution_count": null,
   "metadata": {
    "id": "sCqOKFY2G8dq"
   },
   "outputs": [],
   "source": [
    "# plot borrow rate\n",
    "variableHistory = []\n",
    "borrow1 = []\n",
    "borrow2 = []\n",
    "util1 = []\n",
    "util2 = []\n",
    "k=0\n",
    "for i in range(n_iterations):\n",
    "  utilization1 = getUtilizationRate(MK1,k)\n",
    "  utilization2 = getUtilizationRate(MK2,k) \n",
    "  util1.append(utilization1)\n",
    "  util2.append(utilization2)\n",
    "  borrow1.append(getBorrowAPR(utilization1))\n",
    "  borrow2.append(getBorrowAPR(utilization2))\n",
    "  k += 1\n",
    "\n",
    "plt.title(\"BorrowRate vs UtilizationRate\")\n",
    "plt.ylabel(\"BorrowRate\")\n",
    "plt.xlabel(\"UtilizationRate\")\n",
    "plt.ylim(top=0.12)\n",
    "plt.scatter(util1,borrow1)\n",
    "plt.scatter(util2,borrow2)"
   ]
  },
  {
   "cell_type": "code",
   "execution_count": null,
   "metadata": {
    "id": "Sq7fadXdQlEy"
   },
   "outputs": [],
   "source": [
    "fig = go.Figure() #data=go.Scatter(x=x, y=y, name = \"Borrow APR\")\n",
    "\n",
    "#fig.add_trace(go.Scatter(x=x,y=S,name=\"Supply APR\"))\n",
    "fig.add_trace(go.Scatter(x=util1,y=borrow1,name=\"Supply APR - simulación\"))\n",
    "fig.add_trace(go.Scatter(x=util2,y=borrow2,name=\"Borrow APR - simulación\"))\n",
    "fig.update_layout(xaxis_title='Tasa de utilización',\n",
    "                  yaxis_title='Tasa APR')\n",
    "fig.show()"
   ]
  },
  {
   "cell_type": "code",
   "execution_count": null,
   "metadata": {
    "id": "MFuUg4e_LKau"
   },
   "outputs": [],
   "source": [
    "# plot supply rate\n",
    "variableHistory = []\n",
    "supply1 = []\n",
    "supply2 = []\n",
    "util1 = []\n",
    "util2 = []\n",
    "k=0\n",
    "for i in range(n_iterations):\n",
    "  utilization1 = getUtilizationRate(MK1,k)\n",
    "  utilization2 = getUtilizationRate(MK2,k) \n",
    "  borrowRate1 = getBorrowAPR(utilization1)\n",
    "  borrowRate2 = getBorrowAPR(utilization2)\n",
    "  supplyRate1 = getSupplyAPR(borrowRate1,0.2,utilization1)\n",
    "  supplyRate2 = getSupplyAPR(borrowRate2,0.15,utilization2)\n",
    "  util1.append(utilization1)\n",
    "  util2.append(utilization2)\n",
    "  supply1.append(supplyRate1)\n",
    "  supply2.append(supplyRate2)\n",
    "  k += 1\n",
    "\n",
    "plt.title(\"supplyRate vs UtilizationRate\")\n",
    "plt.ylabel(\"SupplyRate\")\n",
    "plt.xlabel(\"UtilizationRate\")\n",
    "\n",
    "plt.scatter(util1,supply1)\n",
    "plt.scatter(util2,supply2)"
   ]
  },
  {
   "cell_type": "code",
   "execution_count": null,
   "metadata": {
    "id": "-4OfvvS0L_wu"
   },
   "outputs": [],
   "source": [
    "# precio de las reservas por bloque\n",
    "reserve1 = []\n",
    "reserve2 = []\n",
    "k=0\n",
    "for i in range(n_iterations):\n",
    "  totalReserve1 = totalReserveMarket(MK1,k,0.2)*MK1_prices[k]\n",
    "  totalReserve2 = totalReserveMarket(MK2,k,0.15)*MK2_prices[k]\n",
    "  reserve1.append(totalReserve1)\n",
    "  reserve2.append(totalReserve2)\n",
    "  k += 1\n",
    "\n",
    "plt.title(\"Reservas por bloque\")\n",
    "plt.ylabel(\"Precio de las reservas\")\n",
    "plt.xlabel(\"bloques\")\n",
    "plt.scatter(range(n_iterations),reserve1)\n",
    "plt.scatter(range(n_iterations),reserve2)"
   ]
  },
  {
   "cell_type": "code",
   "execution_count": null,
   "metadata": {
    "id": "HLFOR9fbYC1m"
   },
   "outputs": [],
   "source": [
    "# precio de las reservas por bloque\n",
    "reserve1 = []\n",
    "reserve2 = []\n",
    "k=0\n",
    "for i in range(n_iterations):\n",
    "  totalReserve1 = totalReserveMarket(MK1,k,0.2)\n",
    "  totalReserve2 = totalReserveMarket(MK2,k,0.15)\n",
    "  reserve1.append(totalReserve1)\n",
    "  reserve2.append(totalReserve2)\n",
    "  k += 1\n",
    "\n",
    "plt.title(\"Reservas por bloque\")\n",
    "plt.ylabel(\"Precio de las reservas\")\n",
    "plt.xlabel(\"bloques\")\n",
    "plt.scatter(range(n_iterations),reserve1)\n",
    "#plt.scatter(range(n_iterations),reserve2)"
   ]
  },
  {
   "cell_type": "code",
   "execution_count": null,
   "metadata": {
    "id": "R_k0gnISfdyF"
   },
   "outputs": [],
   "source": [
    "plt.scatter(range(n_iterations),reserve2)"
   ]
  },
  {
   "cell_type": "code",
   "execution_count": null,
   "metadata": {
    "id": "_tdAzh0eTSU3"
   },
   "outputs": [],
   "source": [
    "# plot supply rate\n",
    "totalBorrow1 = []\n",
    "totalBorrow2 = []\n",
    "for i in range(n_iterations):\n",
    "  totalBorrow1.append(MK1[i][6])\n",
    "  totalBorrow2.append(MK2[i][6])\n",
    "\n",
    "plt.title(\"Prestamos por bloque\")\n",
    "plt.ylabel(\"Total prestado\")\n",
    "plt.xlabel(\"bloques\")\n",
    "#plt.scatter(range(n_iterations-10),totalBorrow1[10:])\n",
    "plt.scatter(range(n_iterations-200),totalBorrow2[200:])"
   ]
  },
  {
   "cell_type": "code",
   "execution_count": null,
   "metadata": {
    "id": "XEe8IztzTZJt"
   },
   "outputs": [],
   "source": [
    "# plot supply rate\n",
    "totalBorrow1 = []\n",
    "totalBorrow2 = []\n",
    "for i in range(n_iterations):\n",
    "  totalBorrow_MK1 = MK1[i][6]\n",
    "  totalBorrow_MK2 = MK2[i][6]\n",
    "  totalBorrow1.append(totalBorrow_MK1*MK1_prices[i])\n",
    "  totalBorrow2.append(totalBorrow_MK2*MK2_prices[i])\n",
    "\n",
    "plt.title(\"Prestamos por bloque\")\n",
    "plt.ylabel(\"Total prestado\")\n",
    "plt.xlabel(\"bloques\")\n",
    "plt.scatter(range(n_iterations-10),totalBorrow1[10:])\n",
    "plt.scatter(range(n_iterations-10),totalBorrow2[10:])"
   ]
  },
  {
   "cell_type": "code",
   "execution_count": null,
   "metadata": {
    "id": "S6tPn_APlmQW"
   },
   "outputs": [],
   "source": [
    "ctk1 = []\n",
    "ctk2 = []\n",
    "for i in range(n_iterations):\n",
    "  ctk_MK1 = MK1[i][4]\n",
    "  ctk_MK2 = MK2[i][4]\n",
    "  ctk1.append(ctk_MK1)\n",
    "  ctk2.append(ctk_MK2)\n",
    "\n",
    "plt.title(\"Prestamos por bloque\")\n",
    "plt.ylabel(\"Total prestado\")\n",
    "plt.xlabel(\"bloques\")\n",
    "plt.scatter(range(n_iterations),ctk1)\n",
    "plt.scatter(range(n_iterations),ctk2)"
   ]
  },
  {
   "cell_type": "code",
   "execution_count": null,
   "metadata": {
    "id": "_giqZEDOy0c4"
   },
   "outputs": [],
   "source": [
    "MK1[0][2]"
   ]
  },
  {
   "cell_type": "code",
   "execution_count": null,
   "metadata": {
    "id": "aFeD8GN_2145"
   },
   "outputs": [],
   "source": [
    "def amountEstimation(market,blockNumber,mean=500,scale=0.5):\n",
    "    if 0 <= market[blockNumber][0] < 0.125:\n",
    "        collBorrow = mean*(1-3*scale)\n",
    "        loanBorrow = mean*(1+3*scale)\n",
    "        withdraw = mean*(1+(3/10)*scale)\n",
    "    elif 0.125 <= market[blockNumber][0] < 0.25:\n",
    "        collBorrow = mean*(1-2*scale)\n",
    "        loanBorrow = mean*(1+2*scale)\n",
    "        withdraw = mean*(1+(2/10)*scale)\n",
    "    elif 0.25 <= market[blockNumber][0] < 0.5:\n",
    "        collBorrow = mean*(1-scale)\n",
    "        loanBorrow = mean*(1+scale)\n",
    "        withdraw = mean*(1+(1/10)*scale)\n",
    "    elif 0.5 <= market[blockNumber][0] < 0.75:\n",
    "        collBorrow = mean*(1+scale)\n",
    "        loanBorrow = mean*(1-scale)\n",
    "        withdraw = mean*(1-(1/10)*scale)\n",
    "    elif 0.75 <= market[blockNumber][0] < 0.875:\n",
    "        collBorrow = mean*(1+2*scale)\n",
    "        loanBorrow = mean*(1-2*scale)\n",
    "        withdraw = mean*(1-(2/10)*scale)\n",
    "    elif 0.875 <= market[blockNumber][0] <= 1:\n",
    "        collBorrow = mean*(1+3*scale)\n",
    "        loanBorrow = mean*(1-3*scale)\n",
    "        withdraw = mean*(1-(3/10)*scale)\n",
    "    amountPerAction = [collBorrow,loanBorrow,withdraw]\n",
    "    for i in range(len(amountPerAction)):\n",
    "        if amountPerAction[i] <= 0:\n",
    "            amountPerAction[i] = 0 \n",
    "    return amountPerAction\n",
    "\n",
    "amountEstimation(MK1,0)"
   ]
  },
  {
   "cell_type": "code",
   "execution_count": null,
   "metadata": {
    "id": "31uXQn6jzPzL"
   },
   "outputs": [],
   "source": []
  }
 ],
 "metadata": {
  "colab": {
   "collapsed_sections": [],
   "name": "TROP_Simulación_modelo_financiero_vV3.ipynb",
   "provenance": []
  },
  "kernelspec": {
   "display_name": "Python 3",
   "language": "python",
   "name": "python3"
  },
  "language_info": {
   "codemirror_mode": {
    "name": "ipython",
    "version": 3
   },
   "file_extension": ".py",
   "mimetype": "text/x-python",
   "name": "python",
   "nbconvert_exporter": "python",
   "pygments_lexer": "ipython3",
   "version": "3.8.5"
  }
 },
 "nbformat": 4,
 "nbformat_minor": 1
}
